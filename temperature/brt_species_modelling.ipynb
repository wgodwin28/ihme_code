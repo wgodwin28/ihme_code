{
 "cells": [
  {
   "cell_type": "code",
   "execution_count": 45,
   "metadata": {
    "collapsed": false
   },
   "outputs": [
    {
     "name": "stderr",
     "output_type": "stream",
     "text": [
      "\n",
      "Attaching package: ‘parallel’\n",
      "\n",
      "The following objects are masked from ‘package:snow’:\n",
      "\n",
      "    clusterApply, clusterApplyLB, clusterCall, clusterEvalQ,\n",
      "    clusterExport, clusterMap, clusterSplit, makeCluster, parApply,\n",
      "    parCapply, parLapply, parRapply, parSapply, splitIndices,\n",
      "    stopCluster\n",
      "\n"
     ]
    }
   ],
   "source": [
    "if (Sys.info()[1] == \"Linux\"){\n",
    "  j <- \"/home/j\"\n",
    "  h <- paste0(\"/home/\",Sys.info()[6]) # what is this 6?\n",
    "  package_lib <- paste0(j,'/temp/stearns7/packages_cl') # Library for packages on cluster. Ensures that none of this code is dependent on the machine where the user runs the code.\n",
    "  repo <- '/share/code/geospatial/stearns7/eco_niche'\n",
    "}else{\n",
    "  j <- \"J:\"\n",
    "  h <- \"H:\"\n",
    "  package_lib <- paste0(j,'/temp/stearns7/packages') #library for packages locally\n",
    "}\n",
    "library('parallel')\n",
    "slots = 25\n",
    "cores_to_use = ifelse(grepl('Intel', system(\"cat /proc/cpuinfo | grep \\'name\\'| uniq\", inter = T)), floor(slots * .86), floor(slots*.64))\n"
   ]
  },
  {
   "cell_type": "code",
   "execution_count": 3,
   "metadata": {
    "collapsed": true
   },
   "outputs": [],
   "source": [
    "## Set data location\n",
    "data_loc <- (paste0(j, '/temp/stearns7/schisto/data/eco_niche_data'))\n",
    "\n",
    "## Load libraries\n",
    "setwd(repo)\n",
    "\n",
    "# Library for packages. Ensures that none of this code is dependent on the machine where the user runs the code.\n",
    ".libPaths(package_lib)# Ensures packages look for dependencies here when called with library().\n",
    "\n",
    "# Load functions files\n",
    "source(paste0(repo, '/econiche_central/functions.R'))                   \n",
    "source(paste0(repo, '/econiche_central/econiche_qsub.R'))  \n",
    "source(paste0(repo, '/econiche_central/check_loc_results.R'))"
   ]
  },
  {
   "cell_type": "code",
   "execution_count": 4,
   "metadata": {
    "collapsed": false
   },
   "outputs": [
    {
     "name": "stderr",
     "output_type": "stream",
     "text": [
      "rgeos version: 0.3-22, (SVN revision 544)\n",
      " GEOS runtime version: 3.3.2-CAPI-1.7.2 \n",
      " Linking to sp version: 1.2-4 \n",
      " Polygon checking: TRUE \n",
      "\n",
      "Loading required package: sp\n",
      "\n",
      "Attaching package: ‘raster’\n",
      "\n",
      "The following object is masked from ‘package:data.table’:\n",
      "\n",
      "    shift\n",
      "\n",
      "The following objects are masked from ‘package:MASS’:\n",
      "\n",
      "    area, select\n",
      "\n",
      "rgdal: version: 1.2-4, (SVN revision 643)\n",
      " Geospatial Data Abstraction Library extensions to R successfully loaded\n",
      " Loaded GDAL runtime: GDAL 1.7.3, released 2010/11/10\n",
      " Path to GDAL shared files: /usr/share/gdal\n",
      " GDAL does not use iconv for recoding strings.\n",
      " Loaded PROJ.4 runtime: Rel. 4.7.1, 23 September 2009, [PJ_VERSION: 470]\n",
      " Path to PROJ.4 shared files: (autodetected)\n",
      " Linking to sp version: 1.2-3 \n",
      "Warning message:\n",
      "“package ‘seegSDM’ was built under R version 3.3.2”Loading required package: snowfall\n",
      "Loading required package: snow\n"
     ]
    }
   ],
   "source": [
    "package_list <- c('car', 'MASS', 'ggplot2', 'rgeos', 'data.table','raster','rgdal', 'seegSDM','sp')\n",
    "for(package in package_list) {\n",
    "  library(package, lib.loc = package_lib, character.only=TRUE)\n",
    "}"
   ]
  },
  {
   "cell_type": "code",
   "execution_count": 5,
   "metadata": {
    "collapsed": true
   },
   "outputs": [],
   "source": [
    "## Create run date in correct format - calls make_time_stamp function from 'functions' - copied from Nick Graetz's in 'prep_functions' for MBG code\n",
    "time_stamp <- TRUE \n",
    "run_date <- make_time_stamp(time_stamp)\n",
    "\n",
    "# Set output path\n",
    "outpath <- (paste0(data_loc, '/output'))"
   ]
  },
  {
   "cell_type": "code",
   "execution_count": 6,
   "metadata": {
    "collapsed": true
   },
   "outputs": [],
   "source": [
    "# Load covariate raster brick here (created ahead of time)\n",
    "covs <- brick(paste0(data_loc, \"/covariates/schisto_covs.grd\"))"
   ]
  },
  {
   "cell_type": "code",
   "execution_count": 8,
   "metadata": {
    "collapsed": false
   },
   "outputs": [],
   "source": [
    "occ <- read.csv(file = (paste0(data_loc, '/man_fin.csv')))"
   ]
  },
  {
   "cell_type": "code",
   "execution_count": 27,
   "metadata": {
    "collapsed": false
   },
   "outputs": [
    {
     "name": "stdout",
     "output_type": "stream",
     "text": [
      "[1] \"Loading grid for background point generation\"\n"
     ]
    }
   ],
   "source": [
    "# Generate pseudo-absence data according to the aridity surface and suppress weighting (prob=FALSE) so as to not weight by aridity pixel values\n",
    "aridity <- raster(paste0(data_loc, \"/covariates/aridity_annual.tif\"))\n",
    "print('Loading grid for background point generation')\n",
    "\n",
    "bg <- bgSample(aridity, # Weighting grid - population in this case, custom function defined in github \n",
    "               n = 1600, # Background data points desired\n",
    "               prob = FALSE, # Set to FALSE so doesn't weight by raster specified above\n",
    "               replace = TRUE,\n",
    "spatial = FALSE)\n",
    "\n",
    "colnames(bg) <- c('long', 'lat') \n",
    "bg = data.frame(bg)"
   ]
  },
  {
   "cell_type": "code",
   "execution_count": 28,
   "metadata": {
    "collapsed": true
   },
   "outputs": [],
   "source": [
    "# Add an outbreak id to this\n",
    "bg$outbreak_id <- 0"
   ]
  },
  {
   "cell_type": "code",
   "execution_count": 29,
   "metadata": {
    "collapsed": false
   },
   "outputs": [],
   "source": [
    "#this seems convoluted\n",
    "dat <- rbind(cbind(PA = rep(1, nrow(occ)),\n",
    "                   occ[, c('long', 'lat', 'outbreak_id')]),\n",
    "             cbind(PA = rep(0, nrow(bg)),bg))"
   ]
  },
  {
   "cell_type": "code",
   "execution_count": 30,
   "metadata": {
    "collapsed": false
   },
   "outputs": [],
   "source": [
    "#need to drop 'outbreak_id'\n",
    "dat <- dat[,c(1:3)]\n"
   ]
  },
  {
   "cell_type": "code",
   "execution_count": 31,
   "metadata": {
    "collapsed": true
   },
   "outputs": [],
   "source": [
    "dat_covs <- extract(covs, dat[, 2:3])"
   ]
  },
  {
   "cell_type": "code",
   "execution_count": 32,
   "metadata": {
    "collapsed": true
   },
   "outputs": [],
   "source": [
    "dat_all <- cbind(dat, dat_covs)"
   ]
  },
  {
   "cell_type": "code",
   "execution_count": 33,
   "metadata": {
    "collapsed": true
   },
   "outputs": [],
   "source": [
    "dat_all <- na.omit(dat_all)"
   ]
  },
  {
   "cell_type": "code",
   "execution_count": 46,
   "metadata": {
    "collapsed": false
   },
   "outputs": [],
   "source": [
    "#create multiple versions of the dataset via sample\n",
    "data_sample = lapply(1:25, function(x) subsample(dat_all, 800, minimum= c(30,30)))"
   ]
  },
  {
   "cell_type": "code",
   "execution_count": 47,
   "metadata": {
    "collapsed": false
   },
   "outputs": [
    {
     "name": "stderr",
     "output_type": "stream",
     "text": [
      "Warning message:\n",
      "“closing unused connection 4 (/tmp/RtmpijLiOd/raster///r_tmp_2017-01-14_091231_47975_97588.gri)”"
     ]
    }
   ],
   "source": [
    "#Run the brts\n",
    "models <- mclapply(data_sample, function(x) runBRT(x,\n",
    "          gbm.x = 4:ncol(x),\n",
    "          gbm.y = 1,\n",
    "          pred.raster = covs, #brick\n",
    "          gbm.coords = 2:3,\n",
    "          wt = function(PA) ifelse(PA == 1, 1, sum(PA) / sum(1 - PA))),mc.cores = cores_to_use )"
   ]
  },
  {
   "cell_type": "code",
   "execution_count": 53,
   "metadata": {
    "collapsed": false
   },
   "outputs": [],
   "source": [
    "#get model stats\n",
    "model_stats <- suppressWarnings(lapply(models, function(x) getStats(x)))"
   ]
  },
  {
   "cell_type": "code",
   "execution_count": 54,
   "metadata": {
    "collapsed": true
   },
   "outputs": [],
   "source": [
    "#get all the prediction results\n",
    "preds <- brick(lapply(models, '[[', 4)) #4th component likely the prediction raster layer\n",
    "# summarise the predictions in parallel\n",
    "preds_sry <- combinePreds(preds)"
   ]
  },
  {
   "cell_type": "code",
   "execution_count": 55,
   "metadata": {
    "collapsed": false
   },
   "outputs": [
    {
     "ename": "ERROR",
     "evalue": "Error in eval(expr, envir, enclos): could not find function \"rblindlist\"\n",
     "output_type": "error",
     "traceback": [
      "Error in eval(expr, envir, enclos): could not find function \"rblindlist\"\nTraceback:\n"
     ]
    }
   ],
   "source": [
    "model_stats = rblindlist(model_stats)"
   ]
  },
  {
   "cell_type": "code",
   "execution_count": null,
   "metadata": {
    "collapsed": true
   },
   "outputs": [],
   "source": [
    "head(model_stats)"
   ]
  },
  {
   "cell_type": "code",
   "execution_count": null,
   "metadata": {
    "collapsed": false
   },
   "outputs": [],
   "source": []
  },
  {
   "cell_type": "code",
   "execution_count": null,
   "metadata": {
    "collapsed": true
   },
   "outputs": [],
   "source": []
  }
 ],
 "metadata": {
  "anaconda-cloud": {},
  "kernelspec": {
   "display_name": "R",
   "language": "R",
   "name": "ir"
  },
  "language_info": {
   "codemirror_mode": "r",
   "file_extension": ".r",
   "mimetype": "text/x-r-source",
   "name": "R",
   "pygments_lexer": "r",
   "version": "3.3.1"
  }
 },
 "nbformat": 4,
 "nbformat_minor": 1
}
