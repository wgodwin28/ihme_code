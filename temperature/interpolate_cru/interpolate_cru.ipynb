{
 "cells": [
  {
   "cell_type": "code",
   "execution_count": 1,
   "metadata": {
    "collapsed": false
   },
   "outputs": [
    {
     "name": "stderr",
     "output_type": "stream",
     "text": [
      "rgdal: version: 1.2-4, (SVN revision 643)\n",
      " Geospatial Data Abstraction Library extensions to R successfully loaded\n",
      " Loaded GDAL runtime: GDAL 1.7.3, released 2010/11/10\n",
      " Path to GDAL shared files: /usr/share/gdal\n",
      " GDAL does not use iconv for recoding strings.\n",
      " Loaded PROJ.4 runtime: Rel. 4.7.1, 23 September 2009, [PJ_VERSION: 470]\n",
      " Path to PROJ.4 shared files: (autodetected)\n",
      " Linking to sp version: 1.2-3 \n",
      "\n",
      "Attaching package: ‘data.table’\n",
      "\n",
      "The following object is masked from ‘package:raster’:\n",
      "\n",
      "    shift\n",
      "\n",
      "\n",
      "Attaching package: ‘snow’\n",
      "\n",
      "The following objects are masked from ‘package:parallel’:\n",
      "\n",
      "    clusterApply, clusterApplyLB, clusterCall, clusterEvalQ,\n",
      "    clusterExport, clusterMap, clusterSplit, makeCluster, parApply,\n",
      "    parCapply, parLapply, parRapply, parSapply, splitIndices,\n",
      "    stopCluster\n",
      "\n"
     ]
    }
   ],
   "source": [
    "#Load libraries\n",
    "pack_lib = '/home/j/temp/dccasey/temperature/packages/'\n",
    ".libPaths(pack_lib)\n",
    "library('parallel')\n",
    "library('sp')\n",
    "library('rgdal', lib.loc = '/home/j/temp/geospatial/packages')\n",
    "for(ppp in c('raster','ncdf4','data.table','foreach', 'snow')){\n",
    "    library(ppp, lib.loc = pack_lib, character.only =T)\n",
    "}"
   ]
  },
  {
   "cell_type": "code",
   "execution_count": 2,
   "metadata": {
    "collapsed": false
   },
   "outputs": [],
   "source": [
    "#set raster options\n",
    "#slots = 25\n",
    "#gigs_per_cell = 0.000000007511822 #based off some random tests\n",
    "#num_of_cells_in_mem = ((25*2)-5)/gigs_per_cell #allow 5 gigs of overhead\n",
    "#rasterOptions(chunksize = num_of_cells_in_mem/10)\n",
    "rasterOptions(maxmemory = 1e9)"
   ]
  },
  {
   "cell_type": "code",
   "execution_count": 3,
   "metadata": {
    "collapsed": false
   },
   "outputs": [
    {
     "name": "stdout",
     "output_type": "stream",
     "text": [
      "format        : raster \n",
      "datatype      : FLT8S \n",
      "overwrite     : FALSE \n",
      "progress      : none \n",
      "timer         : FALSE \n",
      "chunksize     : 1e+07 \n",
      "maxmemory     : 1e+09 \n",
      "tmpdir        : /tmp/Rtmp78CVB8/raster// \n",
      "tmptime       : 168 \n",
      "setfileext    : TRUE \n",
      "tolerance     : 0.1 \n",
      "standardnames : TRUE \n",
      "warn depracat.: TRUE \n",
      "header        : none\n"
     ]
    }
   ],
   "source": [
    "rasterOptions()"
   ]
  },
  {
   "cell_type": "code",
   "execution_count": 4,
   "metadata": {
    "collapsed": true
   },
   "outputs": [],
   "source": [
    "#set some paths\n",
    "data.dir = '/home/j/temp/dccasey/temperature/data/cru_ts/'\n",
    "pop.dir = '/home/j/WORK/01_covariates/02_inputs/population_counts/outputs/full_ts_1980_2015/'"
   ]
  },
  {
   "cell_type": "code",
   "execution_count": 5,
   "metadata": {
    "collapsed": false
   },
   "outputs": [],
   "source": [
    "cru_years = c('1981.1990', '1991.2000','2001.2010','2011.2015')\n",
    "cru_max = lapply(paste0(data.dir,'cru_ts3.24.',cru_years,'.tmx.dat.nc'), function(x) brick(x))\n",
    "cru_min = lapply(paste0(data.dir,'cru_ts3.24.',cru_years,'.tmn.dat.nc'), function(x) brick(x))"
   ]
  },
  {
   "cell_type": "code",
   "execution_count": 6,
   "metadata": {
    "collapsed": false
   },
   "outputs": [],
   "source": [
    "#drop years we don't need\n",
    "nine = names(cru_max[[1]])[as.numeric(substr(names(cru_max[[1]]),2,5))>=1989]\n",
    "cru_max[[1]] = cru_max[[1]][[nine]]\n",
    "cru_min[[1]] = cru_min[[1]][[nine]]"
   ]
  },
  {
   "cell_type": "code",
   "execution_count": 7,
   "metadata": {
    "collapsed": true
   },
   "outputs": [],
   "source": [
    "#brick the crus\n",
    "cru_max = brick(cru_max)\n",
    "cru_min = brick(cru_min)"
   ]
  },
  {
   "cell_type": "code",
   "execution_count": 8,
   "metadata": {
    "collapsed": true
   },
   "outputs": [],
   "source": [
    "#drop the days from the names\n",
    "names(cru_max) = substr(names(cru_max), 1,nchar(names(cru_max))-3)\n",
    "names(cru_min) = substr(names(cru_min), 1,nchar(names(cru_min))-3)"
   ]
  },
  {
   "cell_type": "code",
   "execution_count": 9,
   "metadata": {
    "collapsed": false
   },
   "outputs": [
    {
     "data": {
      "text/html": [
       "<ol class=list-inline>\n",
       "\t<li>360</li>\n",
       "\t<li>720</li>\n",
       "\t<li>324</li>\n",
       "</ol>\n"
      ],
      "text/latex": [
       "\\begin{enumerate*}\n",
       "\\item 360\n",
       "\\item 720\n",
       "\\item 324\n",
       "\\end{enumerate*}\n"
      ],
      "text/markdown": [
       "1. 360\n",
       "2. 720\n",
       "3. 324\n",
       "\n",
       "\n"
      ],
      "text/plain": [
       "[1] 360 720 324"
      ]
     },
     "metadata": {},
     "output_type": "display_data"
    }
   ],
   "source": [
    "dim(cru_max)"
   ]
  },
  {
   "cell_type": "code",
   "execution_count": 10,
   "metadata": {
    "collapsed": false
   },
   "outputs": [
    {
     "data": {
      "text/html": [
       "'X2015.12'"
      ],
      "text/latex": [
       "'X2015.12'"
      ],
      "text/markdown": [
       "'X2015.12'"
      ],
      "text/plain": [
       "[1] \"X2015.12\""
      ]
     },
     "metadata": {},
     "output_type": "display_data"
    }
   ],
   "source": [
    "names(cru_max)[dim(cru_max)[3]]"
   ]
  },
  {
   "cell_type": "code",
   "execution_count": 11,
   "metadata": {
    "collapsed": false
   },
   "outputs": [],
   "source": [
    "#number of days per month\n",
    "#from Jan 1 1989 - Dec 31 2016 there are 10,226 days\n",
    "num_day_month = c(31,28,31,30,31,30,31,31,30,31,30,31)\n",
    "days = as.character(seq(as.Date('1989/01/01'), as.Date('2015/12/31'), by = 'day'))\n",
    "months = as.character(seq(as.Date('1989/01/01'), as.Date('2015/12/01'), by = 'month'))\n",
    "months = substr(months, 1,nchar(months)-3)"
   ]
  },
  {
   "cell_type": "code",
   "execution_count": 12,
   "metadata": {
    "collapsed": false
   },
   "outputs": [],
   "source": [
    "#Find the mid point\n",
    "mid_points = as.vector(lapply(months, function(x) grep(x,days,value =T)[round(length(grep(x,days,value =T))/2)]))\n"
   ]
  },
  {
   "cell_type": "code",
   "execution_count": null,
   "metadata": {
    "collapsed": false
   },
   "outputs": [],
   "source": []
  },
  {
   "cell_type": "code",
   "execution_count": 13,
   "metadata": {
    "collapsed": false
   },
   "outputs": [],
   "source": [
    "#find the mid_point_id\n",
    "mp_loc = days %in% mid_points\n",
    "mp_day_locs = (1:length(days))[mp_loc]"
   ]
  },
  {
   "cell_type": "code",
   "execution_count": 14,
   "metadata": {
    "collapsed": true
   },
   "outputs": [],
   "source": [
    "interp_row_simple <- function(value_vector) {\n",
    "  if (any(is.na(value_vector))) {\n",
    "    return(rep(NA, length(1:length(days))))\n",
    "  } else {\n",
    "    return(approx(x = mp_day_locs, y= value_vector, xout = 1:length(days), rule=2)$y)\n",
    "  }\n",
    "}"
   ]
  },
  {
   "cell_type": "code",
   "execution_count": 15,
   "metadata": {
    "collapsed": true
   },
   "outputs": [],
   "source": [
    "spline_row_simple <- function(value_vector) {\n",
    "  if (any(is.na(value_vector))) {\n",
    "    return(rep(NA, length(1:length(days))))\n",
    "  } else {\n",
    "    return(spline(x = mp_day_locs, y= value_vector, xout = 1:length(days))$y)\n",
    "  }\n",
    "}"
   ]
  },
  {
   "cell_type": "code",
   "execution_count": 16,
   "metadata": {
    "collapsed": false
   },
   "outputs": [],
   "source": [
    "#start the cluster\n",
    "#beginCluster(4, exclude = c('rgdal','raster'))"
   ]
  },
  {
   "cell_type": "code",
   "execution_count": 17,
   "metadata": {
    "collapsed": false
   },
   "outputs": [],
   "source": [
    "#max_interp = clusterR(cru_max, calc, args = list(fun = interp_row_simple), export = c('days', 'mp_day_locs'))"
   ]
  },
  {
   "cell_type": "code",
   "execution_count": 18,
   "metadata": {
    "collapsed": true
   },
   "outputs": [],
   "source": [
    "#min_interp = clusterR(cru_min, calc, args = list(fun = interp_row_simple), export = c('days', 'mp_day_locs'))"
   ]
  },
  {
   "cell_type": "code",
   "execution_count": 19,
   "metadata": {
    "collapsed": true
   },
   "outputs": [],
   "source": [
    "#mean_interp = (max_interp+min_interp)/2"
   ]
  },
  {
   "cell_type": "code",
   "execution_count": 20,
   "metadata": {
    "collapsed": false
   },
   "outputs": [],
   "source": [
    "#clean up workspace\n",
    "#rm(max_interp)\n",
    "#rm(min_interp)"
   ]
  },
  {
   "cell_type": "code",
   "execution_count": 21,
   "metadata": {
    "collapsed": true
   },
   "outputs": [],
   "source": [
    "#end cluster\n",
    "#endCluster()"
   ]
  },
  {
   "cell_type": "code",
   "execution_count": 22,
   "metadata": {
    "collapsed": true
   },
   "outputs": [],
   "source": [
    "#save the mean interp object"
   ]
  },
  {
   "cell_type": "code",
   "execution_count": null,
   "metadata": {
    "collapsed": false
   },
   "outputs": [],
   "source": []
  },
  {
   "cell_type": "code",
   "execution_count": 23,
   "metadata": {
    "collapsed": false
   },
   "outputs": [],
   "source": [
    "#wahoo parallel\n",
    "#ptm <- proc.time()\n",
    "#beginCluster(round(slots *7), exclude = c('rgdal','raster'))\n",
    "#max_interp = clusterR(cru_max, calc, args = list(fun = interp_row_simple), export = c('days', 'mp_day_locs'))\n",
    "#endCluster()\n",
    "#runtime = proc.time() - ptm\n"
   ]
  },
  {
   "cell_type": "code",
   "execution_count": 24,
   "metadata": {
    "collapsed": false
   },
   "outputs": [],
   "source": [
    "#max_interp = clusterR(cru_max, calc, args = list(fun = interp_row_simple), export = c('days', 'mp_day_locs'))\n",
    "#min_interp = clusterR(cru_min, calc, args = list(fun = interp_row_simple), export = c('days', 'mp_day_locs'))\n",
    "#mean_interp = (max_interp+min_interp)/2"
   ]
  },
  {
   "cell_type": "code",
   "execution_count": 25,
   "metadata": {
    "collapsed": false
   },
   "outputs": [],
   "source": [
    "max_interp = calc(cru_max, function(y) spline_row_simple(y))"
   ]
  },
  {
   "cell_type": "code",
   "execution_count": 26,
   "metadata": {
    "collapsed": true
   },
   "outputs": [],
   "source": [
    "min_interp = calc(cru_min, function(y) spline_row_simple(y))"
   ]
  },
  {
   "cell_type": "code",
   "execution_count": 27,
   "metadata": {
    "collapsed": true
   },
   "outputs": [],
   "source": [
    "mean_interp = (max_interp+min_interp)/2\n",
    "rm(max_interp)\n",
    "rm(min_interp)"
   ]
  },
  {
   "cell_type": "code",
   "execution_count": 29,
   "metadata": {
    "collapsed": true
   },
   "outputs": [],
   "source": [
    "names(mean_interp) = days"
   ]
  },
  {
   "cell_type": "code",
   "execution_count": 30,
   "metadata": {
    "collapsed": false
   },
   "outputs": [],
   "source": [
    "for(nnn in unique(substr(names(mean_interp),1,5))){\n",
    "    writeRaster(mean_interp[[grep(nnn,names(mean_interp))]], paste0('/share/geospatial/temperature/estimates/cru_spline_interp/',nnn,'_s_mean_interp.ncdf'))\n",
    "}"
   ]
  },
  {
   "cell_type": "code",
   "execution_count": null,
   "metadata": {
    "collapsed": false
   },
   "outputs": [],
   "source": [
    "summary(mean_interp[[2]])"
   ]
  },
  {
   "cell_type": "code",
   "execution_count": null,
   "metadata": {
    "collapsed": false
   },
   "outputs": [],
   "source": [
    "#save(mean_interp, file = '/home/j/temp/dccasey/temperature/mean_cru_interp_2.Rdata')"
   ]
  },
  {
   "cell_type": "code",
   "execution_count": null,
   "metadata": {
    "collapsed": true
   },
   "outputs": [],
   "source": [
    "#writeRaster(mean_interp, file = '/home/j/temp/dccasey/temperature/mean_cru_interp_2.ncdf')"
   ]
  },
  {
   "cell_type": "code",
   "execution_count": null,
   "metadata": {
    "collapsed": true
   },
   "outputs": [],
   "source": [
    "#write a raster per year\n",
    "names(mean_interp)[1:10]"
   ]
  },
  {
   "cell_type": "code",
   "execution_count": null,
   "metadata": {
    "collapsed": false
   },
   "outputs": [],
   "source": [
    "dim(mean_interp)\n",
    "length(days)\n",
    "names(mean_interp)[1]"
   ]
  },
  {
   "cell_type": "code",
   "execution_count": null,
   "metadata": {
    "collapsed": false
   },
   "outputs": [],
   "source": [
    "summary(mean_interp[[15:18]],na.rm=T)"
   ]
  },
  {
   "cell_type": "code",
   "execution_count": null,
   "metadata": {
    "collapsed": false
   },
   "outputs": [],
   "source": [
    "plot(mean_interp[[5]])"
   ]
  },
  {
   "cell_type": "code",
   "execution_count": null,
   "metadata": {
    "collapsed": true
   },
   "outputs": [],
   "source": []
  }
 ],
 "metadata": {
  "anaconda-cloud": {},
  "kernelspec": {
   "display_name": "R",
   "language": "R",
   "name": "ir"
  },
  "language_info": {
   "codemirror_mode": "r",
   "file_extension": ".r",
   "mimetype": "text/x-r-source",
   "name": "R",
   "pygments_lexer": "r",
   "version": "3.3.1"
  }
 },
 "nbformat": 4,
 "nbformat_minor": 1
}
