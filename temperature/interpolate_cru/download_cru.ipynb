{
 "cells": [
  {
   "cell_type": "code",
   "execution_count": 1,
   "metadata": {
    "collapsed": true
   },
   "outputs": [],
   "source": [
    "dl_dir = '/home/j/temp/dccasey/temperature/data/cru_ts'\n",
    "params = c('dtr','tmn','tmp','tmx')\n",
    "year_sets = c('1901.1910') #c('1981.1990', '1991.2000','2001.2010','2011.2015')"
   ]
  },
  {
   "cell_type": "code",
   "execution_count": 2,
   "metadata": {
    "collapsed": true
   },
   "outputs": [],
   "source": [
    "dl_params = expand.grid(var = params, year = year_sets)"
   ]
  },
  {
   "cell_type": "code",
   "execution_count": 3,
   "metadata": {
    "collapsed": false
   },
   "outputs": [
    {
     "data": {
      "text/html": [
       "<table>\n",
       "<thead><tr><th scope=col>var</th><th scope=col>year</th></tr></thead>\n",
       "<tbody>\n",
       "\t<tr><td>dtr      </td><td>1901.1910</td></tr>\n",
       "\t<tr><td>tmn      </td><td>1901.1910</td></tr>\n",
       "\t<tr><td>tmp      </td><td>1901.1910</td></tr>\n",
       "\t<tr><td>tmx      </td><td>1901.1910</td></tr>\n",
       "</tbody>\n",
       "</table>\n"
      ],
      "text/latex": [
       "\\begin{tabular}{r|ll}\n",
       " var & year\\\\\n",
       "\\hline\n",
       "\t dtr       & 1901.1910\\\\\n",
       "\t tmn       & 1901.1910\\\\\n",
       "\t tmp       & 1901.1910\\\\\n",
       "\t tmx       & 1901.1910\\\\\n",
       "\\end{tabular}\n"
      ],
      "text/markdown": [
       "\n",
       "var | year | \n",
       "|---|---|---|---|\n",
       "| dtr       | 1901.1910 | \n",
       "| tmn       | 1901.1910 | \n",
       "| tmp       | 1901.1910 | \n",
       "| tmx       | 1901.1910 | \n",
       "\n",
       "\n"
      ],
      "text/plain": [
       "  var year     \n",
       "1 dtr 1901.1910\n",
       "2 tmn 1901.1910\n",
       "3 tmp 1901.1910\n",
       "4 tmx 1901.1910"
      ]
     },
     "metadata": {},
     "output_type": "display_data"
    }
   ],
   "source": [
    "dl_params"
   ]
  },
  {
   "cell_type": "code",
   "execution_count": 4,
   "metadata": {
    "collapsed": true
   },
   "outputs": [],
   "source": [
    "#example link\n",
    "#https://crudata.uea.ac.uk/cru/data/hrg/cru_ts_3.24/cruts.1609301803.v3.24/tmn/cru_ts3.24.1901.1910.tmn.dat.nc.gz"
   ]
  },
  {
   "cell_type": "code",
   "execution_count": 5,
   "metadata": {
    "collapsed": true
   },
   "outputs": [],
   "source": [
    "setwd(dl_dir)"
   ]
  },
  {
   "cell_type": "code",
   "execution_count": 6,
   "metadata": {
    "collapsed": true
   },
   "outputs": [],
   "source": [
    "for(i in 1:nrow(dl_params)){\n",
    "    system(paste0('wget ','https://crudata.uea.ac.uk/cru/data/hrg/cru_ts_3.24/cruts.1609301803.v3.24/',dl_params[i,'var'],'/cru_ts3.24.',dl_params[i,'year'],'.',dl_params[i,'var'],'.dat.nc.gz'))\n",
    "}"
   ]
  },
  {
   "cell_type": "code",
   "execution_count": 14,
   "metadata": {
    "collapsed": false
   },
   "outputs": [
    {
     "data": {
      "text/html": [
       "'wget https://crudata.uea.ac.uk/cru/data/hrg/cru_ts_3.24/cruts.1609301803.v3.24/dtr/cru_ts3.24.1981.1990.dtr.dat.nc.gz'"
      ],
      "text/latex": [
       "'wget https://crudata.uea.ac.uk/cru/data/hrg/cru\\_ts\\_3.24/cruts.1609301803.v3.24/dtr/cru\\_ts3.24.1981.1990.dtr.dat.nc.gz'"
      ],
      "text/markdown": [
       "'wget https://crudata.uea.ac.uk/cru/data/hrg/cru_ts_3.24/cruts.1609301803.v3.24/dtr/cru_ts3.24.1981.1990.dtr.dat.nc.gz'"
      ],
      "text/plain": [
       "[1] \"wget https://crudata.uea.ac.uk/cru/data/hrg/cru_ts_3.24/cruts.1609301803.v3.24/dtr/cru_ts3.24.1981.1990.dtr.dat.nc.gz\""
      ]
     },
     "metadata": {},
     "output_type": "display_data"
    }
   ],
   "source": [
    "i = 1\n",
    "paste0('wget ','https://crudata.uea.ac.uk/cru/data/hrg/cru_ts_3.24/cruts.1609301803.v3.24/',dl_params[i,'var'],'/cru_ts3.24.',dl_params[i,'year'],'.',dl_params[i,'var'],'.dat.nc.gz')"
   ]
  },
  {
   "cell_type": "code",
   "execution_count": null,
   "metadata": {
    "collapsed": true
   },
   "outputs": [],
   "source": []
  }
 ],
 "metadata": {
  "anaconda-cloud": {},
  "kernelspec": {
   "display_name": "R",
   "language": "R",
   "name": "ir"
  },
  "language_info": {
   "codemirror_mode": "r",
   "file_extension": ".r",
   "mimetype": "text/x-r-source",
   "name": "R",
   "pygments_lexer": "r",
   "version": "3.3.1"
  }
 },
 "nbformat": 4,
 "nbformat_minor": 1
}
