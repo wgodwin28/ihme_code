{
 "cells": [
  {
   "cell_type": "code",
   "execution_count": 54,
   "metadata": {
    "collapsed": true
   },
   "outputs": [],
   "source": [
    "library(data.table)"
   ]
  },
  {
   "cell_type": "code",
   "execution_count": 55,
   "metadata": {
    "collapsed": true
   },
   "outputs": [],
   "source": [
    "#load central functions\n",
    "central_funks = list.files('/home/j/temp/central_comp/libraries/current/r/', \".R\")"
   ]
  },
  {
   "cell_type": "code",
   "execution_count": 56,
   "metadata": {
    "collapsed": false
   },
   "outputs": [],
   "source": [
    "for(fff in central_funks) {\n",
    "    source(paste0('/home/j/temp/central_comp/libraries/current/r/',fff))\n",
    "}"
   ]
  },
  {
   "cell_type": "code",
   "execution_count": 57,
   "metadata": {
    "collapsed": false
   },
   "outputs": [],
   "source": [
    "#get the ages for relative risks\n",
    "demos = get_demographics(gbd_team = 'epi')"
   ]
  },
  {
   "cell_type": "code",
   "execution_count": 58,
   "metadata": {
    "collapsed": true
   },
   "outputs": [],
   "source": [
    "#load the relative risk sheets\n",
    "rrs = data.table(read.csv('/home/j/temp/dccasey/temperature/risk/placeholder_bunker_temperature_risk.csv'))"
   ]
  },
  {
   "cell_type": "code",
   "execution_count": 59,
   "metadata": {
    "collapsed": false
   },
   "outputs": [],
   "source": [
    "#cross over by morbid/mort\n",
    "cross_over = data.table(table(rrs[,c('acause','measure')]))"
   ]
  },
  {
   "cell_type": "code",
   "execution_count": 60,
   "metadata": {
    "collapsed": false
   },
   "outputs": [
    {
     "name": "stderr",
     "output_type": "stream",
     "text": [
      "Using 'N' as value column. Use 'value.var' to override\n"
     ]
    }
   ],
   "source": [
    "#reshape wide\n",
    "cross_over = dcast(cross_over, acause~measure) #will need to be "
   ]
  },
  {
   "cell_type": "code",
   "execution_count": 61,
   "metadata": {
    "collapsed": false
   },
   "outputs": [],
   "source": [
    "#get causes with only mort or morbid\n",
    "miss_morbid = unique(cross_over[morbidity == 0 ,acause])\n",
    "add_morbid = rrs[acause %in% miss_morbid,]\n",
    "miss_mort = unique(cross_over[mortality == 0 ,acause])\n",
    "add_mort = rrs[acause %in% miss_mort,]"
   ]
  },
  {
   "cell_type": "code",
   "execution_count": 62,
   "metadata": {
    "collapsed": false
   },
   "outputs": [],
   "source": [
    "#change the measure\n",
    "add_morbid = add_morbid[,measure := 'morbidity']\n",
    "add_mort = add_mort[,measure := 'mortality']\n",
    "\n",
    "#combine\n",
    "rrs = rbindlist(list(rrs, add_morbid, add_mort))"
   ]
  },
  {
   "cell_type": "code",
   "execution_count": 96,
   "metadata": {
    "collapsed": true
   },
   "outputs": [],
   "source": [
    "#make a risk grid\n",
    "risk_grid = expand.grid(age_group_id = demos$age_group_ids, sex_id = 3, acause = unique(rrs[,acause]))"
   ]
  },
  {
   "cell_type": "code",
   "execution_count": 97,
   "metadata": {
    "collapsed": false
   },
   "outputs": [],
   "source": [
    "#merge in the rrs\n",
    "risk_grid = data.table(merge(risk_grid, rrs, by = 'acause'))"
   ]
  },
  {
   "cell_type": "code",
   "execution_count": 98,
   "metadata": {
    "collapsed": false
   },
   "outputs": [],
   "source": [
    "#create draws\n",
    "#back calculate SD\n",
    "risk_grid = risk_grid[, sd := ((upper-mean)/1.96)]\n",
    "setnames(risk_grid, c('mean', 'upper', 'lower','sd'), c('pc_mean','pc_upper','pc_lower','pc_sd'))"
   ]
  },
  {
   "cell_type": "code",
   "execution_count": 102,
   "metadata": {
    "collapsed": false
   },
   "outputs": [],
   "source": [
    "#create 1000 draws of risks\n",
    "risk_grid = risk_grid[, paste0('pc_',0:999) := lapply(0:999, function(x) rnorm(nrow(risk_grid) ,mean = rr_mean, sd = rr_sd))]\n",
    "risk_grid = risk_grid[, version:= 'test']"
   ]
  },
  {
   "cell_type": "code",
   "execution_count": 111,
   "metadata": {
    "collapsed": false
   },
   "outputs": [
    {
     "data": {
      "text/html": [
       "<table>\n",
       "<thead><tr><th scope=col>acause</th><th scope=col>age_group_id</th><th scope=col>sex_id</th><th scope=col>element</th><th scope=col>measure</th><th scope=col>rr_mean</th><th scope=col>rr_lower</th><th scope=col>rr_upper</th><th scope=col>unit</th><th scope=col>notes</th></tr></thead>\n",
       "<tbody>\n",
       "\t<tr><td>cvd_ihd         </td><td>2               </td><td>3               </td><td>heat            </td><td>mortality       </td><td> 1.62           </td><td> 0.24           </td><td>3.03            </td><td>percent_change  </td><td>                </td></tr>\n",
       "\t<tr><td>cvd_ihd         </td><td>2               </td><td>3               </td><td>cold            </td><td>mortality       </td><td> 0.45           </td><td>-0.01           </td><td>0.91            </td><td>percent_change  </td><td>                </td></tr>\n",
       "\t<tr><td>cvd_ihd         </td><td>2               </td><td>3               </td><td>heat            </td><td>morbidity       </td><td>-0.16           </td><td>-2.05           </td><td>1.77            </td><td>                </td><td>assumes MI = IHD</td></tr>\n",
       "\t<tr><td>cvd_ihd         </td><td>2               </td><td>3               </td><td>cold            </td><td>morbidity       </td><td> 0.66           </td><td>-0.14           </td><td>1.48            </td><td>                </td><td>assumes MI = IHD</td></tr>\n",
       "\t<tr><td>cvd_ihd         </td><td>3               </td><td>3               </td><td>heat            </td><td>mortality       </td><td> 1.62           </td><td> 0.24           </td><td>3.03            </td><td>percent_change  </td><td>                </td></tr>\n",
       "\t<tr><td>cvd_ihd         </td><td>3               </td><td>3               </td><td>cold            </td><td>mortality       </td><td> 0.45           </td><td>-0.01           </td><td>0.91            </td><td>percent_change  </td><td>                </td></tr>\n",
       "</tbody>\n",
       "</table>\n"
      ],
      "text/latex": [
       "\\begin{tabular}{r|llllllllll}\n",
       " acause & age\\_group\\_id & sex\\_id & element & measure & rr\\_mean & rr\\_lower & rr\\_upper & unit & notes\\\\\n",
       "\\hline\n",
       "\t cvd\\_ihd        & 2                & 3                & heat             & mortality        &  1.62            &  0.24            & 3.03             & percent\\_change &                 \\\\\n",
       "\t cvd\\_ihd        & 2                & 3                & cold             & mortality        &  0.45            & -0.01            & 0.91             & percent\\_change &                 \\\\\n",
       "\t cvd\\_ihd        & 2                & 3                & heat             & morbidity        & -0.16            & -2.05            & 1.77             &                  & assumes MI = IHD\\\\\n",
       "\t cvd\\_ihd        & 2                & 3                & cold             & morbidity        &  0.66            & -0.14            & 1.48             &                  & assumes MI = IHD\\\\\n",
       "\t cvd\\_ihd        & 3                & 3                & heat             & mortality        &  1.62            &  0.24            & 3.03             & percent\\_change &                 \\\\\n",
       "\t cvd\\_ihd        & 3                & 3                & cold             & mortality        &  0.45            & -0.01            & 0.91             & percent\\_change &                 \\\\\n",
       "\\end{tabular}\n"
      ],
      "text/markdown": [
       "\n",
       "acause | age_group_id | sex_id | element | measure | rr_mean | rr_lower | rr_upper | unit | notes | \n",
       "|---|---|---|---|---|---|\n",
       "| cvd_ihd          | 2                | 3                | heat             | mortality        |  1.62            |  0.24            | 3.03             | percent_change   |                  | \n",
       "| cvd_ihd          | 2                | 3                | cold             | mortality        |  0.45            | -0.01            | 0.91             | percent_change   |                  | \n",
       "| cvd_ihd          | 2                | 3                | heat             | morbidity        | -0.16            | -2.05            | 1.77             |                  | assumes MI = IHD | \n",
       "| cvd_ihd          | 2                | 3                | cold             | morbidity        |  0.66            | -0.14            | 1.48             |                  | assumes MI = IHD | \n",
       "| cvd_ihd          | 3                | 3                | heat             | mortality        |  1.62            |  0.24            | 3.03             | percent_change   |                  | \n",
       "| cvd_ihd          | 3                | 3                | cold             | mortality        |  0.45            | -0.01            | 0.91             | percent_change   |                  | \n",
       "\n",
       "\n"
      ],
      "text/plain": [
       "  acause  age_group_id sex_id element measure   rr_mean rr_lower rr_upper\n",
       "1 cvd_ihd 2            3      heat    mortality  1.62    0.24    3.03    \n",
       "2 cvd_ihd 2            3      cold    mortality  0.45   -0.01    0.91    \n",
       "3 cvd_ihd 2            3      heat    morbidity -0.16   -2.05    1.77    \n",
       "4 cvd_ihd 2            3      cold    morbidity  0.66   -0.14    1.48    \n",
       "5 cvd_ihd 3            3      heat    mortality  1.62    0.24    3.03    \n",
       "6 cvd_ihd 3            3      cold    mortality  0.45   -0.01    0.91    \n",
       "  unit           notes           \n",
       "1 percent_change                 \n",
       "2 percent_change                 \n",
       "3                assumes MI = IHD\n",
       "4                assumes MI = IHD\n",
       "5 percent_change                 \n",
       "6 percent_change                 "
      ]
     },
     "metadata": {},
     "output_type": "display_data"
    }
   ],
   "source": [
    "#save R object to be used later\n",
    "save(risk_grid, file = '/share/geospatial/temperature/estimates/risk/temperature_risks_test.Rdata')"
   ]
  },
  {
   "cell_type": "code",
   "execution_count": null,
   "metadata": {
    "collapsed": false
   },
   "outputs": [],
   "source": []
  },
  {
   "cell_type": "code",
   "execution_count": null,
   "metadata": {
    "collapsed": true
   },
   "outputs": [],
   "source": []
  }
 ],
 "metadata": {
  "anaconda-cloud": {},
  "kernelspec": {
   "display_name": "R",
   "language": "R",
   "name": "ir"
  },
  "language_info": {
   "codemirror_mode": "r",
   "file_extension": ".r",
   "mimetype": "text/x-r-source",
   "name": "R",
   "pygments_lexer": "r",
   "version": "3.3.1"
  }
 },
 "nbformat": 4,
 "nbformat_minor": 1
}
