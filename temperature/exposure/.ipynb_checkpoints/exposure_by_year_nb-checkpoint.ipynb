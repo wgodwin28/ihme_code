{
 "cells": [
  {
   "cell_type": "code",
   "execution_count": 1,
   "metadata": {
    "collapsed": true
   },
   "outputs": [],
   "source": [
    "#set up smart sensing of os\n",
    "if(Sys.info()[1]=='Windows'){\n",
    "  j = \"J:/\"\n",
    "} else{\n",
    "  j = '/home/j/'\n",
    "}\n",
    "options(scipen=999)"
   ]
  },
  {
   "cell_type": "code",
   "execution_count": 2,
   "metadata": {
    "collapsed": false
   },
   "outputs": [],
   "source": [
    "#collect arguments\n",
    "argue = commandArgs(trailingOnly = T)\n",
    "task_id <- 8 #as.numeric(Sys.getenv(\"SGE_TASK_ID\"))\n",
    "slots= 29 #as.numeric(argue[1])\n",
    "year = 1990 #as.numeric(argue[2])\n",
    "temperature_product = 'era_mean' #as.character(argue[3]) #'era_mean' #\n",
    "admin_level = 'admin0' #as.character(argue[4])#'admin0' #'isestimate'\n",
    "the_cause = 'cvd_ihd' #as.character(argue[5]) #'diabetes'#make sure to do the memory math, in qsub, use 30+ slots\n",
    "paf_version = 2 #as.character(argue[6]) #'test'\n",
    "tmrel_version = 1 # as.character(argue[7]) #'test'\n",
    "risk_version = 'test' #as.character(argue[8]) #test'\n",
    "convert_kelvin = T #as.logical(argue[9]) #T"
   ]
  },
  {
   "cell_type": "code",
   "execution_count": 3,
   "metadata": {
    "collapsed": true
   },
   "outputs": [],
   "source": [
    "#set conditional variables\n",
    "draw = task_id -1\n",
    "data.dir = paste0('/share/geospatial/temperature/estimates/', temperature_product,'/')\n",
    "cores_to_use = ifelse(grepl('Intel', system(\"cat /proc/cpuinfo | grep \\'name\\'| uniq\", inter = T)), floor(slots * .86), floor(slots*.64))\n",
    "pop.dir = paste0(j,'WORK/01_covariates/02_inputs/population_counts/outputs/full_ts_1980_2015/')\n",
    "data_product = substr(temperature_product, 1,regexpr('\\\\_', temperature_product)-1)\n"
   ]
  },
  {
   "cell_type": "code",
   "execution_count": 4,
   "metadata": {
    "collapsed": false
   },
   "outputs": [
    {
     "name": "stdout",
     "output_type": "stream",
     "text": [
      "[1] \"/usr/local/codem/public_use_anaconda/lib/R/bin/exec/R\"                                            \n",
      "[2] \"--slave\"                                                                                          \n",
      "[3] \"-e\"                                                                                               \n",
      "[4] \"IRkernel::main()\"                                                                                 \n",
      "[5] \"--args\"                                                                                           \n",
      "[6] \"/snfs2/HOME/dccasey/.local/share/jupyter/runtime/kernel-38c8deb4-a5a0-4d5b-b051-c301da8d7814.json\"\n",
      "[1] \"8 7 29 1990 era_mean admin0 cvd_ihd 2 1 test TRUE\"\n"
     ]
    }
   ],
   "source": [
    "#check to make sure things passed properly\n",
    "print(commandArgs())\n",
    "print(paste(task_id, draw, slots, year, temperature_product,admin_level, the_cause, paf_version, tmrel_version,risk_version,convert_kelvin))"
   ]
  },
  {
   "cell_type": "code",
   "execution_count": 5,
   "metadata": {
    "collapsed": true
   },
   "outputs": [],
   "source": [
    "#load libraries\n",
    "pack_lib = '/home/j/temp/dccasey/temperature/packages/'\n",
    ".libPaths(pack_lib)\n",
    "library('parallel')\n",
    "for(ppp in c('data.table','raster','ncdf4', 'sp', 'rgdal', 'pryr','profvis')){\n",
    "  suppressMessages(library(ppp, lib.loc = pack_lib, character.only =T))\n",
    "}\n",
    "\n",
    "source(paste0('/home/j/temp/central_comp/libraries/current/r/get_location_metadata.R'))\n"
   ]
  },
  {
   "cell_type": "code",
   "execution_count": 6,
   "metadata": {
    "collapsed": true
   },
   "outputs": [],
   "source": [
    "#set raster options\n",
    "num_cells = round(((slots*2)-20)/7) * 1e9 #leave some overhead for other memory\n",
    "rasterOptions(maxmemory = num_cells) #1e9 is like 7 gigs I think"
   ]
  },
  {
   "cell_type": "code",
   "execution_count": null,
   "metadata": {
    "collapsed": false
   },
   "outputs": [],
   "source": [
    "#find and load the proper dataset\n",
    "expo = brick(paste0(data.dir,list.files(path = data.dir, pattern = as.character(year))))\n",
    "#convert to degrees C\n",
    "if(convert_kelvin) expo = expo -273.15\n",
    "\n",
    "#decide if things need rotation. If xmax is >183 (180, but with a lil offset), rotate things\n",
    "rotate_me = ifelse(extent(expo)[2] >181, T, F)\n",
    "if(rotate_me) expo = rotate(expo)"
   ]
  },
  {
   "cell_type": "code",
   "execution_count": null,
   "metadata": {
    "collapsed": true
   },
   "outputs": [],
   "source": [
    "#find and load relevant population grid\n",
    "pop = raster(paste0(pop.dir, 'glp',year,'ag.tif'))"
   ]
  },
  {
   "cell_type": "code",
   "execution_count": null,
   "metadata": {
    "collapsed": true
   },
   "outputs": [],
   "source": [
    "#crop expo to the pop grid\n",
    "expo = crop(expo, pop)"
   ]
  },
  {
   "cell_type": "code",
   "execution_count": null,
   "metadata": {
    "collapsed": true
   },
   "outputs": [],
   "source": [
    "#find and load relevant rasterized locations\n",
    "locs = raster(paste0(j,'/temp/dccasey/temperature/data/rasterized_shapefiles/',data_product, admin_level,'.tif')) #should be more flexible to get era interim working\n",
    "locs = crop(locs, pop)"
   ]
  },
  {
   "cell_type": "code",
   "execution_count": null,
   "metadata": {
    "collapsed": true
   },
   "outputs": [],
   "source": [
    "#aggregate population to the exposure cell size\n",
    "pop_fact = round(dim(pop)[1:2] / dim(expo)[1:2])\n",
    "pop = aggregate(pop, pop_fact)\n",
    "pop = resample(pop, expo)"
   ]
  },
  {
   "cell_type": "code",
   "execution_count": null,
   "metadata": {
    "collapsed": true
   },
   "outputs": [],
   "source": [
    "#load tmrel brick\n",
    "load(paste0('/share/geospatial/temperature/estimates/tmrel/tmrel_', tmrel_version,'.Rdata'))\n",
    "#for now, tmrel is a single draw/value tmrel = tmrel[[draw + 1]] #tmrel is index 1-1000 I think"
   ]
  },
  {
   "cell_type": "code",
   "execution_count": null,
   "metadata": {
    "collapsed": true
   },
   "outputs": [],
   "source": [
    "#resample TMREL is the bricks don't match\n",
    "tmrel = crop(tmrel, expo)\n",
    "tmrel = resample(tmrel,expo)"
   ]
  },
  {
   "cell_type": "code",
   "execution_count": null,
   "metadata": {
    "collapsed": true
   },
   "outputs": [],
   "source": [
    "#load risk brick\n",
    "load(paste0('/share/geospatial/temperature/estimates/risk/temperature_risks_', risk_version, '.Rdata'))"
   ]
  },
  {
   "cell_type": "code",
   "execution_count": null,
   "metadata": {
    "collapsed": false
   },
   "outputs": [],
   "source": [
    "#keep relevant draw\n",
    "risk = risk_grid[acause == the_cause,.(acause, age_group_id, sex_id, element, measure, risk = get(paste0('pc_',draw)))]\n",
    "rm(risk_grid)"
   ]
  },
  {
   "cell_type": "code",
   "execution_count": null,
   "metadata": {
    "collapsed": true
   },
   "outputs": [],
   "source": []
  },
  {
   "cell_type": "code",
   "execution_count": null,
   "metadata": {
    "collapsed": true
   },
   "outputs": [],
   "source": [
    "#convert relevant objects to arrays and matrixces\n",
    "expo = as.array(expo)\n",
    "pop = as.matrix(pop)\n",
    "tmrel = as.matrix(tmrel)\n",
    "locs = as.matrix(locs)"
   ]
  },
  {
   "cell_type": "code",
   "execution_count": null,
   "metadata": {
    "collapsed": true
   },
   "outputs": [],
   "source": []
  },
  {
   "cell_type": "code",
   "execution_count": 18,
   "metadata": {
    "collapsed": true
   },
   "outputs": [],
   "source": [
    "#preserve the dimensions of expo\n",
    "expo_dim = dim(expo)"
   ]
  },
  {
   "cell_type": "code",
   "execution_count": 19,
   "metadata": {
    "collapsed": true
   },
   "outputs": [],
   "source": [
    "make_deg_thresh = function(exp_mat, tmrel_mat, hot = T){\n",
    "    exp_mat = exp_mat - tmrel_mat\n",
    "\n",
    "    #do heat/cold 0ing out\n",
    "    if(hot){\n",
    "       exp_mat[exp_mat<0] = 0\n",
    "    } else{\n",
    "        exp_mat[exp_mat>0] = 0\n",
    "        exp_mat = abs(exp_mat)\n",
    "    }\n",
    "\n",
    "    return(exp_mat)\n",
    "}"
   ]
  },
  {
   "cell_type": "code",
   "execution_count": 20,
   "metadata": {
    "collapsed": true
   },
   "outputs": [],
   "source": [
    "#convert the exposure into degrees from threshold\n",
    "deg_thresh_hot = array(apply(expo,3, function(x) make_deg_thresh(x,tmrel, T)),expo_dim)\n",
    "deg_thresh_cold = array(apply(expo,3, function(x) make_deg_thresh(x,tmrel, F)),expo_dim)\n",
    "\n",
    "rm(expo)"
   ]
  },
  {
   "cell_type": "code",
   "execution_count": 21,
   "metadata": {
    "collapsed": true
   },
   "outputs": [],
   "source": [
    "#helper functions\n",
    "convert_deg_to_risk = function(exp_mat, risk_val, adj=.01){\n",
    "    #assumes risk val is in percent change; returns RR\n",
    "    risk_mat = 1+(exp_mat * (risk_val)*adj)\n",
    "}\n",
    "\n",
    "select_proper_exp_mat = function(name_hot, name_cold, return_hot = T){\n",
    "    if(return_hot){\n",
    "        return(get(name_hot))\n",
    "    } else {\n",
    "        return(get(name_cold))\n",
    "    }\n",
    "}"
   ]
  },
  {
   "cell_type": "code",
   "execution_count": 22,
   "metadata": {
    "collapsed": true
   },
   "outputs": [],
   "source": [
    "#create a risk grid per age, sex, measure, element, for the selected-cause draw\n",
    "#each array is about .6 gigs. Expect nrow(risk) * .6 memory\n",
    "risk_arrays = mclapply(1:nrow(risk), function(row_num) array(convert_deg_to_risk(\n",
    "                exp_mat = select_proper_exp_mat('deg_thresh_hot', 'deg_thresh_cold', risk[row_num, element]=='heat'),\n",
    "                risk_val = risk[row_num,risk]),expo_dim),mc.preschedule=F, mc.cores = cores_to_use)"
   ]
  },
  {
   "cell_type": "code",
   "execution_count": 23,
   "metadata": {
    "collapsed": true
   },
   "outputs": [],
   "source": [
    "rm(deg_thresh_hot)\n",
    "rm(deg_thresh_cold)"
   ]
  },
  {
   "cell_type": "code",
   "execution_count": 24,
   "metadata": {
    "collapsed": false
   },
   "outputs": [
    {
     "data": {
      "text/html": [
       "<ol class=list-inline>\n",
       "\t<li>290</li>\n",
       "\t<li>720</li>\n",
       "\t<li>365</li>\n",
       "</ol>\n"
      ],
      "text/latex": [
       "\\begin{enumerate*}\n",
       "\\item 290\n",
       "\\item 720\n",
       "\\item 365\n",
       "\\end{enumerate*}\n"
      ],
      "text/markdown": [
       "1. 290\n",
       "2. 720\n",
       "3. 365\n",
       "\n",
       "\n"
      ],
      "text/plain": [
       "[1] 290 720 365"
      ]
     },
     "metadata": {},
     "output_type": "display_data"
    },
    {
     "data": {
      "text/html": [
       "55.2"
      ],
      "text/latex": [
       "55.2"
      ],
      "text/markdown": [
       "55.2"
      ],
      "text/plain": [
       "[1] 55.2"
      ]
     },
     "metadata": {},
     "output_type": "display_data"
    }
   ],
   "source": [
    "dim(risk_arrays[[1]])\n",
    "length(risk_arrays)  * .6"
   ]
  },
  {
   "cell_type": "code",
   "execution_count": 25,
   "metadata": {
    "collapsed": true
   },
   "outputs": [],
   "source": [
    "#create a simple version of zonal sums to work with matrices\n",
    "extract_mat = function(valmat, gmat, gvalue){\n",
    "    #valmat: matrix of values we want to extract\n",
    "    #gmat: matrix whose values represent the group\n",
    "    #gvalue: the value in gmat we want to get the zonal sum for\n",
    "    #returns a dataframe with 1 row\n",
    "\n",
    "    maskmat = gmat==gvalue\n",
    "    aggval = sum(valmat * maskmat,na.rm=T)\n",
    "    return(aggval)\n",
    "}"
   ]
  },
  {
   "cell_type": "code",
   "execution_count": 26,
   "metadata": {
    "collapsed": true
   },
   "outputs": [],
   "source": [
    "#get the country list\n",
    "location_list = unique(as.vector(locs))\n",
    "location_list= location_list[!is.na(location_list)]"
   ]
  },
  {
   "cell_type": "code",
   "execution_count": 27,
   "metadata": {
    "collapsed": false
   },
   "outputs": [
    {
     "data": {
      "text/plain": [
       "54.9 GB"
      ]
     },
     "metadata": {},
     "output_type": "display_data"
    }
   ],
   "source": [
    "mem_used()"
   ]
  },
  {
   "cell_type": "code",
   "execution_count": 28,
   "metadata": {
    "collapsed": false
   },
   "outputs": [],
   "source": [
    "#prof <- profvis(mclapply(risk_arrays, function(r_a) apply(r_a, 1:2, function(x) sum((x-1),na.rm=T)), mc.preschedule=F, mc.cores = cores_to_use))"
   ]
  },
  {
   "cell_type": "code",
   "execution_count": 29,
   "metadata": {
    "collapsed": false
   },
   "outputs": [
    {
     "data": {
      "text/plain": [
       "54.9 GB"
      ]
     },
     "metadata": {},
     "output_type": "display_data"
    }
   ],
   "source": [
    "mem_used()"
   ]
  },
  {
   "cell_type": "code",
   "execution_count": 30,
   "metadata": {
    "collapsed": false
   },
   "outputs": [],
   "source": [
    "#shine(prof)"
   ]
  },
  {
   "cell_type": "code",
   "execution_count": 31,
   "metadata": {
    "collapsed": true
   },
   "outputs": [],
   "source": [
    "\n",
    "#<put your code to profile here>\n"
   ]
  },
  {
   "cell_type": "code",
   "execution_count": 32,
   "metadata": {
    "collapsed": false
   },
   "outputs": [
    {
     "name": "stdout",
     "output_type": "stream",
     "text": [
      "[1] 1\n",
      "[1] 2\n",
      "[1] 3\n",
      "[1] 4\n",
      "[1] 5\n",
      "[1] 6\n",
      "[1] 7\n",
      "[1] 8\n",
      "[1] 9\n",
      "[1] 10\n",
      "[1] 11\n",
      "[1] 12\n",
      "[1] 13\n",
      "[1] 14\n",
      "[1] 15\n",
      "[1] 16\n",
      "[1] 17\n",
      "[1] 18\n",
      "[1] 19\n",
      "[1] 20\n",
      "[1] 21\n",
      "[1] 22\n",
      "[1] 23\n",
      "[1] 24\n",
      "[1] 25\n",
      "[1] 26\n",
      "[1] 27\n",
      "[1] 28\n",
      "[1] 29\n",
      "[1] 30\n",
      "[1] 31\n",
      "[1] 32\n",
      "[1] 33\n",
      "[1] 34\n",
      "[1] 35\n",
      "[1] 36\n",
      "[1] 37\n",
      "[1] 38\n",
      "[1] 39\n",
      "[1] 40\n",
      "[1] 41\n",
      "[1] 42\n",
      "[1] 43\n",
      "[1] 44\n",
      "[1] 45\n",
      "[1] 46\n",
      "[1] 47\n",
      "[1] 48\n",
      "[1] 49\n",
      "[1] 50\n",
      "[1] 51\n",
      "[1] 52\n",
      "[1] 53\n",
      "[1] 54\n",
      "[1] 55\n",
      "[1] 56\n",
      "[1] 57\n",
      "[1] 58\n",
      "[1] 59\n",
      "[1] 60\n",
      "[1] 61\n",
      "[1] 62\n",
      "[1] 63\n",
      "[1] 64\n",
      "[1] 65\n",
      "[1] 66\n",
      "[1] 67\n",
      "[1] 68\n",
      "[1] 69\n",
      "[1] 70\n",
      "[1] 71\n",
      "[1] 72\n",
      "[1] 73\n",
      "[1] 74\n",
      "[1] 75\n",
      "[1] 76\n",
      "[1] 77\n",
      "[1] 78\n",
      "[1] 79\n",
      "[1] 80\n",
      "[1] 81\n",
      "[1] 82\n",
      "[1] 83\n",
      "[1] 84\n",
      "[1] 85\n",
      "[1] 86\n",
      "[1] 87\n",
      "[1] 88\n",
      "[1] 89\n",
      "[1] 90\n",
      "[1] 91\n",
      "[1] 92\n"
     ]
    }
   ],
   "source": [
    "iter = 0\n",
    "for(r_a in risk_arrays){\n",
    "  iter=  iter +1\n",
    "  print(iter)\n",
    "  herp = try(apply(r_a, 1:2, function(x) sum(x, na.rm =T)))\n",
    "}"
   ]
  },
  {
   "cell_type": "code",
   "execution_count": null,
   "metadata": {
    "collapsed": true
   },
   "outputs": [],
   "source": []
  },
  {
   "cell_type": "code",
   "execution_count": null,
   "metadata": {
    "collapsed": false
   },
   "outputs": [],
   "source": [
    "#collapse risk from daily to yearly and split by num/denom for paf calculation\n",
    "system(paste0(\"/homes/dccasey/psample --sample=5 /homes/dccasey\", 'temperature_profiling', \".csv &\"))\n",
    "yr_num   = mclapply(risk_arrays, function(r_a) apply(r_a, 1:2, function(x) sum((x-1),na.rm=T)), mc.preschedule=F, mc.cores = cores_to_use) #Is this right?\n",
    "yr_denom = mclapply(risk_arrays, function(r_a) apply(r_a, 1:2, function(x) sum(x, na.rm =T)),mc.preschedule=F, mc.cores = cores_to_use)\n",
    "system(\"ps | grep perl | awk {'print $1'} | xargs kill &\")"
   ]
  },
  {
   "cell_type": "code",
   "execution_count": null,
   "metadata": {
    "collapsed": true
   },
   "outputs": [],
   "source": [
    "#rewrite so that denom comes first\n",
    "#subtract 1 to make the numerator\n",
    "#repeat and calculate the numerator"
   ]
  },
  {
   "cell_type": "code",
   "execution_count": null,
   "metadata": {
    "collapsed": true
   },
   "outputs": [],
   "source": [
    "rm(risk_arrays)"
   ]
  },
  {
   "cell_type": "code",
   "execution_count": null,
   "metadata": {
    "collapsed": false
   },
   "outputs": [],
   "source": [
    "#for each country, find the population weighted risk/PAF for each cause\n",
    "#this should be improved\n",
    "Sys.time()\n",
    "pafs = lapply(location_list, function(loc_id)\n",
    "            mclapply(1:nrow(risk), function(row_id)\n",
    "                extract_mat(yr_num[[row_id]] * pop, locs, loc_id)/extract_mat(yr_denom[[row_id]] * pop, locs, loc_id),\n",
    "                mc.cores = cores_to_use))\n",
    "Sys.time()"
   ]
  },
  {
   "cell_type": "code",
   "execution_count": null,
   "metadata": {
    "collapsed": true
   },
   "outputs": [],
   "source": [
    "rm(yr_num)\n",
    "rm(yr_denom)"
   ]
  },
  {
   "cell_type": "code",
   "execution_count": null,
   "metadata": {
    "collapsed": true
   },
   "outputs": [],
   "source": [
    "#convert to data tables\n",
    "pafs = lapply(pafs, function(x) cbind(risk, data.table(paf = as.numeric(x))))\n",
    "\n",
    "#add location id\n",
    "pafs = lapply(1:length(location_list), function(x) cbind(pafs[[x]], location_id = location_list[[x]]))\n",
    "\n",
    "#rbind everything together\n",
    "pafs = rbindlist(pafs)\n",
    "\n",
    "setnames(pafs, 'paf', paste0('paf_',draw))\n",
    "pafs[,year_id := year]"
   ]
  },
  {
   "cell_type": "code",
   "execution_count": null,
   "metadata": {
    "collapsed": true
   },
   "outputs": [],
   "source": []
  }
 ],
 "metadata": {
  "anaconda-cloud": {},
  "kernelspec": {
   "display_name": "R",
   "language": "R",
   "name": "ir"
  },
  "language_info": {
   "codemirror_mode": "r",
   "file_extension": ".r",
   "mimetype": "text/x-r-source",
   "name": "R",
   "pygments_lexer": "r",
   "version": "3.3.2"
  }
 },
 "nbformat": 4,
 "nbformat_minor": 1
}
