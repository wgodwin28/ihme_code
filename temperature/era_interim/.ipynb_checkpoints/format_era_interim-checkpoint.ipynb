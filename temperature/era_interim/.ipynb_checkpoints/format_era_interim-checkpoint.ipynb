{
 "cells": [
  {
   "cell_type": "code",
   "execution_count": 1,
   "metadata": {
    "collapsed": false
   },
   "outputs": [
    {
     "name": "stderr",
     "output_type": "stream",
     "text": [
      "rgdal: version: 1.2-4, (SVN revision 643)\n",
      " Geospatial Data Abstraction Library extensions to R successfully loaded\n",
      " Loaded GDAL runtime: GDAL 1.7.3, released 2010/11/10\n",
      " Path to GDAL shared files: /usr/share/gdal\n",
      " GDAL does not use iconv for recoding strings.\n",
      " Loaded PROJ.4 runtime: Rel. 4.7.1, 23 September 2009, [PJ_VERSION: 470]\n",
      " Path to PROJ.4 shared files: (autodetected)\n",
      " Linking to sp version: 1.2-3 \n",
      "\n",
      "Attaching package: ‘data.table’\n",
      "\n",
      "The following object is masked from ‘package:raster’:\n",
      "\n",
      "    shift\n",
      "\n"
     ]
    }
   ],
   "source": [
    "#Load libraries\n",
    "pack_lib = '/home/j/temp/dccasey/temperature/packages/'\n",
    ".libPaths(pack_lib)\n",
    "library('parallel')\n",
    "library('sp')\n",
    "library('rgdal', lib.loc = '/home/j/temp/geospatial/packages')\n",
    "for(ppp in c('raster','ncdf4','data.table')){\n",
    "    library(ppp, lib.loc = pack_lib, character.only =T)\n",
    "}"
   ]
  },
  {
   "cell_type": "code",
   "execution_count": 2,
   "metadata": {
    "collapsed": true
   },
   "outputs": [],
   "source": [
    "data.dir = '/home/j/temp/dccasey/temperature/data/era_interim/'"
   ]
  },
  {
   "cell_type": "code",
   "execution_count": 3,
   "metadata": {
    "collapsed": true
   },
   "outputs": [],
   "source": [
    "rasterOptions(maxmemory = 1e9)"
   ]
  },
  {
   "cell_type": "code",
   "execution_count": 4,
   "metadata": {
    "collapsed": false
   },
   "outputs": [],
   "source": [
    "#load the land_sea mask\n",
    "landsea = raster(paste0(data.dir,grep('land',list.files(data.dir),value = T)))"
   ]
  },
  {
   "cell_type": "code",
   "execution_count": 5,
   "metadata": {
    "collapsed": true
   },
   "outputs": [],
   "source": [
    "#convert to matrix\n",
    "landsea = as.matrix(landsea)"
   ]
  },
  {
   "cell_type": "code",
   "execution_count": 6,
   "metadata": {
    "collapsed": true
   },
   "outputs": [],
   "source": [
    "#replace NAs with zero\n",
    "landsea[landsea==0] = NA"
   ]
  },
  {
   "cell_type": "code",
   "execution_count": 7,
   "metadata": {
    "collapsed": false
   },
   "outputs": [],
   "source": [
    "#list the child ncdf files\n",
    "children_files = lapply(c('canF8w', 'TDWCZd', 'CMRT_T'), function(x) paste0(data.dir,grep(x, list.files(data.dir), value =T)))"
   ]
  },
  {
   "cell_type": "code",
   "execution_count": 8,
   "metadata": {
    "collapsed": false
   },
   "outputs": [],
   "source": [
    "#Example name of a layer in the file: 'X2011.01.01.00.00.00'"
   ]
  },
  {
   "cell_type": "code",
   "execution_count": 9,
   "metadata": {
    "collapsed": true
   },
   "outputs": [],
   "source": [
    "era_daily_mean = function(ras, ls_mask, minmax = F, cores = 1){\n",
    "    #get the unique days in the raster\n",
    "    uniq_days = unique(substr(names(ras), 1, 11))\n",
    "    \n",
    "    #for each day, find the mean\n",
    "    day_means = brick(mclapply(uniq_days, function(x) calc_raster_mean_array(ras[[grep(x, names(ras))]],ls_mask = ls_mask, minmax = minmax, return_ras =T), mc.cores =cores))\n",
    "                                   \n",
    "    names(day_means) = uniq_days\n",
    "    \n",
    "    return(day_means)\n",
    "    \n",
    "}"
   ]
  },
  {
   "cell_type": "code",
   "execution_count": 10,
   "metadata": {
    "collapsed": false
   },
   "outputs": [],
   "source": [
    "calc_raster_mean_array = function(rrr, ls_mask = NULL, minmax =F, return_ras = F){\n",
    "    #convert to array\n",
    "    #save extent\n",
    "    rrr_extent = extent(rrr)\n",
    "    rrr_crs = crs(rrr)\n",
    "    rrr = as.array(rrr)\n",
    "    \n",
    "    if(minmax){\n",
    "        rrr = (apply(rrr, 1:2, function(x) max(x,na.rm=T))+apply(rrr, 1:2, function(x) min(x,na.rm=T)))/2\n",
    "    } else{\n",
    "        rrr = apply(rrr, 1:2, function(x) mean(x,na.rm=T))\n",
    "    }\n",
    "    \n",
    "    #Mask Values-- set to NA if not on land\n",
    "    if(!is.null(ls_mask)){\n",
    "        rrr = rrr * as.matrix(ls_mask)\n",
    "    }\n",
    "                            \n",
    "    if(return_ras){\n",
    "        rrr = raster(rrr)\n",
    "        extent(rrr) = rrr_extent\n",
    "        crs(rrr) = rrr_crs\n",
    "    }\n",
    "    return(rrr)\n",
    "                    \n",
    "                    \n",
    "}"
   ]
  },
  {
   "cell_type": "code",
   "execution_count": 12,
   "metadata": {
    "collapsed": true
   },
   "outputs": [],
   "source": [
    "calc_raster_mean_raster = function(rrr, minmax =F){\n",
    "    #convert to array\n",
    "    #save extent\n",
    "    \n",
    "    if(minmax){\n",
    "        rrr = (max(rrr,na.rm=T)+min(rrr,na.rm=T)) /2\n",
    "    } else{\n",
    "        rrr = mean(rrr,na.rm=T)\n",
    "    }\n",
    "    return(rrr)                              \n",
    "}"
   ]
  },
  {
   "cell_type": "code",
   "execution_count": null,
   "metadata": {
    "collapsed": false
   },
   "outputs": [],
   "source": [
    "#for each file, and each year, calculate the daily means of era and save them\n",
    "for(fff in children_files){\n",
    "    #load the raster file\n",
    "    ras_bri = brick(fff)\n",
    "    for(yyy in unique(substr(names(ras_bri),1,5))){\n",
    "        print(yyy)\n",
    "        \n",
    "        temp_ras = era_daily_mean(ras = ras_bri[[grep(yyy, names(ras_bri))]], ls_mask = landsea, minmax = T, cores = 18)\n",
    "        writeRaster(temp_ras, paste0('/home/j/temp/dccasey/temperature/estimates/era/minmaxmean/',yyy,'_mean_minmaxmethod.ncdf'))\n",
    "    }\n",
    "    rm(ras_bri)\n",
    "    rm(temp_ras)\n",
    "}"
   ]
  },
  {
   "cell_type": "code",
   "execution_count": null,
   "metadata": {
    "collapsed": false
   },
   "outputs": [],
   "source": [
    "#for each day, find the mean\n",
    "day_means = brick(lapply(uniq_days[1], function(x) calc_raster_mean_array(ras[[grep(x, names(ras))]],ls_mask = landsea, minmax = T, return_ras =T)))"
   ]
  },
  {
   "cell_type": "code",
   "execution_count": 15,
   "metadata": {
    "collapsed": false
   },
   "outputs": [
    {
     "data": {
      "text/plain": [
       "class       : RasterBrick \n",
       "dimensions  : 361, 720, 259920, 365  (nrow, ncol, ncell, nlayers)\n",
       "resolution  : 0.5, 0.5  (x, y)\n",
       "extent      : -0.25, 359.75, -90.25, 90.25  (xmin, xmax, ymin, ymax)\n",
       "coord. ref. : +proj=longlat +datum=WGS84 +ellps=WGS84 +towgs84=0,0,0 \n",
       "data source : in memory\n",
       "names       : X2001.01.01, X2001.01.02, X2001.01.03, X2001.01.04, X2001.01.05, X2001.01.06, X2001.01.07, X2001.01.08, X2001.01.09, X2001.01.10, X2001.01.11, X2001.01.12, X2001.01.13, X2001.01.14, X2001.01.15, ... \n",
       "min values  :    219.9574,    219.9196,    218.2133,    219.6533,    219.9819,    221.6168,    218.4531,    219.6849,    221.6076,    219.9135,    221.5208,    219.8706,    218.9471,    218.1847,    218.0827, ... \n",
       "max values  :    309.2803,    311.3489,    310.0263,    309.6885,    310.4396,    309.5457,    309.6110,    310.0437,    310.4968,    311.1285,    311.4939,    311.8245,    312.2633,    313.4472,    314.4003, ... \n"
      ]
     },
     "metadata": {},
     "output_type": "display_data"
    },
    {
     "data": {
      "text/plain": [
       "class       : RasterBrick \n",
       "dimensions  : 361, 720, 259920, 14608  (nrow, ncol, ncell, nlayers)\n",
       "resolution  : 0.5, 0.5  (x, y)\n",
       "extent      : -0.25, 359.75, -90.25, 90.25  (xmin, xmax, ymin, ymax)\n",
       "coord. ref. : +proj=longlat +datum=WGS84 +ellps=WGS84 +towgs84=0,0,0 \n",
       "data source : /snfs1/temp/dccasey/temperature/data/era_interim/_grib2netcdf-atls00-95e2cf679cd58ee9b4db4dd119a05a8d-canF8w.nc \n",
       "names       : X2001.01.01.00.00.00, X2001.01.01.06.00.00, X2001.01.01.12.00.00, X2001.01.01.18.00.00, X2001.01.02.00.00.00, X2001.01.02.06.00.00, X2001.01.02.12.00.00, X2001.01.02.18.00.00, X2001.01.03.00.00.00, X2001.01.03.06.00.00, X2001.01.03.12.00.00, X2001.01.03.18.00.00, X2001.01.04.00.00.00, X2001.01.04.06.00.00, X2001.01.04.12.00.00, ... \n",
       "Date/time   : 2001-01-01 00:00:00, 2010-12-31 18:00:00 (min, max)\n",
       "varname     : t2m \n"
      ]
     },
     "metadata": {},
     "output_type": "display_data"
    }
   ],
   "source": [
    "temp_ras\n",
    "ras_bri"
   ]
  },
  {
   "cell_type": "code",
   "execution_count": null,
   "metadata": {
    "collapsed": false
   },
   "outputs": [],
   "source": [
    "#As matrices/arrays\n",
    "system.time(lapply(ccc_days, function(x) calc_raster_mean_array(ccc[[grep(x, names(ccc))]], minmax = T, return_ras =T)))\n",
    "system.time(lapply(ccc_days, function(x) calc_raster_mean_array(ccc[[grep(x, names(ccc))]], minmax = T, return_ras =F)))\n",
    "system.time(lapply(ccc_days, function(x) calc_raster_mean_array(ccc[[grep(x, names(ccc))]], minmax = F, return_ras =T)))\n",
    "system.time(lapply(ccc_days, function(x) calc_raster_mean_array(ccc[[grep(x, names(ccc))]], minmax = F, return_ras =F)))"
   ]
  },
  {
   "cell_type": "code",
   "execution_count": null,
   "metadata": {
    "collapsed": false
   },
   "outputs": [],
   "source": [
    "#as rasters\n",
    "system.time(lapply(ccc_days, function(x) calc_raster_mean_raster(ccc[[grep(x, names(ccc))]], minmax = T)))\n",
    "system.time(lapply(ccc_days, function(x) calc_raster_mean_raster(ccc[[grep(x, names(ccc))]], minmax = F)))"
   ]
  },
  {
   "cell_type": "code",
   "execution_count": null,
   "metadata": {
    "collapsed": false
   },
   "outputs": [],
   "source": [
    "#multi core\n",
    "#As matrices/arrays\n",
    "system.time(mclapply(ccc_days, function(x) calc_raster_mean_array(ccc[[grep(x, names(ccc))]], minmax = T, return_ras =T), mc.cores =15))\n",
    "system.time(mclapply(ccc_days, function(x) calc_raster_mean_array(ccc[[grep(x, names(ccc))]], minmax = T, return_ras =F),mc.cores =15))\n",
    "system.time(mclapply(ccc_days, function(x) calc_raster_mean_array(ccc[[grep(x, names(ccc))]], minmax = F, return_ras =T),mc.cores =15))\n",
    "system.time(mclapply(ccc_days, function(x) calc_raster_mean_array(ccc[[grep(x, names(ccc))]], minmax = F, return_ras = F),mc.cores =15))"
   ]
  },
  {
   "cell_type": "code",
   "execution_count": null,
   "metadata": {
    "collapsed": false
   },
   "outputs": [],
   "source": [
    "system.time(mclapply(ccc_days, function(x) calc_raster_mean_raster(ccc[[grep(x, names(ccc))]], minmax = T),mc.cores = 15))\n",
    "system.time(mclapply(ccc_days, function(x) calc_raster_mean_raster(ccc[[grep(x, names(ccc))]], minmax = F),mc.cores =15))"
   ]
  },
  {
   "cell_type": "code",
   "execution_count": null,
   "metadata": {
    "collapsed": true
   },
   "outputs": [],
   "source": []
  }
 ],
 "metadata": {
  "anaconda-cloud": {},
  "kernelspec": {
   "display_name": "R",
   "language": "R",
   "name": "ir"
  },
  "language_info": {
   "codemirror_mode": "r",
   "file_extension": ".r",
   "mimetype": "text/x-r-source",
   "name": "R",
   "pygments_lexer": "r",
   "version": "3.3.1"
  }
 },
 "nbformat": 4,
 "nbformat_minor": 1
}
