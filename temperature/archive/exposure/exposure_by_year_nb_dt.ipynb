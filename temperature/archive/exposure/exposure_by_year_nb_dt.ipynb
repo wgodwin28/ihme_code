{
 "cells": [
  {
   "cell_type": "code",
   "execution_count": 134,
   "metadata": {
    "collapsed": true
   },
   "outputs": [],
   "source": [
    "#set up smart sensing of os\n",
    "if(Sys.info()[1]=='Windows'){\n",
    "  j = \"J:/\"\n",
    "} else{\n",
    "  j = '/home/j/'\n",
    "}\n",
    "options(scipen=999)"
   ]
  },
  {
   "cell_type": "code",
   "execution_count": 135,
   "metadata": {
    "collapsed": false
   },
   "outputs": [],
   "source": [
    "#collect arguments\n",
    "argue = commandArgs(trailingOnly = T)\n",
    "task_id <- 8 #as.numeric(Sys.getenv(\"SGE_TASK_ID\"))\n",
    "slots= 29 #as.numeric(argue[1])\n",
    "year = 1990 #as.numeric(argue[2])\n",
    "temperature_product = 'era_mean' #as.character(argue[3]) #'era_mean' #\n",
    "admin_level = 'admin0' #as.character(argue[4])#'admin0' #'isestimate'\n",
    "the_cause = 'cvd_ihd' #as.character(argue[5]) #'diabetes'#make sure to do the memory math, in qsub, use 30+ slots\n",
    "paf_version = 2 #as.character(argue[6]) #'test'\n",
    "tmrel_version = 1 # as.character(argue[7]) #'test'\n",
    "risk_version = 'test' #as.character(argue[8]) #test'\n",
    "convert_kelvin = T #as.logical(argue[9]) #T"
   ]
  },
  {
   "cell_type": "code",
   "execution_count": 136,
   "metadata": {
    "collapsed": true
   },
   "outputs": [],
   "source": [
    "#set conditional variables\n",
    "draw = task_id -1\n",
    "data.dir = paste0('/share/geospatial/temperature/estimates/', temperature_product,'/')\n",
    "cores_to_use = ifelse(grepl('Intel', system(\"cat /proc/cpuinfo | grep \\'name\\'| uniq\", inter = T)), floor(slots * .86), floor(slots*.64))\n",
    "pop.dir = paste0(j,'WORK/01_covariates/02_inputs/population_counts/outputs/full_ts_1980_2015/')\n",
    "data_product = substr(temperature_product, 1,regexpr('\\\\_', temperature_product)-1)\n"
   ]
  },
  {
   "cell_type": "code",
   "execution_count": 137,
   "metadata": {
    "collapsed": false
   },
   "outputs": [
    {
     "name": "stdout",
     "output_type": "stream",
     "text": [
      "[1] \"/usr/local/codem/public_use_anaconda/lib/R/bin/exec/R\"                                            \n",
      "[2] \"--slave\"                                                                                          \n",
      "[3] \"-e\"                                                                                               \n",
      "[4] \"IRkernel::main()\"                                                                                 \n",
      "[5] \"--args\"                                                                                           \n",
      "[6] \"/snfs2/HOME/dccasey/.local/share/jupyter/runtime/kernel-4c023e0a-3006-4780-8456-0103fb4f98da.json\"\n",
      "[1] \"8 7 29 1990 era_mean admin0 cvd_ihd 2 1 test TRUE\"\n"
     ]
    }
   ],
   "source": [
    "#check to make sure things passed properly\n",
    "print(commandArgs())\n",
    "print(paste(task_id, draw, slots, year, temperature_product,admin_level, the_cause, paf_version, tmrel_version,risk_version,convert_kelvin))"
   ]
  },
  {
   "cell_type": "code",
   "execution_count": 138,
   "metadata": {
    "collapsed": true
   },
   "outputs": [],
   "source": [
    "#load libraries\n",
    "pack_lib = '/home/j/temp/dccasey/temperature/packages/'\n",
    ".libPaths(pack_lib)\n",
    "library('parallel')\n",
    "for(ppp in c('data.table','raster','ncdf4', 'sp', 'rgdal', 'pryr','profvis')){\n",
    "  suppressMessages(library(ppp, lib.loc = pack_lib, character.only =T))\n",
    "}\n",
    "\n",
    "source(paste0('/home/j/temp/central_comp/libraries/current/r/get_location_metadata.R'))\n"
   ]
  },
  {
   "cell_type": "code",
   "execution_count": 139,
   "metadata": {
    "collapsed": true
   },
   "outputs": [],
   "source": [
    "#set raster options\n",
    "num_cells = round(((slots*2)-20)/7) * 1e9 #leave some overhead for other memory\n",
    "rasterOptions(maxmemory = num_cells) #1e9 is like 7 gigs I think"
   ]
  },
  {
   "cell_type": "code",
   "execution_count": 140,
   "metadata": {
    "collapsed": false
   },
   "outputs": [],
   "source": [
    "#find and load the proper dataset\n",
    "expo = brick(paste0(data.dir,list.files(path = data.dir, pattern = as.character(year))))\n",
    "#convert to degrees C\n",
    "if(convert_kelvin) expo = expo -273.15\n",
    "\n",
    "#decide if things need rotation. If xmax is >183 (180, but with a lil offset), rotate things\n",
    "rotate_me = ifelse(extent(expo)[2] >181, T, F)\n",
    "if(rotate_me) expo = rotate(expo)"
   ]
  },
  {
   "cell_type": "code",
   "execution_count": 141,
   "metadata": {
    "collapsed": true
   },
   "outputs": [],
   "source": [
    "#find and load relevant population grid\n",
    "pop = raster(paste0(pop.dir, 'glp',year,'ag.tif'))"
   ]
  },
  {
   "cell_type": "code",
   "execution_count": 142,
   "metadata": {
    "collapsed": true
   },
   "outputs": [],
   "source": [
    "#crop expo to the pop grid\n",
    "expo = crop(expo, pop)"
   ]
  },
  {
   "cell_type": "code",
   "execution_count": 143,
   "metadata": {
    "collapsed": true
   },
   "outputs": [],
   "source": [
    "#find and load relevant rasterized locations\n",
    "locs = raster(paste0(j,'/temp/dccasey/temperature/data/rasterized_shapefiles/',data_product, admin_level,'.tif')) #should be more flexible to get era interim working\n",
    "locs = crop(locs, pop)"
   ]
  },
  {
   "cell_type": "code",
   "execution_count": 144,
   "metadata": {
    "collapsed": true
   },
   "outputs": [],
   "source": [
    "#aggregate population to the exposure cell size\n",
    "pop_fact = round(dim(pop)[1:2] / dim(expo)[1:2])\n",
    "pop = aggregate(pop, pop_fact)\n",
    "pop = resample(pop, expo)"
   ]
  },
  {
   "cell_type": "code",
   "execution_count": 145,
   "metadata": {
    "collapsed": true
   },
   "outputs": [],
   "source": [
    "#load tmrel brick\n",
    "load(paste0('/share/geospatial/temperature/estimates/tmrel/tmrel_', tmrel_version,'.Rdata'))\n",
    "#for now, tmrel is a single draw/value tmrel = tmrel[[draw + 1]] #tmrel is index 1-1000 I think"
   ]
  },
  {
   "cell_type": "code",
   "execution_count": 146,
   "metadata": {
    "collapsed": true
   },
   "outputs": [],
   "source": [
    "#resample TMREL is the bricks don't match\n",
    "tmrel = crop(tmrel, expo)\n",
    "tmrel = resample(tmrel,expo)"
   ]
  },
  {
   "cell_type": "code",
   "execution_count": 147,
   "metadata": {
    "collapsed": true
   },
   "outputs": [],
   "source": [
    "#load risk brick\n",
    "load(paste0('/share/geospatial/temperature/estimates/risk/temperature_risks_', risk_version, '.Rdata'))"
   ]
  },
  {
   "cell_type": "code",
   "execution_count": 148,
   "metadata": {
    "collapsed": false
   },
   "outputs": [],
   "source": [
    "#keep relevant draw\n",
    "risk = risk_grid[,.(acause, age_group_id, sex_id, element, measure, risk = get(paste0('pc_',draw)))]\n",
    "rm(risk_grid)"
   ]
  },
  {
   "cell_type": "code",
   "execution_count": null,
   "metadata": {
    "collapsed": true
   },
   "outputs": [],
   "source": []
  },
  {
   "cell_type": "code",
   "execution_count": 149,
   "metadata": {
    "collapsed": false
   },
   "outputs": [],
   "source": [
    "#convert relevant objects to data tables\n",
    "expo = setDT(as.data.frame(expo, xy = T))\n",
    "pop = setDT(as.data.frame(pop, xy = T))\n",
    "tmrel = setDT(as.data.frame(tmrel, xy= T))\n",
    "locs = setDT(as.data.frame(locs, xy = T))"
   ]
  },
  {
   "cell_type": "code",
   "execution_count": 150,
   "metadata": {
    "collapsed": false
   },
   "outputs": [],
   "source": [
    "#set names\n",
    "names(expo)[3:length(expo)] = paste0('day_',(3:length(expo))-2)\n",
    "names(pop) = c('x','y','pop')\n",
    "names(tmrel) = c('x','y','tmrel')\n",
    "names(locs) = c('x','y','location_id')"
   ]
  },
  {
   "cell_type": "code",
   "execution_count": 151,
   "metadata": {
    "collapsed": false
   },
   "outputs": [],
   "source": [
    "#cbind everything together\n",
    "temp_dat = do.call(cbind, list(expo, pop = pop[,pop], tmrel = tmrel[,tmrel], location_id = locs[,location_id]))"
   ]
  },
  {
   "cell_type": "code",
   "execution_count": 152,
   "metadata": {
    "collapsed": false
   },
   "outputs": [
    {
     "data": {
      "text/html": [
       "<ol>\n",
       "\t<li>NULL</li>\n",
       "\t<li>NULL</li>\n",
       "\t<li>NULL</li>\n",
       "\t<li>NULL</li>\n",
       "</ol>\n"
      ],
      "text/latex": [
       "\\begin{enumerate}\n",
       "\\item NULL\n",
       "\\item NULL\n",
       "\\item NULL\n",
       "\\item NULL\n",
       "\\end{enumerate}\n"
      ],
      "text/markdown": [
       "1. NULL\n",
       "2. NULL\n",
       "3. NULL\n",
       "4. NULL\n",
       "\n",
       "\n"
      ],
      "text/plain": [
       "[[1]]\n",
       "NULL\n",
       "\n",
       "[[2]]\n",
       "NULL\n",
       "\n",
       "[[3]]\n",
       "NULL\n",
       "\n",
       "[[4]]\n",
       "NULL\n"
      ]
     },
     "metadata": {},
     "output_type": "display_data"
    }
   ],
   "source": [
    "#clean space\n",
    "lapply(list(expo, pop, tmrel, locs), function(x) rm(x))"
   ]
  },
  {
   "cell_type": "code",
   "execution_count": 153,
   "metadata": {
    "collapsed": false
   },
   "outputs": [],
   "source": [
    "#subset by where there is a location id\n",
    "temp_dat = temp_dat[!is.na(location_id),]\n",
    "blerg = copy(temp_dat)"
   ]
  },
  {
   "cell_type": "code",
   "execution_count": 154,
   "metadata": {
    "collapsed": false
   },
   "outputs": [],
   "source": [
    "#by risk, convert to degrees from threshold, convert to RR, find numerator and denominator by year, calculate paf"
   ]
  },
  {
   "cell_type": "code",
   "execution_count": 155,
   "metadata": {
    "collapsed": false
   },
   "outputs": [],
   "source": [
    "#convert data table with temperature into RR\n",
    "#td: temperature dataset/datatable\n",
    "#elem: heat or cold\n",
    "#risk_val: what is the % change in risk with one degree from the threshold\n",
    "#adj: used to convert from percentage point space to proportion/percent\n",
    "calc_deg_thresh = function(td, elem, tmrel_col){\n",
    "    #prevent scoping issues\n",
    "    td = copy(td)\n",
    "    \n",
    "    #convert into degrees from threshold\n",
    "    day_cols = grep('day', names(td), value = T)\n",
    "    td = td[, (day_cols) := lapply(day_cols, function(x) get(x) - get(tmrel_col))]\n",
    "    td = td[,row_id:= 1:nrow(td)]\n",
    "    #adjust by hot or cold\n",
    "    for(ddd in day_cols){\n",
    "        if(elem == 'heat'){\n",
    "            zero_rows = td[get(ddd)<0, row_id]\n",
    "        } else{\n",
    "            zero_rows = td[get(ddd)>0, row_id]\n",
    "        }\n",
    "       set(td, zero_rows, j = ddd, value = 0)\n",
    "    }\n",
    "        \n",
    "    #make absolute value and convert to risk\n",
    "    #td = td[, day_cols := lapply(day_cols, function(x) 1+(get(x) * rr))]\n",
    "    \n",
    "    #calculate the absolute number of degrees over the threshold in that year\n",
    "    dd = td[, abs(rowSums(.SD)), .SDcols=day_cols]\n",
    "    \n",
    "    return(dd)\n",
    "    \n",
    "}"
   ]
  },
  {
   "cell_type": "code",
   "execution_count": 156,
   "metadata": {
    "collapsed": false
   },
   "outputs": [],
   "source": [
    "#find the degrees from threshold for hot and cold\n",
    "#only works if TMREL has no uncertainty. If TMREL has uncertainty, change the lapply to do once per draw (use mclappy?)\n",
    "#be careful of memory\n",
    "thresholds = lapply(c('heat','cold'), function(el) calc_deg_thresh(temp_dat,el, 'tmrel'))"
   ]
  },
  {
   "cell_type": "code",
   "execution_count": 157,
   "metadata": {
    "collapsed": false
   },
   "outputs": [],
   "source": [
    "#drop the unneed days columns\n",
    "day_cols = grep('day', names(temp_dat),value = T)\n",
    "temp_dat = temp_dat[,names(temp_dat)[!grepl('day', names(temp_dat))],with=F]\n",
    "temp_dat = temp_dat[,paste0('deg_days_',c('heat','cold')) := thresholds]"
   ]
  },
  {
   "cell_type": "code",
   "execution_count": 158,
   "metadata": {
    "collapsed": false
   },
   "outputs": [
    {
     "data": {
      "text/plain": [
       "1.51 GB"
      ]
     },
     "metadata": {},
     "output_type": "display_data"
    }
   ],
   "source": [
    "mem_used()"
   ]
  },
  {
   "cell_type": "code",
   "execution_count": 159,
   "metadata": {
    "collapsed": true
   },
   "outputs": [],
   "source": [
    "hold = copy(temp_dat)"
   ]
  },
  {
   "cell_type": "code",
   "execution_count": 203,
   "metadata": {
    "collapsed": false
   },
   "outputs": [],
   "source": [
    "#for each risk-age-element-sex-cause, calculate pixel level risk\n",
    "#(risk * degrees over threshold) +1\n",
    "temp_dat = temp_dat[, paste0('risk_',1:nrow(risk)) := lapply(1:nrow(risk), function(x){\n",
    "    (1+((risk[x,risk] * .01) *get(paste0('deg_days_',risk[x,element]))/365))\n",
    "})]"
   ]
  },
  {
   "cell_type": "code",
   "execution_count": 205,
   "metadata": {
    "collapsed": false
   },
   "outputs": [
    {
     "data": {
      "text/html": [
       "<table>\n",
       "<thead><tr><th scope=col>x</th><th scope=col>y</th><th scope=col>pop</th><th scope=col>tmrel</th><th scope=col>location_id</th><th scope=col>deg_days_heat</th><th scope=col>deg_days_cold</th><th scope=col>risk_1</th><th scope=col>risk_2</th><th scope=col>risk_3</th><th scope=col>⋯</th><th scope=col>risk_406</th><th scope=col>risk_407</th><th scope=col>risk_408</th><th scope=col>risk_409</th><th scope=col>risk_410</th><th scope=col>risk_411</th><th scope=col>risk_412</th><th scope=col>risk_413</th><th scope=col>risk_414</th><th scope=col>risk_1_val</th></tr></thead>\n",
       "<tbody>\n",
       "\t<tr><td>-36.5    </td><td>83.5     </td><td>0        </td><td>-21.98125</td><td>349      </td><td>      NA </td><td>      NA </td><td>      NA </td><td>      NA </td><td>       NA</td><td>⋯        </td><td>      NA </td><td>      NA </td><td>       NA</td><td>      NA </td><td>      NA </td><td>      NA </td><td>      NA </td><td>      NA </td><td>      NA </td><td>      NA </td></tr>\n",
       "\t<tr><td>-36.0    </td><td>83.5     </td><td>0        </td><td>-22.38333</td><td>349      </td><td>      NA </td><td>      NA </td><td>      NA </td><td>      NA </td><td>       NA</td><td>⋯        </td><td>      NA </td><td>      NA </td><td>       NA</td><td>      NA </td><td>      NA </td><td>      NA </td><td>      NA </td><td>      NA </td><td>      NA </td><td>      NA </td></tr>\n",
       "\t<tr><td>-35.5    </td><td>83.5     </td><td>0        </td><td>-22.45833</td><td>349      </td><td>2774.936 </td><td>2423.491 </td><td>1.163562 </td><td>1.015996 </td><td>0.8688977</td><td>⋯        </td><td>1.431413 </td><td>1.403797 </td><td>0.7768923</td><td>1.720444 </td><td>1.926475 </td><td>1.565357 </td><td>1.689055 </td><td>1.520352 </td><td>1.576968 </td><td>1.163562 </td></tr>\n",
       "\t<tr><td>-35.0    </td><td>83.5     </td><td>0        </td><td>-21.87083</td><td>349      </td><td>2667.814 </td><td>2565.444 </td><td>1.157248 </td><td>1.016933 </td><td>0.8739587</td><td>⋯        </td><td>1.456682 </td><td>1.427449 </td><td>0.7638240</td><td>1.762643 </td><td>1.980742 </td><td>1.598472 </td><td>1.729416 </td><td>1.550831 </td><td>1.610763 </td><td>1.157248 </td></tr>\n",
       "\t<tr><td>-34.5    </td><td>83.5     </td><td>0        </td><td>-21.45208</td><td>349      </td><td>2602.497 </td><td>2622.679 </td><td>1.153398 </td><td>1.017311 </td><td>0.8770446</td><td>⋯        </td><td>1.466871 </td><td>1.436986 </td><td>0.7585549</td><td>1.779657 </td><td>2.002622 </td><td>1.611824 </td><td>1.745689 </td><td>1.563120 </td><td>1.624389 </td><td>1.153398 </td></tr>\n",
       "\t<tr><td>-33.5    </td><td>83.5     </td><td>0        </td><td>-21.72708</td><td>349      </td><td>2652.461 </td><td>2511.646 </td><td>1.156343 </td><td>1.016578 </td><td>0.8746840</td><td>⋯        </td><td>1.447106 </td><td>1.418485 </td><td>0.7687767</td><td>1.746650 </td><td>1.960175 </td><td>1.585922 </td><td>1.714119 </td><td>1.539279 </td><td>1.597955 </td><td>1.156343 </td></tr>\n",
       "</tbody>\n",
       "</table>\n"
      ],
      "text/latex": [
       "\\begin{tabular}{r|llllllllllllllllllllllllllllllllllllllllllllllllllllllllllllllllllllllllllllllllllllllllllllllllllllllllllllllllllllllllllllllllllllllllllllllllllllllllllllllllllllllllllllllllllllllllllllllllllllllllllllllllllllllllllllllllllllllllllllllllllllllllllllllllllllllllllllllllllllllllllllllllllllllllllllllllllllllllllllllllllllllllllllllllllllllllllllllllllllllllllllllllllllllllllllllllllllllllllllllllllllllllllllllllllllll}\n",
       " x & y & pop & tmrel & location\\_id & deg\\_days\\_heat & deg\\_days\\_cold & risk\\_1 & risk\\_2 & risk\\_3 & ⋯ & risk\\_406 & risk\\_407 & risk\\_408 & risk\\_409 & risk\\_410 & risk\\_411 & risk\\_412 & risk\\_413 & risk\\_414 & risk\\_1\\_val\\\\\n",
       "\\hline\n",
       "\t -36.5     & 83.5      & 0         & -21.98125 & 349       &       NA  &       NA  &       NA  &       NA  &        NA & ⋯         &       NA  &       NA  &        NA &       NA  &       NA  &       NA  &       NA  &       NA  &       NA  &       NA \\\\\n",
       "\t -36.0     & 83.5      & 0         & -22.38333 & 349       &       NA  &       NA  &       NA  &       NA  &        NA & ⋯         &       NA  &       NA  &        NA &       NA  &       NA  &       NA  &       NA  &       NA  &       NA  &       NA \\\\\n",
       "\t -35.5     & 83.5      & 0         & -22.45833 & 349       & 2774.936  & 2423.491  & 1.163562  & 1.015996  & 0.8688977 & ⋯         & 1.431413  & 1.403797  & 0.7768923 & 1.720444  & 1.926475  & 1.565357  & 1.689055  & 1.520352  & 1.576968  & 1.163562 \\\\\n",
       "\t -35.0     & 83.5      & 0         & -21.87083 & 349       & 2667.814  & 2565.444  & 1.157248  & 1.016933  & 0.8739587 & ⋯         & 1.456682  & 1.427449  & 0.7638240 & 1.762643  & 1.980742  & 1.598472  & 1.729416  & 1.550831  & 1.610763  & 1.157248 \\\\\n",
       "\t -34.5     & 83.5      & 0         & -21.45208 & 349       & 2602.497  & 2622.679  & 1.153398  & 1.017311  & 0.8770446 & ⋯         & 1.466871  & 1.436986  & 0.7585549 & 1.779657  & 2.002622  & 1.611824  & 1.745689  & 1.563120  & 1.624389  & 1.153398 \\\\\n",
       "\t -33.5     & 83.5      & 0         & -21.72708 & 349       & 2652.461  & 2511.646  & 1.156343  & 1.016578  & 0.8746840 & ⋯         & 1.447106  & 1.418485  & 0.7687767 & 1.746650  & 1.960175  & 1.585922  & 1.714119  & 1.539279  & 1.597955  & 1.156343 \\\\\n",
       "\\end{tabular}\n"
      ],
      "text/markdown": [
       "\n",
       "x | y | pop | tmrel | location_id | deg_days_heat | deg_days_cold | risk_1 | risk_2 | risk_3 | ⋯ | risk_406 | risk_407 | risk_408 | risk_409 | risk_410 | risk_411 | risk_412 | risk_413 | risk_414 | risk_1_val | \n",
       "|---|---|---|---|---|---|\n",
       "| -36.5     | 83.5      | 0         | -21.98125 | 349       |       NA  |       NA  |       NA  |       NA  |        NA | ⋯         |       NA  |       NA  |        NA |       NA  |       NA  |       NA  |       NA  |       NA  |       NA  |       NA  | \n",
       "| -36.0     | 83.5      | 0         | -22.38333 | 349       |       NA  |       NA  |       NA  |       NA  |        NA | ⋯         |       NA  |       NA  |        NA |       NA  |       NA  |       NA  |       NA  |       NA  |       NA  |       NA  | \n",
       "| -35.5     | 83.5      | 0         | -22.45833 | 349       | 2774.936  | 2423.491  | 1.163562  | 1.015996  | 0.8688977 | ⋯         | 1.431413  | 1.403797  | 0.7768923 | 1.720444  | 1.926475  | 1.565357  | 1.689055  | 1.520352  | 1.576968  | 1.163562  | \n",
       "| -35.0     | 83.5      | 0         | -21.87083 | 349       | 2667.814  | 2565.444  | 1.157248  | 1.016933  | 0.8739587 | ⋯         | 1.456682  | 1.427449  | 0.7638240 | 1.762643  | 1.980742  | 1.598472  | 1.729416  | 1.550831  | 1.610763  | 1.157248  | \n",
       "| -34.5     | 83.5      | 0         | -21.45208 | 349       | 2602.497  | 2622.679  | 1.153398  | 1.017311  | 0.8770446 | ⋯         | 1.466871  | 1.436986  | 0.7585549 | 1.779657  | 2.002622  | 1.611824  | 1.745689  | 1.563120  | 1.624389  | 1.153398  | \n",
       "| -33.5     | 83.5      | 0         | -21.72708 | 349       | 2652.461  | 2511.646  | 1.156343  | 1.016578  | 0.8746840 | ⋯         | 1.447106  | 1.418485  | 0.7687767 | 1.746650  | 1.960175  | 1.585922  | 1.714119  | 1.539279  | 1.597955  | 1.156343  | \n",
       "\n",
       "\n"
      ],
      "text/plain": [
       "  x     y    pop tmrel     location_id deg_days_heat deg_days_cold risk_1  \n",
       "1 -36.5 83.5 0   -21.98125 349               NA            NA            NA\n",
       "2 -36.0 83.5 0   -22.38333 349               NA            NA            NA\n",
       "3 -35.5 83.5 0   -22.45833 349         2774.936      2423.491      1.163562\n",
       "4 -35.0 83.5 0   -21.87083 349         2667.814      2565.444      1.157248\n",
       "5 -34.5 83.5 0   -21.45208 349         2602.497      2622.679      1.153398\n",
       "6 -33.5 83.5 0   -21.72708 349         2652.461      2511.646      1.156343\n",
       "  risk_2   risk_3    ⋯ risk_406 risk_407 risk_408  risk_409 risk_410 risk_411\n",
       "1       NA        NA ⋯       NA       NA        NA       NA       NA       NA\n",
       "2       NA        NA ⋯       NA       NA        NA       NA       NA       NA\n",
       "3 1.015996 0.8688977 ⋯ 1.431413 1.403797 0.7768923 1.720444 1.926475 1.565357\n",
       "4 1.016933 0.8739587 ⋯ 1.456682 1.427449 0.7638240 1.762643 1.980742 1.598472\n",
       "5 1.017311 0.8770446 ⋯ 1.466871 1.436986 0.7585549 1.779657 2.002622 1.611824\n",
       "6 1.016578 0.8746840 ⋯ 1.447106 1.418485 0.7687767 1.746650 1.960175 1.585922\n",
       "  risk_412 risk_413 risk_414 risk_1_val\n",
       "1       NA       NA       NA       NA  \n",
       "2       NA       NA       NA       NA  \n",
       "3 1.689055 1.520352 1.576968 1.163562  \n",
       "4 1.729416 1.550831 1.610763 1.157248  \n",
       "5 1.745689 1.563120 1.624389 1.153398  \n",
       "6 1.714119 1.539279 1.597955 1.156343  "
      ]
     },
     "metadata": {},
     "output_type": "display_data"
    }
   ],
   "source": [
    "head(temp_dat)"
   ]
  },
  {
   "cell_type": "code",
   "execution_count": 221,
   "metadata": {
    "collapsed": false
   },
   "outputs": [],
   "source": [
    "pafs = temp_dat[,lapply(1:nrow(risk), function(x){\n",
    "    sum((get(paste0('risk_',x))-1)*pop ,na.rm=T)/sum(get(paste0('risk_',x)) *pop,na.rm=T)\n",
    "}),by = 'location_id']"
   ]
  },
  {
   "cell_type": "code",
   "execution_count": 225,
   "metadata": {
    "collapsed": false
   },
   "outputs": [
    {
     "data": {
      "text/plain": [
       "1.6 GB"
      ]
     },
     "metadata": {},
     "output_type": "display_data"
    }
   ],
   "source": [
    "mem_used()"
   ]
  },
  {
   "cell_type": "code",
   "execution_count": 226,
   "metadata": {
    "collapsed": false
   },
   "outputs": [
    {
     "data": {
      "text/html": [
       "<table>\n",
       "<thead><tr><th scope=col>location_id</th><th scope=col>V1</th><th scope=col>V2</th><th scope=col>V3</th><th scope=col>V4</th><th scope=col>V5</th><th scope=col>V6</th><th scope=col>V7</th><th scope=col>V8</th><th scope=col>V9</th><th scope=col>⋯</th><th scope=col>V405</th><th scope=col>V406</th><th scope=col>V407</th><th scope=col>V408</th><th scope=col>V409</th><th scope=col>V410</th><th scope=col>V411</th><th scope=col>V412</th><th scope=col>V413</th><th scope=col>V414</th></tr></thead>\n",
       "<tbody>\n",
       "\t<tr><td>349        </td><td>0.07419136 </td><td>0.012130079</td><td>-0.06864257</td><td>0.03522860 </td><td>0.06201076 </td><td>0.019844293</td><td>0.02839627 </td><td>0.015544079</td><td>0.07071981 </td><td>⋯          </td><td>0.4983233  </td><td>0.2487791  </td><td>0.23662247 </td><td>-0.20665788</td><td>0.3560998  </td><td>0.4156119  </td><td>0.3026431  </td><td>0.3459524  </td><td>0.2854278  </td><td>0.3069507  </td></tr>\n",
       "\t<tr><td>101        </td><td>0.10819023 </td><td>0.008203820</td><td>-0.10771407</td><td>0.02400752 </td><td>0.09097627 </td><td>0.013455109</td><td>0.04236955 </td><td>0.010524550</td><td>0.10330532 </td><td>⋯          </td><td>0.4008892  </td><td>0.1823973  </td><td>0.17273853 </td><td>-0.13041772</td><td>0.2714284  </td><td>0.3239083  </td><td>0.2262168  </td><td>0.2627094  </td><td>0.2120270  </td><td>0.2297951  </td></tr>\n",
       "\t<tr><td> 62        </td><td>0.10247617 </td><td>0.008608945</td><td>-0.10073710</td><td>0.02517326 </td><td>0.08608360 </td><td>0.014115865</td><td>0.03997598 </td><td>0.011043002</td><td>0.09782096 </td><td>⋯          </td><td>0.4126185  </td><td>0.1897587  </td><td>0.17979584 </td><td>-0.13780924</td><td>0.2811474  </td><td>0.3346434  </td><td>0.2348388  </td><td>0.2722329  </td><td>0.2202621  </td><td>0.2385113  </td></tr>\n",
       "\t<tr><td>102        </td><td>0.08703988 </td><td>0.006643141</td><td>-0.08274084</td><td>0.01949948 </td><td>0.07291597 </td><td>0.010906420</td><td>0.03360181 </td><td>0.008526175</td><td>0.08302103 </td><td>⋯          </td><td>0.3510678  </td><td>0.1528039  </td><td>0.14443542 </td><td>-0.10287201</td><td>0.2314797  </td><td>0.2791955  </td><td>0.1911762  </td><td>0.2236500  </td><td>0.1786769  </td><td>0.1943394  </td></tr>\n",
       "\t<tr><td> 90        </td><td>0.07863525 </td><td>0.004270399</td><td>-0.07343268</td><td>0.01259303 </td><td>0.06577689 </td><td>0.007021719</td><td>0.03018658 </td><td>0.005484580</td><td>0.07497259 </td><td>⋯          </td><td>0.2575747  </td><td>0.1036752  </td><td>0.09768704 </td><td>-0.06362371</td><td>0.1618892  </td><td>0.1989740  </td><td>0.1316271  </td><td>0.1559358  </td><td>0.1224318  </td><td>0.1339682  </td></tr>\n",
       "\t<tr><td> 79        </td><td>0.08405412 </td><td>0.006146664</td><td>-0.07939606</td><td>0.01805965 </td><td>0.07037736 </td><td>0.010094565</td><td>0.03238413 </td><td>0.007890088</td><td>0.08016103 </td><td>⋯          </td><td>0.3334718  </td><td>0.1429561  </td><td>0.13504095 </td><td>-0.09440600</td><td>0.2178653  </td><td>0.2637379  </td><td>0.1793790  </td><td>0.2103701  </td><td>0.1674913  </td><td>0.1823910  </td></tr>\n",
       "</tbody>\n",
       "</table>\n"
      ],
      "text/latex": [
       "\\begin{tabular}{r|lllllllllllllllllllllllllllllllllllllllllllllllllllllllllllllllllllllllllllllllllllllllllllllllllllllllllllllllllllllllllllllllllllllllllllllllllllllllllllllllllllllllllllllllllllllllllllllllllllllllllllllllllllllllllllllllllllllllllllllllllllllllllllllllllllllllllllllllllllllllllllllllllllllllllllllllllllllllllllllllllllllllllllllllllllllllllllllllllllllllllllllllllllllllllllllllllllllllllllllllllllllllllllllll}\n",
       " location\\_id & V1 & V2 & V3 & V4 & V5 & V6 & V7 & V8 & V9 & ⋯ & V405 & V406 & V407 & V408 & V409 & V410 & V411 & V412 & V413 & V414\\\\\n",
       "\\hline\n",
       "\t 349         & 0.07419136  & 0.012130079 & -0.06864257 & 0.03522860  & 0.06201076  & 0.019844293 & 0.02839627  & 0.015544079 & 0.07071981  & ⋯           & 0.4983233   & 0.2487791   & 0.23662247  & -0.20665788 & 0.3560998   & 0.4156119   & 0.3026431   & 0.3459524   & 0.2854278   & 0.3069507  \\\\\n",
       "\t 101         & 0.10819023  & 0.008203820 & -0.10771407 & 0.02400752  & 0.09097627  & 0.013455109 & 0.04236955  & 0.010524550 & 0.10330532  & ⋯           & 0.4008892   & 0.1823973   & 0.17273853  & -0.13041772 & 0.2714284   & 0.3239083   & 0.2262168   & 0.2627094   & 0.2120270   & 0.2297951  \\\\\n",
       "\t  62         & 0.10247617  & 0.008608945 & -0.10073710 & 0.02517326  & 0.08608360  & 0.014115865 & 0.03997598  & 0.011043002 & 0.09782096  & ⋯           & 0.4126185   & 0.1897587   & 0.17979584  & -0.13780924 & 0.2811474   & 0.3346434   & 0.2348388   & 0.2722329   & 0.2202621   & 0.2385113  \\\\\n",
       "\t 102         & 0.08703988  & 0.006643141 & -0.08274084 & 0.01949948  & 0.07291597  & 0.010906420 & 0.03360181  & 0.008526175 & 0.08302103  & ⋯           & 0.3510678   & 0.1528039   & 0.14443542  & -0.10287201 & 0.2314797   & 0.2791955   & 0.1911762   & 0.2236500   & 0.1786769   & 0.1943394  \\\\\n",
       "\t  90         & 0.07863525  & 0.004270399 & -0.07343268 & 0.01259303  & 0.06577689  & 0.007021719 & 0.03018658  & 0.005484580 & 0.07497259  & ⋯           & 0.2575747   & 0.1036752   & 0.09768704  & -0.06362371 & 0.1618892   & 0.1989740   & 0.1316271   & 0.1559358   & 0.1224318   & 0.1339682  \\\\\n",
       "\t  79         & 0.08405412  & 0.006146664 & -0.07939606 & 0.01805965  & 0.07037736  & 0.010094565 & 0.03238413  & 0.007890088 & 0.08016103  & ⋯           & 0.3334718   & 0.1429561   & 0.13504095  & -0.09440600 & 0.2178653   & 0.2637379   & 0.1793790   & 0.2103701   & 0.1674913   & 0.1823910  \\\\\n",
       "\\end{tabular}\n"
      ],
      "text/markdown": [
       "\n",
       "location_id | V1 | V2 | V3 | V4 | V5 | V6 | V7 | V8 | V9 | ⋯ | V405 | V406 | V407 | V408 | V409 | V410 | V411 | V412 | V413 | V414 | \n",
       "|---|---|---|---|---|---|\n",
       "| 349         | 0.07419136  | 0.012130079 | -0.06864257 | 0.03522860  | 0.06201076  | 0.019844293 | 0.02839627  | 0.015544079 | 0.07071981  | ⋯           | 0.4983233   | 0.2487791   | 0.23662247  | -0.20665788 | 0.3560998   | 0.4156119   | 0.3026431   | 0.3459524   | 0.2854278   | 0.3069507   | \n",
       "| 101         | 0.10819023  | 0.008203820 | -0.10771407 | 0.02400752  | 0.09097627  | 0.013455109 | 0.04236955  | 0.010524550 | 0.10330532  | ⋯           | 0.4008892   | 0.1823973   | 0.17273853  | -0.13041772 | 0.2714284   | 0.3239083   | 0.2262168   | 0.2627094   | 0.2120270   | 0.2297951   | \n",
       "|  62         | 0.10247617  | 0.008608945 | -0.10073710 | 0.02517326  | 0.08608360  | 0.014115865 | 0.03997598  | 0.011043002 | 0.09782096  | ⋯           | 0.4126185   | 0.1897587   | 0.17979584  | -0.13780924 | 0.2811474   | 0.3346434   | 0.2348388   | 0.2722329   | 0.2202621   | 0.2385113   | \n",
       "| 102         | 0.08703988  | 0.006643141 | -0.08274084 | 0.01949948  | 0.07291597  | 0.010906420 | 0.03360181  | 0.008526175 | 0.08302103  | ⋯           | 0.3510678   | 0.1528039   | 0.14443542  | -0.10287201 | 0.2314797   | 0.2791955   | 0.1911762   | 0.2236500   | 0.1786769   | 0.1943394   | \n",
       "|  90         | 0.07863525  | 0.004270399 | -0.07343268 | 0.01259303  | 0.06577689  | 0.007021719 | 0.03018658  | 0.005484580 | 0.07497259  | ⋯           | 0.2575747   | 0.1036752   | 0.09768704  | -0.06362371 | 0.1618892   | 0.1989740   | 0.1316271   | 0.1559358   | 0.1224318   | 0.1339682   | \n",
       "|  79         | 0.08405412  | 0.006146664 | -0.07939606 | 0.01805965  | 0.07037736  | 0.010094565 | 0.03238413  | 0.007890088 | 0.08016103  | ⋯           | 0.3334718   | 0.1429561   | 0.13504095  | -0.09440600 | 0.2178653   | 0.2637379   | 0.1793790   | 0.2103701   | 0.1674913   | 0.1823910   | \n",
       "\n",
       "\n"
      ],
      "text/plain": [
       "  location_id V1         V2          V3          V4         V5        \n",
       "1 349         0.07419136 0.012130079 -0.06864257 0.03522860 0.06201076\n",
       "2 101         0.10819023 0.008203820 -0.10771407 0.02400752 0.09097627\n",
       "3  62         0.10247617 0.008608945 -0.10073710 0.02517326 0.08608360\n",
       "4 102         0.08703988 0.006643141 -0.08274084 0.01949948 0.07291597\n",
       "5  90         0.07863525 0.004270399 -0.07343268 0.01259303 0.06577689\n",
       "6  79         0.08405412 0.006146664 -0.07939606 0.01805965 0.07037736\n",
       "  V6          V7         V8          V9         ⋯ V405      V406     \n",
       "1 0.019844293 0.02839627 0.015544079 0.07071981 ⋯ 0.4983233 0.2487791\n",
       "2 0.013455109 0.04236955 0.010524550 0.10330532 ⋯ 0.4008892 0.1823973\n",
       "3 0.014115865 0.03997598 0.011043002 0.09782096 ⋯ 0.4126185 0.1897587\n",
       "4 0.010906420 0.03360181 0.008526175 0.08302103 ⋯ 0.3510678 0.1528039\n",
       "5 0.007021719 0.03018658 0.005484580 0.07497259 ⋯ 0.2575747 0.1036752\n",
       "6 0.010094565 0.03238413 0.007890088 0.08016103 ⋯ 0.3334718 0.1429561\n",
       "  V407       V408        V409      V410      V411      V412      V413     \n",
       "1 0.23662247 -0.20665788 0.3560998 0.4156119 0.3026431 0.3459524 0.2854278\n",
       "2 0.17273853 -0.13041772 0.2714284 0.3239083 0.2262168 0.2627094 0.2120270\n",
       "3 0.17979584 -0.13780924 0.2811474 0.3346434 0.2348388 0.2722329 0.2202621\n",
       "4 0.14443542 -0.10287201 0.2314797 0.2791955 0.1911762 0.2236500 0.1786769\n",
       "5 0.09768704 -0.06362371 0.1618892 0.1989740 0.1316271 0.1559358 0.1224318\n",
       "6 0.13504095 -0.09440600 0.2178653 0.2637379 0.1793790 0.2103701 0.1674913\n",
       "  V414     \n",
       "1 0.3069507\n",
       "2 0.2297951\n",
       "3 0.2385113\n",
       "4 0.1943394\n",
       "5 0.1339682\n",
       "6 0.1823910"
      ]
     },
     "metadata": {},
     "output_type": "display_data"
    }
   ],
   "source": [
    "head(pafs)"
   ]
  },
  {
   "cell_type": "code",
   "execution_count": null,
   "metadata": {
    "collapsed": true
   },
   "outputs": [],
   "source": []
  }
 ],
 "metadata": {
  "anaconda-cloud": {},
  "kernelspec": {
   "display_name": "R",
   "language": "R",
   "name": "ir"
  },
  "language_info": {
   "codemirror_mode": "r",
   "file_extension": ".r",
   "mimetype": "text/x-r-source",
   "name": "R",
   "pygments_lexer": "r",
   "version": "3.3.2"
  }
 },
 "nbformat": 4,
 "nbformat_minor": 1
}
