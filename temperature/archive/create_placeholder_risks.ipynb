{
 "cells": [
  {
   "cell_type": "code",
   "execution_count": 1,
   "metadata": {
    "collapsed": true
   },
   "outputs": [],
   "source": [
    "library(data.table)"
   ]
  },
  {
   "cell_type": "code",
   "execution_count": 2,
   "metadata": {
    "collapsed": true
   },
   "outputs": [],
   "source": [
    "#load central functions\n",
    "central_funks = list.files('/home/j/temp/central_comp/libraries/current/r/', \".R\")"
   ]
  },
  {
   "cell_type": "code",
   "execution_count": 3,
   "metadata": {
    "collapsed": false
   },
   "outputs": [],
   "source": [
    "for(fff in central_funks) {\n",
    "    source(paste0('/home/j/temp/central_comp/libraries/current/r/',fff))\n",
    "}"
   ]
  },
  {
   "cell_type": "code",
   "execution_count": 4,
   "metadata": {
    "collapsed": false
   },
   "outputs": [],
   "source": [
    "#get the ages for relative risks\n",
    "demos = get_demographics(gbd_team = 'epi')"
   ]
  },
  {
   "cell_type": "code",
   "execution_count": 5,
   "metadata": {
    "collapsed": true
   },
   "outputs": [],
   "source": [
    "#load the relative risk sheets\n",
    "rrs = data.table(read.csv('/home/j/temp/dccasey/temperature/risk/placeholder_bunker_temperature_risk.csv'))"
   ]
  },
  {
   "cell_type": "code",
   "execution_count": 6,
   "metadata": {
    "collapsed": false
   },
   "outputs": [],
   "source": [
    "#cross over by morbid/mort\n",
    "cross_over = data.table(table(rrs[,c('acause','measure')]))"
   ]
  },
  {
   "cell_type": "code",
   "execution_count": 7,
   "metadata": {
    "collapsed": false
   },
   "outputs": [
    {
     "name": "stderr",
     "output_type": "stream",
     "text": [
      "Using 'N' as value column. Use 'value.var' to override\n"
     ]
    }
   ],
   "source": [
    "#reshape wide\n",
    "cross_over = dcast(cross_over, acause~measure) #will need to be "
   ]
  },
  {
   "cell_type": "code",
   "execution_count": 8,
   "metadata": {
    "collapsed": false
   },
   "outputs": [],
   "source": [
    "#get causes with only mort or morbid\n",
    "miss_morbid = unique(cross_over[morbidity == 0 ,acause])\n",
    "add_morbid = rrs[acause %in% miss_morbid,]\n",
    "miss_mort = unique(cross_over[mortality == 0 ,acause])\n",
    "add_mort = rrs[acause %in% miss_mort,]"
   ]
  },
  {
   "cell_type": "code",
   "execution_count": 9,
   "metadata": {
    "collapsed": false
   },
   "outputs": [],
   "source": [
    "#change the measure\n",
    "add_morbid = add_morbid[,measure := 'morbidity']\n",
    "add_mort = add_mort[,measure := 'mortality']\n",
    "\n",
    "#combine\n",
    "rrs = rbindlist(list(rrs, add_morbid, add_mort))"
   ]
  },
  {
   "cell_type": "code",
   "execution_count": 10,
   "metadata": {
    "collapsed": true
   },
   "outputs": [],
   "source": [
    "#make a risk grid\n",
    "risk_grid = expand.grid(age_group_id = demos$age_group_ids, sex_id = 3, acause = unique(rrs[,acause]))"
   ]
  },
  {
   "cell_type": "code",
   "execution_count": 11,
   "metadata": {
    "collapsed": false
   },
   "outputs": [],
   "source": [
    "#merge in the rrs\n",
    "risk_grid = data.table(merge(risk_grid, rrs, by = 'acause'))"
   ]
  },
  {
   "cell_type": "code",
   "execution_count": 12,
   "metadata": {
    "collapsed": false
   },
   "outputs": [],
   "source": [
    "#create draws\n",
    "#back calculate SD\n",
    "risk_grid = risk_grid[, sd := ((upper-mean)/1.96)]\n",
    "setnames(risk_grid, c('mean', 'upper', 'lower','sd'), c('pc_mean','pc_upper','pc_lower','pc_sd'))"
   ]
  },
  {
   "cell_type": "code",
   "execution_count": 13,
   "metadata": {
    "collapsed": false
   },
   "outputs": [],
   "source": [
    "#create 1000 draws of risks\n",
    "risk_grid = risk_grid[, paste0('pc_',0:999) := lapply(0:999, function(x) rnorm(nrow(risk_grid) ,mean = pc_mean, sd = pc_sd))]\n",
    "risk_grid = risk_grid[, version:= 'test']"
   ]
  },
  {
   "cell_type": "code",
   "execution_count": 15,
   "metadata": {
    "collapsed": false
   },
   "outputs": [],
   "source": [
    "#save R object to be used later\n",
    "save(risk_grid, file = '/share/geospatial/temperature/estimates/risk/temperature_risks_test.Rdata')"
   ]
  },
  {
   "cell_type": "code",
   "execution_count": null,
   "metadata": {
    "collapsed": false
   },
   "outputs": [],
   "source": []
  },
  {
   "cell_type": "code",
   "execution_count": null,
   "metadata": {
    "collapsed": true
   },
   "outputs": [],
   "source": []
  }
 ],
 "metadata": {
  "anaconda-cloud": {},
  "kernelspec": {
   "display_name": "R",
   "language": "R",
   "name": "ir"
  },
  "language_info": {
   "codemirror_mode": "r",
   "file_extension": ".r",
   "mimetype": "text/x-r-source",
   "name": "R",
   "pygments_lexer": "r",
   "version": "3.3.2"
  }
 },
 "nbformat": 4,
 "nbformat_minor": 1
}
