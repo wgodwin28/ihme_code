{
 "cells": [
  {
   "cell_type": "code",
   "execution_count": 3,
   "metadata": {
    "collapsed": false
   },
   "outputs": [
    {
     "name": "stderr",
     "output_type": "stream",
     "text": [
      "Loading required package: sp\n",
      "rgdal: version: 1.2-4, (SVN revision 643)\n",
      " Geospatial Data Abstraction Library extensions to R successfully loaded\n",
      " Loaded GDAL runtime: GDAL 1.7.3, released 2010/11/10\n",
      " Path to GDAL shared files: /usr/share/gdal\n",
      " GDAL does not use iconv for recoding strings.\n",
      " Loaded PROJ.4 runtime: Rel. 4.7.1, 23 September 2009, [PJ_VERSION: 470]\n",
      " Path to PROJ.4 shared files: (autodetected)\n",
      " Linking to sp version: 1.2-3 \n",
      "\n",
      "Attaching package: ‘data.table’\n",
      "\n",
      "The following object is masked from ‘package:raster’:\n",
      "\n",
      "    shift\n",
      "\n"
     ]
    }
   ],
   "source": [
    "#Load libraries\n",
    "pack_lib = '/home/j/temp/dccasey/temperature/packages/'\n",
    ".libPaths(pack_lib)\n",
    "library('parallel')\n",
    "library('rgdal', lib.loc = '/home/j/temp/geospatial/packages')\n",
    "for(ppp in c('raster','ncdf4','data.table')){\n",
    "    library(ppp, lib.loc = pack_lib, character.only =T)\n",
    "}"
   ]
  },
  {
   "cell_type": "code",
   "execution_count": 4,
   "metadata": {
    "collapsed": false
   },
   "outputs": [],
   "source": [
    "\n",
    "#The parameters of the problem\n",
    "num_days = 9861\n",
    "months_num = 324\n",
    "num_na = 191780\n",
    "\n",
    "#generate baseline rasters\n",
    "r <- raster(nrows=360, ncols=720); \n",
    "values(r) <- NA\n",
    "x <- sapply(1:months_num, function(...) setValues(r, runif(ncell(r))))\n",
    "\n",
    "#make them a stack\n",
    "s = stack(x)\n",
    "\n",
    "#define what x coordinates the rasters refer to (e.g. loosely convert monthly to daily). Probably not the most elegant solution in the world.\n",
    "num_day_month = c(31,28,31,30,31,30,31,31,30,31,30,31)\n",
    "days = as.character(seq(as.Date('1989/01/01'), as.Date('2015/12/31'), by = 'day'))\n",
    "months = as.character(seq(as.Date('1989/01/01'), as.Date('2015/12/01'), by = 'month'))\n",
    "months = substr(months, 1,nchar(months)-3)\n",
    "mid_points = as.vector(lapply(months, function(x) grep(x,days,value =T)[round(length(grep(x,days,value =T))/2)]))\n",
    "mp_loc = days %in% mid_points\n",
    "#output is the monthly mid points on the daily scale\n",
    "mp_day_locs = (1:length(days))[mp_loc]\n",
    "\n",
    "#make some of the cells NA throughout the whole span. In the actual dataset, the NAs generally represent oceans.\n",
    "s[sample(ncell(s), num_na)] = NA\n",
    "\n",
    "#a function to interpolate\n",
    "interp_row <- function(base_indexes, value_vector, return_indexes, rule_num =2) {\n",
    "  nnn = length(value_vector)\n",
    "  if(any(is.na(value_vector))){ #(any(is.na(value_vector))) { #sum(! is.na(y)) < 2\n",
    "    return(rep(NA, nnn))\n",
    "  } else {\n",
    "    return(approx(x = base_indexes, y= value_vector, xout = return_indexes, rule=rule_num)$y)\n",
    "  }\n",
    "}\n",
    "\n",
    "#s_interp = calc(s, function(y) interp_row(base_indexes = mp_day_locs, value_vector = y, return_indexes = 1:length(days),rule_num = 2))\n",
    "\n",
    "#Now make a tiny version without NAs and so many cells\n",
    "#generate baseline rasters\n",
    "r <- raster(nrows=360, ncols=720); \n",
    "values(r) <- NA\n",
    "x <- sapply(1:months_num, function(...) setValues(r, runif(ncell(r))))\n",
    "#make them a stack\n",
    "q = stack(x)\n",
    "q_interp = calc(q, function(y) interp_row(base_indexes = mp_day_locs, value_vector = y, return_indexes = 1:length(days),rule_num = 2))\n"
   ]
  },
  {
   "cell_type": "code",
   "execution_count": null,
   "metadata": {
    "collapsed": true
   },
   "outputs": [],
   "source": []
  }
 ],
 "metadata": {
  "anaconda-cloud": {},
  "kernelspec": {
   "display_name": "R",
   "language": "R",
   "name": "ir"
  },
  "language_info": {
   "codemirror_mode": "r",
   "file_extension": ".r",
   "mimetype": "text/x-r-source",
   "name": "R",
   "pygments_lexer": "r",
   "version": "3.3.1"
  }
 },
 "nbformat": 4,
 "nbformat_minor": 1
}
