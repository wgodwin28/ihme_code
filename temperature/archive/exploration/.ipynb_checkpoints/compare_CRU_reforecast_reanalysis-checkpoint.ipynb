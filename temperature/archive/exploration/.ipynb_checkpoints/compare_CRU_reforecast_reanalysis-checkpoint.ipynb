{
 "cells": [
  {
   "cell_type": "code",
   "execution_count": 1,
   "metadata": {
    "collapsed": false
   },
   "outputs": [
    {
     "name": "stderr",
     "output_type": "stream",
     "text": [
      "Loading required package: sp\n",
      "\n",
      "Attaching package: ‘data.table’\n",
      "\n",
      "The following object is masked from ‘package:raster’:\n",
      "\n",
      "    shift\n",
      "\n"
     ]
    }
   ],
   "source": [
    "#Load libraries\n",
    "pack_lib = '/home/j/temp/dccasey/temperature/packages/'\n",
    ".libPaths(pack_lib)\n",
    "for(ppp in c('ncdf4','raster','data.table')){\n",
    "    library(ppp, lib.loc = pack_lib, character.only =T)\n",
    "}\n",
    "library('parallel')"
   ]
  },
  {
   "cell_type": "code",
   "execution_count": 2,
   "metadata": {
    "collapsed": true
   },
   "outputs": [],
   "source": [
    "#set some paths\n",
    "data.dir = '/home/j/temp/dccasey/temperature/data/'"
   ]
  },
  {
   "cell_type": "code",
   "execution_count": 3,
   "metadata": {
    "collapsed": false
   },
   "outputs": [],
   "source": [
    "#make all the reanalysis stuff monthly to compare with CRU\n",
    "ncep_files = paste0(data.dir,'ncep_reanalysis/air.2m.gauss.',1989:2016,'.nc')\n",
    "ncep = lapply(ncep_files, function(x) brick(x))"
   ]
  },
  {
   "cell_type": "code",
   "execution_count": 4,
   "metadata": {
    "collapsed": false
   },
   "outputs": [],
   "source": [
    "#make monthly means (note, the year begins 12/31 for ncep)\n",
    "#ncep format is XYYYY.MM.DD.HH.MM.SS\n",
    "#make a grid of months and years we want\n",
    "years = 1990:2015\n",
    "months = 1:12\n",
    "\n",
    "yymm = data.table(expand.grid(year = years,month = months))\n",
    "yymm = yymm[,month:= sprintf(\"%02d\", month)]"
   ]
  },
  {
   "cell_type": "code",
   "execution_count": 5,
   "metadata": {
    "collapsed": false
   },
   "outputs": [],
   "source": [
    "#calculate the monthly mean temperature\n",
    "monthly_mean_ncep = function(year, month, tlist){\n",
    "  good_bricks = unlist(lapply(tlist, function(x) length(grep(paste0('X',year,'\\\\.',month),names(x)))>=1))\n",
    "  tbrick = brick((lapply(tlist[good_bricks], function(x) x[[grep(paste0('X',year,'\\\\.',month),names(x))]])))\n",
    "  mm_ras = mean(tbrick)\n",
    "  \n",
    "  #convert to celcius\n",
    "  mm_ras = mm_ras- 273.15\n",
    "  \n",
    "  names(mm_ras) = paste0('y',year,'m',month)\n",
    "  return(mm_ras)\n",
    "}"
   ]
  },
  {
   "cell_type": "code",
   "execution_count": 6,
   "metadata": {
    "collapsed": false
   },
   "outputs": [],
   "source": [
    "#make monthly bricks\n",
    "ncep_monthly = mclapply(1:nrow(yymm), function(x) monthly_mean_ncep(yymm[x,year],yymm[x,month],ncep), mc.cores = 10)\n",
    "ncep_monthly = brick(ncep_monthly)"
   ]
  },
  {
   "cell_type": "code",
   "execution_count": 7,
   "metadata": {
    "collapsed": false
   },
   "outputs": [],
   "source": [
    "#do the reforecast stuff\n",
    "refor = brick(paste0(data.dir,'reforecast/','tmp_2m_gaussian_c00_19891201_20161228_dccaVw4fMp.nc'))"
   ]
  },
  {
   "cell_type": "code",
   "execution_count": 8,
   "metadata": {
    "collapsed": true
   },
   "outputs": [],
   "source": [
    "monthly_mean_reforecast = function(year, month, tbrick){\n",
    "  mm_ras = mean(tbrick)\n",
    "  \n",
    "  #convert to celcius\n",
    "  mm_ras = mm_ras- 273.15\n",
    "  \n",
    "  names(mm_ras) = paste0('y',year,'m',month)\n",
    "  return(mm_ras)\n",
    "}"
   ]
  },
  {
   "cell_type": "code",
   "execution_count": 9,
   "metadata": {
    "collapsed": false
   },
   "outputs": [],
   "source": [
    "refor_monthly = mclapply(1:nrow(yymm), function(x) monthly_mean_reforecast(yymm[x,year],yymm[x,month],refor[[grep(paste0('X',yymm[x,year],'\\\\.',yymm[x,month]),names(refor))]]), mc.cores = 10)"
   ]
  },
  {
   "cell_type": "code",
   "execution_count": 10,
   "metadata": {
    "collapsed": false
   },
   "outputs": [],
   "source": [
    "refor_monthly = brick(refor_monthly)"
   ]
  },
  {
   "cell_type": "code",
   "execution_count": 22,
   "metadata": {
    "collapsed": false
   },
   "outputs": [],
   "source": [
    "#fiddle with the extent\n",
    "b_e = as.vector(extent(refor_monthly))\n",
    "extent(refor_monthly) = extent(-180,180,b_e[3],b_e[4])\n",
    "n_e =as.vector(extent(ncep_monthly))\n",
    "extent(ncep_monthly) = extent(-180,180,n_e[3],n_e[4])"
   ]
  },
  {
   "cell_type": "code",
   "execution_count": 23,
   "metadata": {
    "collapsed": false
   },
   "outputs": [],
   "source": [
    "#load the cru stuff\n",
    "crus = c('1981.1990', '1991.2000','2001.2010','2011.2015')\n",
    "cru = lapply(paste0(data.dir,'cru_ts/','cru_ts3.24.',crus,'.tmp.dat.nc'), function(x) brick(x))"
   ]
  },
  {
   "cell_type": "code",
   "execution_count": 24,
   "metadata": {
    "collapsed": false
   },
   "outputs": [],
   "source": [
    "#drop years we don't need\n",
    "nine = names(cru[[1]])[as.numeric(substr(names(cru[[1]]),2,5))>=1990]\n",
    "cru[[1]] = cru[[1]][[nine]]\n",
    "#brick em all\n",
    "cru = brick(cru)"
   ]
  },
  {
   "cell_type": "code",
   "execution_count": 25,
   "metadata": {
    "collapsed": true
   },
   "outputs": [],
   "source": [
    "#rename cru\n",
    "names(cru) = paste0('y',gsub('\\\\.', \"m\", substr(names(cru), 2, nchar(names(cru))-3)))"
   ]
  },
  {
   "cell_type": "code",
   "execution_count": 27,
   "metadata": {
    "collapsed": false
   },
   "outputs": [
    {
     "data": {
      "text/html": [
       "<ol class=list-inline>\n",
       "\t<li>360</li>\n",
       "\t<li>720</li>\n",
       "\t<li>312</li>\n",
       "</ol>\n"
      ],
      "text/latex": [
       "\\begin{enumerate*}\n",
       "\\item 360\n",
       "\\item 720\n",
       "\\item 312\n",
       "\\end{enumerate*}\n"
      ],
      "text/markdown": [
       "1. 360\n",
       "2. 720\n",
       "3. 312\n",
       "\n",
       "\n"
      ],
      "text/plain": [
       "[1] 360 720 312"
      ]
     },
     "metadata": {},
     "output_type": "display_data"
    },
    {
     "data": {
      "text/html": [
       "<ol class=list-inline>\n",
       "\t<li>94</li>\n",
       "\t<li>192</li>\n",
       "\t<li>312</li>\n",
       "</ol>\n"
      ],
      "text/latex": [
       "\\begin{enumerate*}\n",
       "\\item 94\n",
       "\\item 192\n",
       "\\item 312\n",
       "\\end{enumerate*}\n"
      ],
      "text/markdown": [
       "1. 94\n",
       "2. 192\n",
       "3. 312\n",
       "\n",
       "\n"
      ],
      "text/plain": [
       "[1]  94 192 312"
      ]
     },
     "metadata": {},
     "output_type": "display_data"
    },
    {
     "data": {
      "text/html": [
       "<ol class=list-inline>\n",
       "\t<li>384</li>\n",
       "\t<li>768</li>\n",
       "\t<li>312</li>\n",
       "</ol>\n"
      ],
      "text/latex": [
       "\\begin{enumerate*}\n",
       "\\item 384\n",
       "\\item 768\n",
       "\\item 312\n",
       "\\end{enumerate*}\n"
      ],
      "text/markdown": [
       "1. 384\n",
       "2. 768\n",
       "3. 312\n",
       "\n",
       "\n"
      ],
      "text/plain": [
       "[1] 384 768 312"
      ]
     },
     "metadata": {},
     "output_type": "display_data"
    },
    {
     "data": {
      "text/plain": [
       "[[1]]\n",
       "class       : Extent \n",
       "xmin        : -180 \n",
       "xmax        : 180 \n",
       "ymin        : -90 \n",
       "ymax        : 90 \n",
       "\n",
       "[[2]]\n",
       "class       : Extent \n",
       "xmin        : -180 \n",
       "xmax        : 180 \n",
       "ymin        : -89.49406 \n",
       "ymax        : 89.49406 \n",
       "\n",
       "[[3]]\n",
       "class       : Extent \n",
       "xmin        : -180 \n",
       "xmax        : 180 \n",
       "ymin        : -89.87605 \n",
       "ymax        : 89.87605 \n"
      ]
     },
     "metadata": {},
     "output_type": "display_data"
    }
   ],
   "source": [
    "#resample everything to match cru (side sample for refor, downsample for ncep)\n",
    "dim(cru)\n",
    "dim(ncep_monthly)\n",
    "dim(refor_monthly)\n",
    "lapply(c(cru, ncep_monthly, refor_monthly), function(x) extent(x))"
   ]
  },
  {
   "cell_type": "code",
   "execution_count": null,
   "metadata": {
    "collapsed": false
   },
   "outputs": [],
   "source": [
    "ncep_re = resample(ncep_monthly, cru)"
   ]
  },
  {
   "cell_type": "code",
   "execution_count": null,
   "metadata": {
    "collapsed": false
   },
   "outputs": [],
   "source": [
    "refor_re = resample(refor_monthly, cru)"
   ]
  },
  {
   "cell_type": "code",
   "execution_count": null,
   "metadata": {
    "collapsed": false
   },
   "outputs": [],
   "source": [
    "lapply(c(cru, ncep_re, refor_re), function(x) dim(x))"
   ]
  },
  {
   "cell_type": "code",
   "execution_count": null,
   "metadata": {
    "collapsed": true
   },
   "outputs": [],
   "source": []
  }
 ],
 "metadata": {
  "anaconda-cloud": {},
  "kernelspec": {
   "display_name": "R",
   "language": "R",
   "name": "ir"
  },
  "language_info": {
   "codemirror_mode": "r",
   "file_extension": ".r",
   "mimetype": "text/x-r-source",
   "name": "R",
   "pygments_lexer": "r",
   "version": "3.3.1"
  }
 },
 "nbformat": 4,
 "nbformat_minor": 1
}
