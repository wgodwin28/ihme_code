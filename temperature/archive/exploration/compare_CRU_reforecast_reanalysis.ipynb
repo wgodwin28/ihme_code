{
 "cells": [
  {
   "cell_type": "code",
   "execution_count": 64,
   "metadata": {
    "collapsed": false
   },
   "outputs": [
    {
     "name": "stderr",
     "output_type": "stream",
     "text": [
      "rgdal: version: 1.2-4, (SVN revision 643)\n",
      " Geospatial Data Abstraction Library extensions to R successfully loaded\n",
      " Loaded GDAL runtime: GDAL 1.7.3, released 2010/11/10\n",
      " Path to GDAL shared files: /usr/share/gdal\n",
      " GDAL does not use iconv for recoding strings.\n",
      " Loaded PROJ.4 runtime: Rel. 4.7.1, 23 September 2009, [PJ_VERSION: 470]\n",
      " Path to PROJ.4 shared files: (autodetected)\n",
      " Linking to sp version: 1.2-3 \n"
     ]
    }
   ],
   "source": [
    "#Load libraries\n",
    "pack_lib = '/home/j/temp/dccasey/temperature/packages/'\n",
    ".libPaths(pack_lib)\n",
    "for(ppp in c('ncdf4','raster','data.table')){\n",
    "    library(ppp, lib.loc = pack_lib, character.only =T)\n",
    "}\n",
    "library('parallel')\n",
    "library('rgdal', lib.loc = '/home/j/temp/geospatial/packages')"
   ]
  },
  {
   "cell_type": "code",
   "execution_count": 60,
   "metadata": {
    "collapsed": true
   },
   "outputs": [],
   "source": [
    "#set some paths\n",
    "data.dir = '/home/j/temp/dccasey/temperature/data/'\n",
    "pop.dir = '/home/j/WORK/01_covariates/02_inputs/population_counts/outputs/full_ts_1980_2015/'"
   ]
  },
  {
   "cell_type": "code",
   "execution_count": 3,
   "metadata": {
    "collapsed": false
   },
   "outputs": [],
   "source": [
    "#make all the reanalysis stuff monthly to compare with CRU\n",
    "ncep_files = paste0(data.dir,'ncep_reanalysis/air.2m.gauss.',1989:2016,'.nc')\n",
    "ncep = lapply(ncep_files, function(x) brick(x))"
   ]
  },
  {
   "cell_type": "code",
   "execution_count": 4,
   "metadata": {
    "collapsed": false
   },
   "outputs": [],
   "source": [
    "#make monthly means (note, the year begins 12/31 for ncep)\n",
    "#ncep format is XYYYY.MM.DD.HH.MM.SS\n",
    "#make a grid of months and years we want\n",
    "years = 1990:2015\n",
    "months = 1:12\n",
    "\n",
    "yymm = data.table(expand.grid(year = years,month = months))\n",
    "yymm = yymm[,month:= sprintf(\"%02d\", month)]"
   ]
  },
  {
   "cell_type": "code",
   "execution_count": 5,
   "metadata": {
    "collapsed": false
   },
   "outputs": [],
   "source": [
    "#calculate the monthly mean temperature\n",
    "monthly_mean_ncep = function(year, month, tlist){\n",
    "  good_bricks = unlist(lapply(tlist, function(x) length(grep(paste0('X',year,'\\\\.',month),names(x)))>=1))\n",
    "  tbrick = brick((lapply(tlist[good_bricks], function(x) x[[grep(paste0('X',year,'\\\\.',month),names(x))]])))\n",
    "  mm_ras = mean(tbrick)\n",
    "  \n",
    "  #convert to celcius\n",
    "  mm_ras = mm_ras- 273.15\n",
    "  \n",
    "  names(mm_ras) = paste0('y',year,'m',month)\n",
    "  return(mm_ras)\n",
    "}"
   ]
  },
  {
   "cell_type": "code",
   "execution_count": 6,
   "metadata": {
    "collapsed": false
   },
   "outputs": [],
   "source": [
    "#make monthly bricks\n",
    "ncep_monthly = mclapply(1:nrow(yymm), function(x) monthly_mean_ncep(yymm[x,year],yymm[x,month],ncep), mc.cores = 10)\n",
    "ncep_monthly = brick(ncep_monthly)"
   ]
  },
  {
   "cell_type": "code",
   "execution_count": 7,
   "metadata": {
    "collapsed": false
   },
   "outputs": [],
   "source": [
    "#do the reforecast stuff\n",
    "refor = brick(paste0(data.dir,'reforecast/','tmp_2m_gaussian_c00_19891201_20161228_dccaVw4fMp.nc'))"
   ]
  },
  {
   "cell_type": "code",
   "execution_count": 8,
   "metadata": {
    "collapsed": true
   },
   "outputs": [],
   "source": [
    "monthly_mean_reforecast = function(year, month, tbrick){\n",
    "  mm_ras = mean(tbrick)\n",
    "  \n",
    "  #convert to celcius\n",
    "  mm_ras = mm_ras- 273.15\n",
    "  \n",
    "  names(mm_ras) = paste0('y',year,'m',month)\n",
    "  return(mm_ras)\n",
    "}"
   ]
  },
  {
   "cell_type": "code",
   "execution_count": 9,
   "metadata": {
    "collapsed": false
   },
   "outputs": [],
   "source": [
    "refor_monthly = mclapply(1:nrow(yymm), function(x) monthly_mean_reforecast(yymm[x,year],yymm[x,month],refor[[grep(paste0('X',yymm[x,year],'\\\\.',yymm[x,month]),names(refor))]]), mc.cores = 10)"
   ]
  },
  {
   "cell_type": "code",
   "execution_count": 10,
   "metadata": {
    "collapsed": false
   },
   "outputs": [],
   "source": [
    "refor_monthly = brick(refor_monthly)"
   ]
  },
  {
   "cell_type": "code",
   "execution_count": 22,
   "metadata": {
    "collapsed": false
   },
   "outputs": [],
   "source": [
    "#fiddle with the extent\n",
    "b_e = as.vector(extent(refor_monthly))\n",
    "extent(refor_monthly) = extent(-180,180,b_e[3],b_e[4])\n",
    "n_e =as.vector(extent(ncep_monthly))\n",
    "extent(ncep_monthly) = extent(-180,180,n_e[3],n_e[4])"
   ]
  },
  {
   "cell_type": "code",
   "execution_count": 23,
   "metadata": {
    "collapsed": false
   },
   "outputs": [],
   "source": [
    "#load the cru stuff\n",
    "crus = c('1981.1990', '1991.2000','2001.2010','2011.2015')\n",
    "cru = lapply(paste0(data.dir,'cru_ts/','cru_ts3.24.',crus,'.tmp.dat.nc'), function(x) brick(x))"
   ]
  },
  {
   "cell_type": "code",
   "execution_count": 24,
   "metadata": {
    "collapsed": false
   },
   "outputs": [],
   "source": [
    "#drop years we don't need\n",
    "nine = names(cru[[1]])[as.numeric(substr(names(cru[[1]]),2,5))>=1990]\n",
    "cru[[1]] = cru[[1]][[nine]]\n",
    "#brick em all\n",
    "cru = brick(cru)"
   ]
  },
  {
   "cell_type": "code",
   "execution_count": 25,
   "metadata": {
    "collapsed": true
   },
   "outputs": [],
   "source": [
    "#rename cru\n",
    "names(cru) = paste0('y',gsub('\\\\.', \"m\", substr(names(cru), 2, nchar(names(cru))-3)))"
   ]
  },
  {
   "cell_type": "code",
   "execution_count": 272,
   "metadata": {
    "collapsed": false
   },
   "outputs": [
    {
     "data": {
      "text/plain": [
       "class       : RasterBrick \n",
       "dimensions  : 94, 192, 18048, 312  (nrow, ncol, ncell, nlayers)\n",
       "resolution  : 1.875, 1.904129  (x, y)\n",
       "extent      : -180, 180, -89.49406, 89.49406  (xmin, xmax, ymin, ymax)\n",
       "coord. ref. : +proj=longlat +datum=WGS84 \n",
       "data source : in memory\n",
       "names       :  y1990m01,  y1991m01,  y1992m01,  y1993m01,  y1994m01,  y1995m01,  y1996m01,  y1997m01,  y1998m01,  y1999m01,  y2000m01,  y2001m01,  y2002m01,  y2003m01,  y2004m01, ... \n",
       "min values  : -42.87065, -39.14936, -38.59258, -46.98194, -42.46807, -43.71032, -38.04387, -41.03581, -37.94871, -38.25903, -38.17936, -37.63419, -37.65678, -35.09807, -38.87194, ... \n",
       "max values  :  33.59419,  35.22516,  32.63516,  33.84742,  34.76903,  33.37258,  35.06613,  32.44742,  34.13419,  33.94000,  32.08967,  33.71000,  33.11419,  33.90226,  33.54806, ... \n"
      ]
     },
     "metadata": {},
     "output_type": "display_data"
    }
   ],
   "source": [
    "ncep_monthly"
   ]
  },
  {
   "cell_type": "code",
   "execution_count": 27,
   "metadata": {
    "collapsed": false
   },
   "outputs": [
    {
     "data": {
      "text/html": [
       "<ol class=list-inline>\n",
       "\t<li>360</li>\n",
       "\t<li>720</li>\n",
       "\t<li>312</li>\n",
       "</ol>\n"
      ],
      "text/latex": [
       "\\begin{enumerate*}\n",
       "\\item 360\n",
       "\\item 720\n",
       "\\item 312\n",
       "\\end{enumerate*}\n"
      ],
      "text/markdown": [
       "1. 360\n",
       "2. 720\n",
       "3. 312\n",
       "\n",
       "\n"
      ],
      "text/plain": [
       "[1] 360 720 312"
      ]
     },
     "metadata": {},
     "output_type": "display_data"
    },
    {
     "data": {
      "text/html": [
       "<ol class=list-inline>\n",
       "\t<li>94</li>\n",
       "\t<li>192</li>\n",
       "\t<li>312</li>\n",
       "</ol>\n"
      ],
      "text/latex": [
       "\\begin{enumerate*}\n",
       "\\item 94\n",
       "\\item 192\n",
       "\\item 312\n",
       "\\end{enumerate*}\n"
      ],
      "text/markdown": [
       "1. 94\n",
       "2. 192\n",
       "3. 312\n",
       "\n",
       "\n"
      ],
      "text/plain": [
       "[1]  94 192 312"
      ]
     },
     "metadata": {},
     "output_type": "display_data"
    },
    {
     "data": {
      "text/html": [
       "<ol class=list-inline>\n",
       "\t<li>384</li>\n",
       "\t<li>768</li>\n",
       "\t<li>312</li>\n",
       "</ol>\n"
      ],
      "text/latex": [
       "\\begin{enumerate*}\n",
       "\\item 384\n",
       "\\item 768\n",
       "\\item 312\n",
       "\\end{enumerate*}\n"
      ],
      "text/markdown": [
       "1. 384\n",
       "2. 768\n",
       "3. 312\n",
       "\n",
       "\n"
      ],
      "text/plain": [
       "[1] 384 768 312"
      ]
     },
     "metadata": {},
     "output_type": "display_data"
    },
    {
     "data": {
      "text/plain": [
       "[[1]]\n",
       "class       : Extent \n",
       "xmin        : -180 \n",
       "xmax        : 180 \n",
       "ymin        : -90 \n",
       "ymax        : 90 \n",
       "\n",
       "[[2]]\n",
       "class       : Extent \n",
       "xmin        : -180 \n",
       "xmax        : 180 \n",
       "ymin        : -89.49406 \n",
       "ymax        : 89.49406 \n",
       "\n",
       "[[3]]\n",
       "class       : Extent \n",
       "xmin        : -180 \n",
       "xmax        : 180 \n",
       "ymin        : -89.87605 \n",
       "ymax        : 89.87605 \n"
      ]
     },
     "metadata": {},
     "output_type": "display_data"
    }
   ],
   "source": [
    "#resample everything to match cru (side sample for refor, downsample for ncep)\n",
    "dim(cru)\n",
    "dim(ncep_monthly)\n",
    "dim(refor_monthly)\n",
    "lapply(c(cru, ncep_monthly, refor_monthly), function(x) extent(x))"
   ]
  },
  {
   "cell_type": "code",
   "execution_count": 50,
   "metadata": {
    "collapsed": false
   },
   "outputs": [],
   "source": [
    "ncep_re = setNames(resample(ncep_monthly, cru), names(ncep_monthly))"
   ]
  },
  {
   "cell_type": "code",
   "execution_count": 51,
   "metadata": {
    "collapsed": false
   },
   "outputs": [],
   "source": [
    "refor_re = setNames(resample(refor_monthly, cru), names(refor_monthly))"
   ]
  },
  {
   "cell_type": "code",
   "execution_count": 57,
   "metadata": {
    "collapsed": true
   },
   "outputs": [],
   "source": [
    "#fix names\n",
    "names(ncep_re) = names(ncep_monthly)\n",
    "names(refor_re) = names(refor_monthly)"
   ]
  },
  {
   "cell_type": "code",
   "execution_count": 42,
   "metadata": {
    "collapsed": true
   },
   "outputs": [],
   "source": [
    "#make a cru mask\n",
    "cru_mask = !is.na(cru[[1]])\n",
    "cru_mask[cru_mask == 0] = NA"
   ]
  },
  {
   "cell_type": "code",
   "execution_count": 52,
   "metadata": {
    "collapsed": false
   },
   "outputs": [],
   "source": [
    "#apply the mask\n",
    "ncep_re = ncep_re * cru_mask\n",
    "refor_re = refor_re * cru_mask"
   ]
  },
  {
   "cell_type": "code",
   "execution_count": 58,
   "metadata": {
    "collapsed": false
   },
   "outputs": [
    {
     "data": {
      "text/html": [
       "<ol>\n",
       "\t<li><ol class=list-inline>\n",
       "\t<li>'y1990m01'</li>\n",
       "\t<li>'y1991m01'</li>\n",
       "\t<li>'y1992m01'</li>\n",
       "\t<li>'y1993m01'</li>\n",
       "\t<li>'y1994m01'</li>\n",
       "\t<li>'y1995m01'</li>\n",
       "\t<li>'y1996m01'</li>\n",
       "\t<li>'y1997m01'</li>\n",
       "\t<li>'y1998m01'</li>\n",
       "\t<li>'y1999m01'</li>\n",
       "</ol>\n",
       "</li>\n",
       "\t<li><ol class=list-inline>\n",
       "\t<li>'y1990m01'</li>\n",
       "\t<li>'y1991m01'</li>\n",
       "\t<li>'y1992m01'</li>\n",
       "\t<li>'y1993m01'</li>\n",
       "\t<li>'y1994m01'</li>\n",
       "\t<li>'y1995m01'</li>\n",
       "\t<li>'y1996m01'</li>\n",
       "\t<li>'y1997m01'</li>\n",
       "\t<li>'y1998m01'</li>\n",
       "\t<li>'y1999m01'</li>\n",
       "</ol>\n",
       "</li>\n",
       "\t<li><ol class=list-inline>\n",
       "\t<li>'y1990m01'</li>\n",
       "\t<li>'y1990m02'</li>\n",
       "\t<li>'y1990m03'</li>\n",
       "\t<li>'y1990m04'</li>\n",
       "\t<li>'y1990m05'</li>\n",
       "\t<li>'y1990m06'</li>\n",
       "\t<li>'y1990m07'</li>\n",
       "\t<li>'y1990m08'</li>\n",
       "\t<li>'y1990m09'</li>\n",
       "\t<li>'y1990m10'</li>\n",
       "</ol>\n",
       "</li>\n",
       "</ol>\n"
      ],
      "text/latex": [
       "\\begin{enumerate}\n",
       "\\item \\begin{enumerate*}\n",
       "\\item 'y1990m01'\n",
       "\\item 'y1991m01'\n",
       "\\item 'y1992m01'\n",
       "\\item 'y1993m01'\n",
       "\\item 'y1994m01'\n",
       "\\item 'y1995m01'\n",
       "\\item 'y1996m01'\n",
       "\\item 'y1997m01'\n",
       "\\item 'y1998m01'\n",
       "\\item 'y1999m01'\n",
       "\\end{enumerate*}\n",
       "\n",
       "\\item \\begin{enumerate*}\n",
       "\\item 'y1990m01'\n",
       "\\item 'y1991m01'\n",
       "\\item 'y1992m01'\n",
       "\\item 'y1993m01'\n",
       "\\item 'y1994m01'\n",
       "\\item 'y1995m01'\n",
       "\\item 'y1996m01'\n",
       "\\item 'y1997m01'\n",
       "\\item 'y1998m01'\n",
       "\\item 'y1999m01'\n",
       "\\end{enumerate*}\n",
       "\n",
       "\\item \\begin{enumerate*}\n",
       "\\item 'y1990m01'\n",
       "\\item 'y1990m02'\n",
       "\\item 'y1990m03'\n",
       "\\item 'y1990m04'\n",
       "\\item 'y1990m05'\n",
       "\\item 'y1990m06'\n",
       "\\item 'y1990m07'\n",
       "\\item 'y1990m08'\n",
       "\\item 'y1990m09'\n",
       "\\item 'y1990m10'\n",
       "\\end{enumerate*}\n",
       "\n",
       "\\end{enumerate}\n"
      ],
      "text/markdown": [
       "1. 1. 'y1990m01'\n",
       "2. 'y1991m01'\n",
       "3. 'y1992m01'\n",
       "4. 'y1993m01'\n",
       "5. 'y1994m01'\n",
       "6. 'y1995m01'\n",
       "7. 'y1996m01'\n",
       "8. 'y1997m01'\n",
       "9. 'y1998m01'\n",
       "10. 'y1999m01'\n",
       "\n",
       "\n",
       "\n",
       "2. 1. 'y1990m01'\n",
       "2. 'y1991m01'\n",
       "3. 'y1992m01'\n",
       "4. 'y1993m01'\n",
       "5. 'y1994m01'\n",
       "6. 'y1995m01'\n",
       "7. 'y1996m01'\n",
       "8. 'y1997m01'\n",
       "9. 'y1998m01'\n",
       "10. 'y1999m01'\n",
       "\n",
       "\n",
       "\n",
       "3. 1. 'y1990m01'\n",
       "2. 'y1990m02'\n",
       "3. 'y1990m03'\n",
       "4. 'y1990m04'\n",
       "5. 'y1990m05'\n",
       "6. 'y1990m06'\n",
       "7. 'y1990m07'\n",
       "8. 'y1990m08'\n",
       "9. 'y1990m09'\n",
       "10. 'y1990m10'\n",
       "\n",
       "\n",
       "\n",
       "\n",
       "\n"
      ],
      "text/plain": [
       "[[1]]\n",
       " [1] \"y1990m01\" \"y1991m01\" \"y1992m01\" \"y1993m01\" \"y1994m01\" \"y1995m01\"\n",
       " [7] \"y1996m01\" \"y1997m01\" \"y1998m01\" \"y1999m01\"\n",
       "\n",
       "[[2]]\n",
       " [1] \"y1990m01\" \"y1991m01\" \"y1992m01\" \"y1993m01\" \"y1994m01\" \"y1995m01\"\n",
       " [7] \"y1996m01\" \"y1997m01\" \"y1998m01\" \"y1999m01\"\n",
       "\n",
       "[[3]]\n",
       " [1] \"y1990m01\" \"y1990m02\" \"y1990m03\" \"y1990m04\" \"y1990m05\" \"y1990m06\"\n",
       " [7] \"y1990m07\" \"y1990m08\" \"y1990m09\" \"y1990m10\"\n"
      ]
     },
     "metadata": {},
     "output_type": "display_data"
    }
   ],
   "source": [
    "lapply(c(ncep_re, refor_re, cru), function(x) names(x)[1:10])"
   ]
  },
  {
   "cell_type": "code",
   "execution_count": 74,
   "metadata": {
    "collapsed": false
   },
   "outputs": [],
   "source": [
    "#make a population mask\n",
    "pop_files = paste0(pop.dir, 'glp',1990:2016,'ag.tif')"
   ]
  },
  {
   "cell_type": "code",
   "execution_count": 68,
   "metadata": {
    "collapsed": true
   },
   "outputs": [],
   "source": [
    "pop1990 = raster(paste0(pop.dir, 'glp',1990:2016,'ag.tif')[1])"
   ]
  },
  {
   "cell_type": "code",
   "execution_count": 73,
   "metadata": {
    "collapsed": false
   },
   "outputs": [],
   "source": [
    "#load pops\n",
    "load_pop = function(file_name, basegrid){\n",
    "    pop=raster(file_name)\n",
    "    fact = round(dim(pop)[1:2] / dim(basegrid)[1:2])\n",
    "    pop = aggregate(pop, fact)\n",
    "    pop = resample(pop, basegrid)\n",
    "    return(pop)\n",
    "}\n"
   ]
  },
  {
   "cell_type": "code",
   "execution_count": 248,
   "metadata": {
    "collapsed": false
   },
   "outputs": [],
   "source": [
    "#load pops\n",
    "pop = mclapply(pop_files, function(x) load_pop(x, cru_mask),mc.cores = 9)"
   ]
  },
  {
   "cell_type": "code",
   "execution_count": null,
   "metadata": {
    "collapsed": false
   },
   "outputs": [],
   "source": []
  },
  {
   "cell_type": "code",
   "execution_count": 249,
   "metadata": {
    "collapsed": false
   },
   "outputs": [],
   "source": [
    "pop = brick(pop)\n",
    "pop = pop * cru_mask"
   ]
  },
  {
   "cell_type": "code",
   "execution_count": 250,
   "metadata": {
    "collapsed": false
   },
   "outputs": [],
   "source": [
    "names(pop) = paste0('pop',1990:2016)"
   ]
  },
  {
   "cell_type": "code",
   "execution_count": 266,
   "metadata": {
    "collapsed": false
   },
   "outputs": [],
   "source": [
    "#make a pop_mask\n",
    "pop_mask = pop>1"
   ]
  },
  {
   "cell_type": "code",
   "execution_count": 267,
   "metadata": {
    "collapsed": false
   },
   "outputs": [],
   "source": [
    "pop_mask[pop_mask==0] = NA"
   ]
  },
  {
   "cell_type": "code",
   "execution_count": 268,
   "metadata": {
    "collapsed": false
   },
   "outputs": [],
   "source": [
    "names(pop_mask) = names(pop)"
   ]
  },
  {
   "cell_type": "code",
   "execution_count": 269,
   "metadata": {
    "collapsed": false
   },
   "outputs": [],
   "source": [
    "#pop mask temp\n",
    "pop_mask_temp =function(year, pop_m, temper_objs){\n",
    "    #subset to the relevant years\n",
    "    pm = pop_m[[paste0('pop',year)]]\n",
    "    \n",
    "    t_o = lapply(temper_objs, function(x) x[[grep(year, names(x))]])\n",
    "        \n",
    "    #convert all to dataframe\n",
    "    names(pm) = 'pop_mask'\n",
    "    pm = as.data.frame(pm, xy = T)\n",
    "    t_o = lapply(1:length(t_o), function(x) as.data.frame(t_o[[x]]))\n",
    "        \n",
    "    #set names of t_o\n",
    "    t_o = lapply(1:length(t_o), function(x) setNames(t_o[[x]], paste0(names(temper_objs)[[x]],'_',names(t_o[[x]]))))\n",
    "    \n",
    "    ret_obj = as.data.table(do.call(cbind, c(pm, t_o)))\n",
    "    ret_obj = ret_obj[!is.na(pop_mask),]\n",
    "        \n",
    "    #reshape long\n",
    "    #get unique month and days\n",
    "    pos_names = grep('y[0-9][0-9][0-9][0-9]m[0-9][0-9]',names(ret_obj),value = T)\n",
    "    ym = unique(substr(pos_names, nchar(pos_names)-7, nchar(pos_names)))\n",
    "        \n",
    "    ret_obj = melt(ret_obj, measure = lapply(names(temper_objs), function(x) paste0(x,'_',ym)), value.name = names(temper_objs),variable.factor =F)\n",
    "        \n",
    "    setnames(ret_obj, 'variable', 'month')\n",
    "    ret_obj = ret_obj[,the_year := year]\n",
    "    \n",
    "    return(ret_obj)\n",
    "}"
   ]
  },
  {
   "cell_type": "code",
   "execution_count": 270,
   "metadata": {
    "collapsed": false
   },
   "outputs": [],
   "source": [
    "#make pop mask temps\n",
    "pm_temp = lapply(1990:2015, function(yyy) pop_mask_temp(year = yyy, pop_m = pop_mask, temper_objs = list(cru = cru, ncep = ncep_re, refor = refor_re)))"
   ]
  },
  {
   "cell_type": "code",
   "execution_count": 271,
   "metadata": {
    "collapsed": false
   },
   "outputs": [
    {
     "data": {
      "text/html": [
       "<ol>\n",
       "\t<li><table>\n",
       "<thead><tr><th></th><th scope=col>ncep</th><th scope=col>refor</th><th scope=col>cru</th></tr></thead>\n",
       "<tbody>\n",
       "\t<tr><th scope=row>ncep</th><td>1.0000000</td><td>0.9777497</td><td>0.7965946</td></tr>\n",
       "\t<tr><th scope=row>refor</th><td>0.9777497</td><td>1.0000000</td><td>0.7779208</td></tr>\n",
       "\t<tr><th scope=row>cru</th><td>0.7965946</td><td>0.7779208</td><td>1.0000000</td></tr>\n",
       "</tbody>\n",
       "</table>\n",
       "</li>\n",
       "\t<li><table>\n",
       "<thead><tr><th></th><th scope=col>ncep</th><th scope=col>refor</th><th scope=col>cru</th></tr></thead>\n",
       "<tbody>\n",
       "\t<tr><th scope=row>ncep</th><td>1.0000000</td><td>0.9769855</td><td>0.7881722</td></tr>\n",
       "\t<tr><th scope=row>refor</th><td>0.9769855</td><td>1.0000000</td><td>0.7716071</td></tr>\n",
       "\t<tr><th scope=row>cru</th><td>0.7881722</td><td>0.7716071</td><td>1.0000000</td></tr>\n",
       "</tbody>\n",
       "</table>\n",
       "</li>\n",
       "\t<li><table>\n",
       "<thead><tr><th></th><th scope=col>ncep</th><th scope=col>refor</th><th scope=col>cru</th></tr></thead>\n",
       "<tbody>\n",
       "\t<tr><th scope=row>ncep</th><td>1.0000000</td><td>0.9778052</td><td>0.7931098</td></tr>\n",
       "\t<tr><th scope=row>refor</th><td>0.9778052</td><td>1.0000000</td><td>0.7712130</td></tr>\n",
       "\t<tr><th scope=row>cru</th><td>0.7931098</td><td>0.7712130</td><td>1.0000000</td></tr>\n",
       "</tbody>\n",
       "</table>\n",
       "</li>\n",
       "\t<li><table>\n",
       "<thead><tr><th></th><th scope=col>ncep</th><th scope=col>refor</th><th scope=col>cru</th></tr></thead>\n",
       "<tbody>\n",
       "\t<tr><th scope=row>ncep</th><td>1.0000000</td><td>0.9781601</td><td>0.7970368</td></tr>\n",
       "\t<tr><th scope=row>refor</th><td>0.9781601</td><td>1.0000000</td><td>0.7776024</td></tr>\n",
       "\t<tr><th scope=row>cru</th><td>0.7970368</td><td>0.7776024</td><td>1.0000000</td></tr>\n",
       "</tbody>\n",
       "</table>\n",
       "</li>\n",
       "\t<li><table>\n",
       "<thead><tr><th></th><th scope=col>ncep</th><th scope=col>refor</th><th scope=col>cru</th></tr></thead>\n",
       "<tbody>\n",
       "\t<tr><th scope=row>ncep</th><td>1.0000000</td><td>0.9773629</td><td>0.8016292</td></tr>\n",
       "\t<tr><th scope=row>refor</th><td>0.9773629</td><td>1.0000000</td><td>0.7814652</td></tr>\n",
       "\t<tr><th scope=row>cru</th><td>0.8016292</td><td>0.7814652</td><td>1.0000000</td></tr>\n",
       "</tbody>\n",
       "</table>\n",
       "</li>\n",
       "\t<li><table>\n",
       "<thead><tr><th></th><th scope=col>ncep</th><th scope=col>refor</th><th scope=col>cru</th></tr></thead>\n",
       "<tbody>\n",
       "\t<tr><th scope=row>ncep</th><td>1.0000000</td><td>0.9767381</td><td>0.7897648</td></tr>\n",
       "\t<tr><th scope=row>refor</th><td>0.9767381</td><td>1.0000000</td><td>0.7730451</td></tr>\n",
       "\t<tr><th scope=row>cru</th><td>0.7897648</td><td>0.7730451</td><td>1.0000000</td></tr>\n",
       "</tbody>\n",
       "</table>\n",
       "</li>\n",
       "\t<li><table>\n",
       "<thead><tr><th></th><th scope=col>ncep</th><th scope=col>refor</th><th scope=col>cru</th></tr></thead>\n",
       "<tbody>\n",
       "\t<tr><th scope=row>ncep</th><td>1.0000000</td><td>0.9779567</td><td>0.8048439</td></tr>\n",
       "\t<tr><th scope=row>refor</th><td>0.9779567</td><td>1.0000000</td><td>0.7831356</td></tr>\n",
       "\t<tr><th scope=row>cru</th><td>0.8048439</td><td>0.7831356</td><td>1.0000000</td></tr>\n",
       "</tbody>\n",
       "</table>\n",
       "</li>\n",
       "\t<li><table>\n",
       "<thead><tr><th></th><th scope=col>ncep</th><th scope=col>refor</th><th scope=col>cru</th></tr></thead>\n",
       "<tbody>\n",
       "\t<tr><th scope=row>ncep</th><td>1.0000000</td><td>0.9768986</td><td>0.7949311</td></tr>\n",
       "\t<tr><th scope=row>refor</th><td>0.9768986</td><td>1.0000000</td><td>0.7804488</td></tr>\n",
       "\t<tr><th scope=row>cru</th><td>0.7949311</td><td>0.7804488</td><td>1.0000000</td></tr>\n",
       "</tbody>\n",
       "</table>\n",
       "</li>\n",
       "\t<li><table>\n",
       "<thead><tr><th></th><th scope=col>ncep</th><th scope=col>refor</th><th scope=col>cru</th></tr></thead>\n",
       "<tbody>\n",
       "\t<tr><th scope=row>ncep</th><td>1.000000 </td><td>0.9750500</td><td>0.7911210</td></tr>\n",
       "\t<tr><th scope=row>refor</th><td>0.975050 </td><td>1.0000000</td><td>0.7664277</td></tr>\n",
       "\t<tr><th scope=row>cru</th><td>0.791121 </td><td>0.7664277</td><td>1.0000000</td></tr>\n",
       "</tbody>\n",
       "</table>\n",
       "</li>\n",
       "\t<li><table>\n",
       "<thead><tr><th></th><th scope=col>ncep</th><th scope=col>refor</th><th scope=col>cru</th></tr></thead>\n",
       "<tbody>\n",
       "\t<tr><th scope=row>ncep</th><td>1.0000000</td><td>0.9747267</td><td>0.7852356</td></tr>\n",
       "\t<tr><th scope=row>refor</th><td>0.9747267</td><td>1.0000000</td><td>0.7637603</td></tr>\n",
       "\t<tr><th scope=row>cru</th><td>0.7852356</td><td>0.7637603</td><td>1.0000000</td></tr>\n",
       "</tbody>\n",
       "</table>\n",
       "</li>\n",
       "\t<li><table>\n",
       "<thead><tr><th></th><th scope=col>ncep</th><th scope=col>refor</th><th scope=col>cru</th></tr></thead>\n",
       "<tbody>\n",
       "\t<tr><th scope=row>ncep</th><td>1.0000000</td><td>0.9764577</td><td>0.7820794</td></tr>\n",
       "\t<tr><th scope=row>refor</th><td>0.9764577</td><td>1.0000000</td><td>0.7709781</td></tr>\n",
       "\t<tr><th scope=row>cru</th><td>0.7820794</td><td>0.7709781</td><td>1.0000000</td></tr>\n",
       "</tbody>\n",
       "</table>\n",
       "</li>\n",
       "\t<li><table>\n",
       "<thead><tr><th></th><th scope=col>ncep</th><th scope=col>refor</th><th scope=col>cru</th></tr></thead>\n",
       "<tbody>\n",
       "\t<tr><th scope=row>ncep</th><td>1.0000000</td><td>0.9760514</td><td>0.7874310</td></tr>\n",
       "\t<tr><th scope=row>refor</th><td>0.9760514</td><td>1.0000000</td><td>0.7746054</td></tr>\n",
       "\t<tr><th scope=row>cru</th><td>0.7874310</td><td>0.7746054</td><td>1.0000000</td></tr>\n",
       "</tbody>\n",
       "</table>\n",
       "</li>\n",
       "\t<li><table>\n",
       "<thead><tr><th></th><th scope=col>ncep</th><th scope=col>refor</th><th scope=col>cru</th></tr></thead>\n",
       "<tbody>\n",
       "\t<tr><th scope=row>ncep</th><td>1.0000000</td><td>0.9763779</td><td>0.7815705</td></tr>\n",
       "\t<tr><th scope=row>refor</th><td>0.9763779</td><td>1.0000000</td><td>0.7713428</td></tr>\n",
       "\t<tr><th scope=row>cru</th><td>0.7815705</td><td>0.7713428</td><td>1.0000000</td></tr>\n",
       "</tbody>\n",
       "</table>\n",
       "</li>\n",
       "\t<li><table>\n",
       "<thead><tr><th></th><th scope=col>ncep</th><th scope=col>refor</th><th scope=col>cru</th></tr></thead>\n",
       "<tbody>\n",
       "\t<tr><th scope=row>ncep</th><td>1.0000000</td><td>0.9773381</td><td>0.7971175</td></tr>\n",
       "\t<tr><th scope=row>refor</th><td>0.9773381</td><td>1.0000000</td><td>0.7825336</td></tr>\n",
       "\t<tr><th scope=row>cru</th><td>0.7971175</td><td>0.7825336</td><td>1.0000000</td></tr>\n",
       "</tbody>\n",
       "</table>\n",
       "</li>\n",
       "\t<li><table>\n",
       "<thead><tr><th></th><th scope=col>ncep</th><th scope=col>refor</th><th scope=col>cru</th></tr></thead>\n",
       "<tbody>\n",
       "\t<tr><th scope=row>ncep</th><td>1.0000000</td><td>0.9772937</td><td>0.8006832</td></tr>\n",
       "\t<tr><th scope=row>refor</th><td>0.9772937</td><td>1.0000000</td><td>0.7893162</td></tr>\n",
       "\t<tr><th scope=row>cru</th><td>0.8006832</td><td>0.7893162</td><td>1.0000000</td></tr>\n",
       "</tbody>\n",
       "</table>\n",
       "</li>\n",
       "\t<li><table>\n",
       "<thead><tr><th></th><th scope=col>ncep</th><th scope=col>refor</th><th scope=col>cru</th></tr></thead>\n",
       "<tbody>\n",
       "\t<tr><th scope=row>ncep</th><td>1.0000000</td><td>0.977647 </td><td>0.7898436</td></tr>\n",
       "\t<tr><th scope=row>refor</th><td>0.9776470</td><td>1.000000 </td><td>0.7760630</td></tr>\n",
       "\t<tr><th scope=row>cru</th><td>0.7898436</td><td>0.776063 </td><td>1.0000000</td></tr>\n",
       "</tbody>\n",
       "</table>\n",
       "</li>\n",
       "\t<li><table>\n",
       "<thead><tr><th></th><th scope=col>ncep</th><th scope=col>refor</th><th scope=col>cru</th></tr></thead>\n",
       "<tbody>\n",
       "\t<tr><th scope=row>ncep</th><td>1.0000000</td><td>0.9768831</td><td>0.7801348</td></tr>\n",
       "\t<tr><th scope=row>refor</th><td>0.9768831</td><td>1.0000000</td><td>0.7659345</td></tr>\n",
       "\t<tr><th scope=row>cru</th><td>0.7801348</td><td>0.7659345</td><td>1.0000000</td></tr>\n",
       "</tbody>\n",
       "</table>\n",
       "</li>\n",
       "\t<li><table>\n",
       "<thead><tr><th></th><th scope=col>ncep</th><th scope=col>refor</th><th scope=col>cru</th></tr></thead>\n",
       "<tbody>\n",
       "\t<tr><th scope=row>ncep</th><td>1.000000</td><td>0.977111</td><td>0.786045</td></tr>\n",
       "\t<tr><th scope=row>refor</th><td>0.977111</td><td>1.000000</td><td>0.767800</td></tr>\n",
       "\t<tr><th scope=row>cru</th><td>0.786045</td><td>0.767800</td><td>1.000000</td></tr>\n",
       "</tbody>\n",
       "</table>\n",
       "</li>\n",
       "\t<li><table>\n",
       "<thead><tr><th></th><th scope=col>ncep</th><th scope=col>refor</th><th scope=col>cru</th></tr></thead>\n",
       "<tbody>\n",
       "\t<tr><th scope=row>ncep</th><td>1.0000000</td><td>0.9781984</td><td>0.7819945</td></tr>\n",
       "\t<tr><th scope=row>refor</th><td>0.9781984</td><td>1.0000000</td><td>0.7722958</td></tr>\n",
       "\t<tr><th scope=row>cru</th><td>0.7819945</td><td>0.7722958</td><td>1.0000000</td></tr>\n",
       "</tbody>\n",
       "</table>\n",
       "</li>\n",
       "\t<li><table>\n",
       "<thead><tr><th></th><th scope=col>ncep</th><th scope=col>refor</th><th scope=col>cru</th></tr></thead>\n",
       "<tbody>\n",
       "\t<tr><th scope=row>ncep</th><td>1.0000000</td><td>0.9781913</td><td>0.8034501</td></tr>\n",
       "\t<tr><th scope=row>refor</th><td>0.9781913</td><td>1.0000000</td><td>0.7862597</td></tr>\n",
       "\t<tr><th scope=row>cru</th><td>0.8034501</td><td>0.7862597</td><td>1.0000000</td></tr>\n",
       "</tbody>\n",
       "</table>\n",
       "</li>\n",
       "\t<li><table>\n",
       "<thead><tr><th></th><th scope=col>ncep</th><th scope=col>refor</th><th scope=col>cru</th></tr></thead>\n",
       "<tbody>\n",
       "\t<tr><th scope=row>ncep</th><td>1.0000000</td><td>0.9783075</td><td>0.7899218</td></tr>\n",
       "\t<tr><th scope=row>refor</th><td>0.9783075</td><td>1.0000000</td><td>0.7758532</td></tr>\n",
       "\t<tr><th scope=row>cru</th><td>0.7899218</td><td>0.7758532</td><td>1.0000000</td></tr>\n",
       "</tbody>\n",
       "</table>\n",
       "</li>\n",
       "\t<li><table>\n",
       "<thead><tr><th></th><th scope=col>ncep</th><th scope=col>refor</th><th scope=col>cru</th></tr></thead>\n",
       "<tbody>\n",
       "\t<tr><th scope=row>ncep</th><td>1.0000000</td><td>0.9786549</td><td>0.7735941</td></tr>\n",
       "\t<tr><th scope=row>refor</th><td>0.9786549</td><td>1.0000000</td><td>0.7675308</td></tr>\n",
       "\t<tr><th scope=row>cru</th><td>0.7735941</td><td>0.7675308</td><td>1.0000000</td></tr>\n",
       "</tbody>\n",
       "</table>\n",
       "</li>\n",
       "\t<li><table>\n",
       "<thead><tr><th></th><th scope=col>ncep</th><th scope=col>refor</th><th scope=col>cru</th></tr></thead>\n",
       "<tbody>\n",
       "\t<tr><th scope=row>ncep</th><td>1.0000000</td><td>0.9791696</td><td>0.7597437</td></tr>\n",
       "\t<tr><th scope=row>refor</th><td>0.9791696</td><td>1.0000000</td><td>0.7508815</td></tr>\n",
       "\t<tr><th scope=row>cru</th><td>0.7597437</td><td>0.7508815</td><td>1.0000000</td></tr>\n",
       "</tbody>\n",
       "</table>\n",
       "</li>\n",
       "\t<li><table>\n",
       "<thead><tr><th></th><th scope=col>ncep</th><th scope=col>refor</th><th scope=col>cru</th></tr></thead>\n",
       "<tbody>\n",
       "\t<tr><th scope=row>ncep</th><td>1.0000000</td><td>0.9796006</td><td>0.7914297</td></tr>\n",
       "\t<tr><th scope=row>refor</th><td>0.9796006</td><td>1.0000000</td><td>0.7831148</td></tr>\n",
       "\t<tr><th scope=row>cru</th><td>0.7914297</td><td>0.7831148</td><td>1.0000000</td></tr>\n",
       "</tbody>\n",
       "</table>\n",
       "</li>\n",
       "\t<li><table>\n",
       "<thead><tr><th></th><th scope=col>ncep</th><th scope=col>refor</th><th scope=col>cru</th></tr></thead>\n",
       "<tbody>\n",
       "\t<tr><th scope=row>ncep</th><td>1.0000000</td><td>0.9788268</td><td>0.7941034</td></tr>\n",
       "\t<tr><th scope=row>refor</th><td>0.9788268</td><td>1.0000000</td><td>0.7853874</td></tr>\n",
       "\t<tr><th scope=row>cru</th><td>0.7941034</td><td>0.7853874</td><td>1.0000000</td></tr>\n",
       "</tbody>\n",
       "</table>\n",
       "</li>\n",
       "\t<li><table>\n",
       "<thead><tr><th></th><th scope=col>ncep</th><th scope=col>refor</th><th scope=col>cru</th></tr></thead>\n",
       "<tbody>\n",
       "\t<tr><th scope=row>ncep</th><td>1.000000 </td><td>0.9783720</td><td>0.7865530</td></tr>\n",
       "\t<tr><th scope=row>refor</th><td>0.978372 </td><td>1.0000000</td><td>0.7750277</td></tr>\n",
       "\t<tr><th scope=row>cru</th><td>0.786553 </td><td>0.7750277</td><td>1.0000000</td></tr>\n",
       "</tbody>\n",
       "</table>\n",
       "</li>\n",
       "</ol>\n"
      ],
      "text/latex": [
       "\\begin{enumerate}\n",
       "\\item \\begin{tabular}{r|lll}\n",
       "  & ncep & refor & cru\\\\\n",
       "\\hline\n",
       "\tncep & 1.0000000 & 0.9777497 & 0.7965946\\\\\n",
       "\trefor & 0.9777497 & 1.0000000 & 0.7779208\\\\\n",
       "\tcru & 0.7965946 & 0.7779208 & 1.0000000\\\\\n",
       "\\end{tabular}\n",
       "\n",
       "\\item \\begin{tabular}{r|lll}\n",
       "  & ncep & refor & cru\\\\\n",
       "\\hline\n",
       "\tncep & 1.0000000 & 0.9769855 & 0.7881722\\\\\n",
       "\trefor & 0.9769855 & 1.0000000 & 0.7716071\\\\\n",
       "\tcru & 0.7881722 & 0.7716071 & 1.0000000\\\\\n",
       "\\end{tabular}\n",
       "\n",
       "\\item \\begin{tabular}{r|lll}\n",
       "  & ncep & refor & cru\\\\\n",
       "\\hline\n",
       "\tncep & 1.0000000 & 0.9778052 & 0.7931098\\\\\n",
       "\trefor & 0.9778052 & 1.0000000 & 0.7712130\\\\\n",
       "\tcru & 0.7931098 & 0.7712130 & 1.0000000\\\\\n",
       "\\end{tabular}\n",
       "\n",
       "\\item \\begin{tabular}{r|lll}\n",
       "  & ncep & refor & cru\\\\\n",
       "\\hline\n",
       "\tncep & 1.0000000 & 0.9781601 & 0.7970368\\\\\n",
       "\trefor & 0.9781601 & 1.0000000 & 0.7776024\\\\\n",
       "\tcru & 0.7970368 & 0.7776024 & 1.0000000\\\\\n",
       "\\end{tabular}\n",
       "\n",
       "\\item \\begin{tabular}{r|lll}\n",
       "  & ncep & refor & cru\\\\\n",
       "\\hline\n",
       "\tncep & 1.0000000 & 0.9773629 & 0.8016292\\\\\n",
       "\trefor & 0.9773629 & 1.0000000 & 0.7814652\\\\\n",
       "\tcru & 0.8016292 & 0.7814652 & 1.0000000\\\\\n",
       "\\end{tabular}\n",
       "\n",
       "\\item \\begin{tabular}{r|lll}\n",
       "  & ncep & refor & cru\\\\\n",
       "\\hline\n",
       "\tncep & 1.0000000 & 0.9767381 & 0.7897648\\\\\n",
       "\trefor & 0.9767381 & 1.0000000 & 0.7730451\\\\\n",
       "\tcru & 0.7897648 & 0.7730451 & 1.0000000\\\\\n",
       "\\end{tabular}\n",
       "\n",
       "\\item \\begin{tabular}{r|lll}\n",
       "  & ncep & refor & cru\\\\\n",
       "\\hline\n",
       "\tncep & 1.0000000 & 0.9779567 & 0.8048439\\\\\n",
       "\trefor & 0.9779567 & 1.0000000 & 0.7831356\\\\\n",
       "\tcru & 0.8048439 & 0.7831356 & 1.0000000\\\\\n",
       "\\end{tabular}\n",
       "\n",
       "\\item \\begin{tabular}{r|lll}\n",
       "  & ncep & refor & cru\\\\\n",
       "\\hline\n",
       "\tncep & 1.0000000 & 0.9768986 & 0.7949311\\\\\n",
       "\trefor & 0.9768986 & 1.0000000 & 0.7804488\\\\\n",
       "\tcru & 0.7949311 & 0.7804488 & 1.0000000\\\\\n",
       "\\end{tabular}\n",
       "\n",
       "\\item \\begin{tabular}{r|lll}\n",
       "  & ncep & refor & cru\\\\\n",
       "\\hline\n",
       "\tncep & 1.000000  & 0.9750500 & 0.7911210\\\\\n",
       "\trefor & 0.975050  & 1.0000000 & 0.7664277\\\\\n",
       "\tcru & 0.791121  & 0.7664277 & 1.0000000\\\\\n",
       "\\end{tabular}\n",
       "\n",
       "\\item \\begin{tabular}{r|lll}\n",
       "  & ncep & refor & cru\\\\\n",
       "\\hline\n",
       "\tncep & 1.0000000 & 0.9747267 & 0.7852356\\\\\n",
       "\trefor & 0.9747267 & 1.0000000 & 0.7637603\\\\\n",
       "\tcru & 0.7852356 & 0.7637603 & 1.0000000\\\\\n",
       "\\end{tabular}\n",
       "\n",
       "\\item \\begin{tabular}{r|lll}\n",
       "  & ncep & refor & cru\\\\\n",
       "\\hline\n",
       "\tncep & 1.0000000 & 0.9764577 & 0.7820794\\\\\n",
       "\trefor & 0.9764577 & 1.0000000 & 0.7709781\\\\\n",
       "\tcru & 0.7820794 & 0.7709781 & 1.0000000\\\\\n",
       "\\end{tabular}\n",
       "\n",
       "\\item \\begin{tabular}{r|lll}\n",
       "  & ncep & refor & cru\\\\\n",
       "\\hline\n",
       "\tncep & 1.0000000 & 0.9760514 & 0.7874310\\\\\n",
       "\trefor & 0.9760514 & 1.0000000 & 0.7746054\\\\\n",
       "\tcru & 0.7874310 & 0.7746054 & 1.0000000\\\\\n",
       "\\end{tabular}\n",
       "\n",
       "\\item \\begin{tabular}{r|lll}\n",
       "  & ncep & refor & cru\\\\\n",
       "\\hline\n",
       "\tncep & 1.0000000 & 0.9763779 & 0.7815705\\\\\n",
       "\trefor & 0.9763779 & 1.0000000 & 0.7713428\\\\\n",
       "\tcru & 0.7815705 & 0.7713428 & 1.0000000\\\\\n",
       "\\end{tabular}\n",
       "\n",
       "\\item \\begin{tabular}{r|lll}\n",
       "  & ncep & refor & cru\\\\\n",
       "\\hline\n",
       "\tncep & 1.0000000 & 0.9773381 & 0.7971175\\\\\n",
       "\trefor & 0.9773381 & 1.0000000 & 0.7825336\\\\\n",
       "\tcru & 0.7971175 & 0.7825336 & 1.0000000\\\\\n",
       "\\end{tabular}\n",
       "\n",
       "\\item \\begin{tabular}{r|lll}\n",
       "  & ncep & refor & cru\\\\\n",
       "\\hline\n",
       "\tncep & 1.0000000 & 0.9772937 & 0.8006832\\\\\n",
       "\trefor & 0.9772937 & 1.0000000 & 0.7893162\\\\\n",
       "\tcru & 0.8006832 & 0.7893162 & 1.0000000\\\\\n",
       "\\end{tabular}\n",
       "\n",
       "\\item \\begin{tabular}{r|lll}\n",
       "  & ncep & refor & cru\\\\\n",
       "\\hline\n",
       "\tncep & 1.0000000 & 0.977647  & 0.7898436\\\\\n",
       "\trefor & 0.9776470 & 1.000000  & 0.7760630\\\\\n",
       "\tcru & 0.7898436 & 0.776063  & 1.0000000\\\\\n",
       "\\end{tabular}\n",
       "\n",
       "\\item \\begin{tabular}{r|lll}\n",
       "  & ncep & refor & cru\\\\\n",
       "\\hline\n",
       "\tncep & 1.0000000 & 0.9768831 & 0.7801348\\\\\n",
       "\trefor & 0.9768831 & 1.0000000 & 0.7659345\\\\\n",
       "\tcru & 0.7801348 & 0.7659345 & 1.0000000\\\\\n",
       "\\end{tabular}\n",
       "\n",
       "\\item \\begin{tabular}{r|lll}\n",
       "  & ncep & refor & cru\\\\\n",
       "\\hline\n",
       "\tncep & 1.000000 & 0.977111 & 0.786045\\\\\n",
       "\trefor & 0.977111 & 1.000000 & 0.767800\\\\\n",
       "\tcru & 0.786045 & 0.767800 & 1.000000\\\\\n",
       "\\end{tabular}\n",
       "\n",
       "\\item \\begin{tabular}{r|lll}\n",
       "  & ncep & refor & cru\\\\\n",
       "\\hline\n",
       "\tncep & 1.0000000 & 0.9781984 & 0.7819945\\\\\n",
       "\trefor & 0.9781984 & 1.0000000 & 0.7722958\\\\\n",
       "\tcru & 0.7819945 & 0.7722958 & 1.0000000\\\\\n",
       "\\end{tabular}\n",
       "\n",
       "\\item \\begin{tabular}{r|lll}\n",
       "  & ncep & refor & cru\\\\\n",
       "\\hline\n",
       "\tncep & 1.0000000 & 0.9781913 & 0.8034501\\\\\n",
       "\trefor & 0.9781913 & 1.0000000 & 0.7862597\\\\\n",
       "\tcru & 0.8034501 & 0.7862597 & 1.0000000\\\\\n",
       "\\end{tabular}\n",
       "\n",
       "\\item \\begin{tabular}{r|lll}\n",
       "  & ncep & refor & cru\\\\\n",
       "\\hline\n",
       "\tncep & 1.0000000 & 0.9783075 & 0.7899218\\\\\n",
       "\trefor & 0.9783075 & 1.0000000 & 0.7758532\\\\\n",
       "\tcru & 0.7899218 & 0.7758532 & 1.0000000\\\\\n",
       "\\end{tabular}\n",
       "\n",
       "\\item \\begin{tabular}{r|lll}\n",
       "  & ncep & refor & cru\\\\\n",
       "\\hline\n",
       "\tncep & 1.0000000 & 0.9786549 & 0.7735941\\\\\n",
       "\trefor & 0.9786549 & 1.0000000 & 0.7675308\\\\\n",
       "\tcru & 0.7735941 & 0.7675308 & 1.0000000\\\\\n",
       "\\end{tabular}\n",
       "\n",
       "\\item \\begin{tabular}{r|lll}\n",
       "  & ncep & refor & cru\\\\\n",
       "\\hline\n",
       "\tncep & 1.0000000 & 0.9791696 & 0.7597437\\\\\n",
       "\trefor & 0.9791696 & 1.0000000 & 0.7508815\\\\\n",
       "\tcru & 0.7597437 & 0.7508815 & 1.0000000\\\\\n",
       "\\end{tabular}\n",
       "\n",
       "\\item \\begin{tabular}{r|lll}\n",
       "  & ncep & refor & cru\\\\\n",
       "\\hline\n",
       "\tncep & 1.0000000 & 0.9796006 & 0.7914297\\\\\n",
       "\trefor & 0.9796006 & 1.0000000 & 0.7831148\\\\\n",
       "\tcru & 0.7914297 & 0.7831148 & 1.0000000\\\\\n",
       "\\end{tabular}\n",
       "\n",
       "\\item \\begin{tabular}{r|lll}\n",
       "  & ncep & refor & cru\\\\\n",
       "\\hline\n",
       "\tncep & 1.0000000 & 0.9788268 & 0.7941034\\\\\n",
       "\trefor & 0.9788268 & 1.0000000 & 0.7853874\\\\\n",
       "\tcru & 0.7941034 & 0.7853874 & 1.0000000\\\\\n",
       "\\end{tabular}\n",
       "\n",
       "\\item \\begin{tabular}{r|lll}\n",
       "  & ncep & refor & cru\\\\\n",
       "\\hline\n",
       "\tncep & 1.000000  & 0.9783720 & 0.7865530\\\\\n",
       "\trefor & 0.978372  & 1.0000000 & 0.7750277\\\\\n",
       "\tcru & 0.786553  & 0.7750277 & 1.0000000\\\\\n",
       "\\end{tabular}\n",
       "\n",
       "\\end{enumerate}\n"
      ],
      "text/markdown": [
       "1. \n",
       "| <!--/--> | ncep | refor | cru | \n",
       "|---|---|---|\n",
       "| ncep | 1.0000000 | 0.9777497 | 0.7965946 | \n",
       "| refor | 0.9777497 | 1.0000000 | 0.7779208 | \n",
       "| cru | 0.7965946 | 0.7779208 | 1.0000000 | \n",
       "\n",
       "\n",
       "\n",
       "2. \n",
       "| <!--/--> | ncep | refor | cru | \n",
       "|---|---|---|\n",
       "| ncep | 1.0000000 | 0.9769855 | 0.7881722 | \n",
       "| refor | 0.9769855 | 1.0000000 | 0.7716071 | \n",
       "| cru | 0.7881722 | 0.7716071 | 1.0000000 | \n",
       "\n",
       "\n",
       "\n",
       "3. \n",
       "| <!--/--> | ncep | refor | cru | \n",
       "|---|---|---|\n",
       "| ncep | 1.0000000 | 0.9778052 | 0.7931098 | \n",
       "| refor | 0.9778052 | 1.0000000 | 0.7712130 | \n",
       "| cru | 0.7931098 | 0.7712130 | 1.0000000 | \n",
       "\n",
       "\n",
       "\n",
       "4. \n",
       "| <!--/--> | ncep | refor | cru | \n",
       "|---|---|---|\n",
       "| ncep | 1.0000000 | 0.9781601 | 0.7970368 | \n",
       "| refor | 0.9781601 | 1.0000000 | 0.7776024 | \n",
       "| cru | 0.7970368 | 0.7776024 | 1.0000000 | \n",
       "\n",
       "\n",
       "\n",
       "5. \n",
       "| <!--/--> | ncep | refor | cru | \n",
       "|---|---|---|\n",
       "| ncep | 1.0000000 | 0.9773629 | 0.8016292 | \n",
       "| refor | 0.9773629 | 1.0000000 | 0.7814652 | \n",
       "| cru | 0.8016292 | 0.7814652 | 1.0000000 | \n",
       "\n",
       "\n",
       "\n",
       "6. \n",
       "| <!--/--> | ncep | refor | cru | \n",
       "|---|---|---|\n",
       "| ncep | 1.0000000 | 0.9767381 | 0.7897648 | \n",
       "| refor | 0.9767381 | 1.0000000 | 0.7730451 | \n",
       "| cru | 0.7897648 | 0.7730451 | 1.0000000 | \n",
       "\n",
       "\n",
       "\n",
       "7. \n",
       "| <!--/--> | ncep | refor | cru | \n",
       "|---|---|---|\n",
       "| ncep | 1.0000000 | 0.9779567 | 0.8048439 | \n",
       "| refor | 0.9779567 | 1.0000000 | 0.7831356 | \n",
       "| cru | 0.8048439 | 0.7831356 | 1.0000000 | \n",
       "\n",
       "\n",
       "\n",
       "8. \n",
       "| <!--/--> | ncep | refor | cru | \n",
       "|---|---|---|\n",
       "| ncep | 1.0000000 | 0.9768986 | 0.7949311 | \n",
       "| refor | 0.9768986 | 1.0000000 | 0.7804488 | \n",
       "| cru | 0.7949311 | 0.7804488 | 1.0000000 | \n",
       "\n",
       "\n",
       "\n",
       "9. \n",
       "| <!--/--> | ncep | refor | cru | \n",
       "|---|---|---|\n",
       "| ncep | 1.000000  | 0.9750500 | 0.7911210 | \n",
       "| refor | 0.975050  | 1.0000000 | 0.7664277 | \n",
       "| cru | 0.791121  | 0.7664277 | 1.0000000 | \n",
       "\n",
       "\n",
       "\n",
       "10. \n",
       "| <!--/--> | ncep | refor | cru | \n",
       "|---|---|---|\n",
       "| ncep | 1.0000000 | 0.9747267 | 0.7852356 | \n",
       "| refor | 0.9747267 | 1.0000000 | 0.7637603 | \n",
       "| cru | 0.7852356 | 0.7637603 | 1.0000000 | \n",
       "\n",
       "\n",
       "\n",
       "11. \n",
       "| <!--/--> | ncep | refor | cru | \n",
       "|---|---|---|\n",
       "| ncep | 1.0000000 | 0.9764577 | 0.7820794 | \n",
       "| refor | 0.9764577 | 1.0000000 | 0.7709781 | \n",
       "| cru | 0.7820794 | 0.7709781 | 1.0000000 | \n",
       "\n",
       "\n",
       "\n",
       "12. \n",
       "| <!--/--> | ncep | refor | cru | \n",
       "|---|---|---|\n",
       "| ncep | 1.0000000 | 0.9760514 | 0.7874310 | \n",
       "| refor | 0.9760514 | 1.0000000 | 0.7746054 | \n",
       "| cru | 0.7874310 | 0.7746054 | 1.0000000 | \n",
       "\n",
       "\n",
       "\n",
       "13. \n",
       "| <!--/--> | ncep | refor | cru | \n",
       "|---|---|---|\n",
       "| ncep | 1.0000000 | 0.9763779 | 0.7815705 | \n",
       "| refor | 0.9763779 | 1.0000000 | 0.7713428 | \n",
       "| cru | 0.7815705 | 0.7713428 | 1.0000000 | \n",
       "\n",
       "\n",
       "\n",
       "14. \n",
       "| <!--/--> | ncep | refor | cru | \n",
       "|---|---|---|\n",
       "| ncep | 1.0000000 | 0.9773381 | 0.7971175 | \n",
       "| refor | 0.9773381 | 1.0000000 | 0.7825336 | \n",
       "| cru | 0.7971175 | 0.7825336 | 1.0000000 | \n",
       "\n",
       "\n",
       "\n",
       "15. \n",
       "| <!--/--> | ncep | refor | cru | \n",
       "|---|---|---|\n",
       "| ncep | 1.0000000 | 0.9772937 | 0.8006832 | \n",
       "| refor | 0.9772937 | 1.0000000 | 0.7893162 | \n",
       "| cru | 0.8006832 | 0.7893162 | 1.0000000 | \n",
       "\n",
       "\n",
       "\n",
       "16. \n",
       "| <!--/--> | ncep | refor | cru | \n",
       "|---|---|---|\n",
       "| ncep | 1.0000000 | 0.977647  | 0.7898436 | \n",
       "| refor | 0.9776470 | 1.000000  | 0.7760630 | \n",
       "| cru | 0.7898436 | 0.776063  | 1.0000000 | \n",
       "\n",
       "\n",
       "\n",
       "17. \n",
       "| <!--/--> | ncep | refor | cru | \n",
       "|---|---|---|\n",
       "| ncep | 1.0000000 | 0.9768831 | 0.7801348 | \n",
       "| refor | 0.9768831 | 1.0000000 | 0.7659345 | \n",
       "| cru | 0.7801348 | 0.7659345 | 1.0000000 | \n",
       "\n",
       "\n",
       "\n",
       "18. \n",
       "| <!--/--> | ncep | refor | cru | \n",
       "|---|---|---|\n",
       "| ncep | 1.000000 | 0.977111 | 0.786045 | \n",
       "| refor | 0.977111 | 1.000000 | 0.767800 | \n",
       "| cru | 0.786045 | 0.767800 | 1.000000 | \n",
       "\n",
       "\n",
       "\n",
       "19. \n",
       "| <!--/--> | ncep | refor | cru | \n",
       "|---|---|---|\n",
       "| ncep | 1.0000000 | 0.9781984 | 0.7819945 | \n",
       "| refor | 0.9781984 | 1.0000000 | 0.7722958 | \n",
       "| cru | 0.7819945 | 0.7722958 | 1.0000000 | \n",
       "\n",
       "\n",
       "\n",
       "20. \n",
       "| <!--/--> | ncep | refor | cru | \n",
       "|---|---|---|\n",
       "| ncep | 1.0000000 | 0.9781913 | 0.8034501 | \n",
       "| refor | 0.9781913 | 1.0000000 | 0.7862597 | \n",
       "| cru | 0.8034501 | 0.7862597 | 1.0000000 | \n",
       "\n",
       "\n",
       "\n",
       "21. \n",
       "| <!--/--> | ncep | refor | cru | \n",
       "|---|---|---|\n",
       "| ncep | 1.0000000 | 0.9783075 | 0.7899218 | \n",
       "| refor | 0.9783075 | 1.0000000 | 0.7758532 | \n",
       "| cru | 0.7899218 | 0.7758532 | 1.0000000 | \n",
       "\n",
       "\n",
       "\n",
       "22. \n",
       "| <!--/--> | ncep | refor | cru | \n",
       "|---|---|---|\n",
       "| ncep | 1.0000000 | 0.9786549 | 0.7735941 | \n",
       "| refor | 0.9786549 | 1.0000000 | 0.7675308 | \n",
       "| cru | 0.7735941 | 0.7675308 | 1.0000000 | \n",
       "\n",
       "\n",
       "\n",
       "23. \n",
       "| <!--/--> | ncep | refor | cru | \n",
       "|---|---|---|\n",
       "| ncep | 1.0000000 | 0.9791696 | 0.7597437 | \n",
       "| refor | 0.9791696 | 1.0000000 | 0.7508815 | \n",
       "| cru | 0.7597437 | 0.7508815 | 1.0000000 | \n",
       "\n",
       "\n",
       "\n",
       "24. \n",
       "| <!--/--> | ncep | refor | cru | \n",
       "|---|---|---|\n",
       "| ncep | 1.0000000 | 0.9796006 | 0.7914297 | \n",
       "| refor | 0.9796006 | 1.0000000 | 0.7831148 | \n",
       "| cru | 0.7914297 | 0.7831148 | 1.0000000 | \n",
       "\n",
       "\n",
       "\n",
       "25. \n",
       "| <!--/--> | ncep | refor | cru | \n",
       "|---|---|---|\n",
       "| ncep | 1.0000000 | 0.9788268 | 0.7941034 | \n",
       "| refor | 0.9788268 | 1.0000000 | 0.7853874 | \n",
       "| cru | 0.7941034 | 0.7853874 | 1.0000000 | \n",
       "\n",
       "\n",
       "\n",
       "26. \n",
       "| <!--/--> | ncep | refor | cru | \n",
       "|---|---|---|\n",
       "| ncep | 1.000000  | 0.9783720 | 0.7865530 | \n",
       "| refor | 0.978372  | 1.0000000 | 0.7750277 | \n",
       "| cru | 0.786553  | 0.7750277 | 1.0000000 | \n",
       "\n",
       "\n",
       "\n",
       "\n",
       "\n"
      ],
      "text/plain": [
       "[[1]]\n",
       "           ncep     refor       cru\n",
       "ncep  1.0000000 0.9777497 0.7965946\n",
       "refor 0.9777497 1.0000000 0.7779208\n",
       "cru   0.7965946 0.7779208 1.0000000\n",
       "\n",
       "[[2]]\n",
       "           ncep     refor       cru\n",
       "ncep  1.0000000 0.9769855 0.7881722\n",
       "refor 0.9769855 1.0000000 0.7716071\n",
       "cru   0.7881722 0.7716071 1.0000000\n",
       "\n",
       "[[3]]\n",
       "           ncep     refor       cru\n",
       "ncep  1.0000000 0.9778052 0.7931098\n",
       "refor 0.9778052 1.0000000 0.7712130\n",
       "cru   0.7931098 0.7712130 1.0000000\n",
       "\n",
       "[[4]]\n",
       "           ncep     refor       cru\n",
       "ncep  1.0000000 0.9781601 0.7970368\n",
       "refor 0.9781601 1.0000000 0.7776024\n",
       "cru   0.7970368 0.7776024 1.0000000\n",
       "\n",
       "[[5]]\n",
       "           ncep     refor       cru\n",
       "ncep  1.0000000 0.9773629 0.8016292\n",
       "refor 0.9773629 1.0000000 0.7814652\n",
       "cru   0.8016292 0.7814652 1.0000000\n",
       "\n",
       "[[6]]\n",
       "           ncep     refor       cru\n",
       "ncep  1.0000000 0.9767381 0.7897648\n",
       "refor 0.9767381 1.0000000 0.7730451\n",
       "cru   0.7897648 0.7730451 1.0000000\n",
       "\n",
       "[[7]]\n",
       "           ncep     refor       cru\n",
       "ncep  1.0000000 0.9779567 0.8048439\n",
       "refor 0.9779567 1.0000000 0.7831356\n",
       "cru   0.8048439 0.7831356 1.0000000\n",
       "\n",
       "[[8]]\n",
       "           ncep     refor       cru\n",
       "ncep  1.0000000 0.9768986 0.7949311\n",
       "refor 0.9768986 1.0000000 0.7804488\n",
       "cru   0.7949311 0.7804488 1.0000000\n",
       "\n",
       "[[9]]\n",
       "          ncep     refor       cru\n",
       "ncep  1.000000 0.9750500 0.7911210\n",
       "refor 0.975050 1.0000000 0.7664277\n",
       "cru   0.791121 0.7664277 1.0000000\n",
       "\n",
       "[[10]]\n",
       "           ncep     refor       cru\n",
       "ncep  1.0000000 0.9747267 0.7852356\n",
       "refor 0.9747267 1.0000000 0.7637603\n",
       "cru   0.7852356 0.7637603 1.0000000\n",
       "\n",
       "[[11]]\n",
       "           ncep     refor       cru\n",
       "ncep  1.0000000 0.9764577 0.7820794\n",
       "refor 0.9764577 1.0000000 0.7709781\n",
       "cru   0.7820794 0.7709781 1.0000000\n",
       "\n",
       "[[12]]\n",
       "           ncep     refor       cru\n",
       "ncep  1.0000000 0.9760514 0.7874310\n",
       "refor 0.9760514 1.0000000 0.7746054\n",
       "cru   0.7874310 0.7746054 1.0000000\n",
       "\n",
       "[[13]]\n",
       "           ncep     refor       cru\n",
       "ncep  1.0000000 0.9763779 0.7815705\n",
       "refor 0.9763779 1.0000000 0.7713428\n",
       "cru   0.7815705 0.7713428 1.0000000\n",
       "\n",
       "[[14]]\n",
       "           ncep     refor       cru\n",
       "ncep  1.0000000 0.9773381 0.7971175\n",
       "refor 0.9773381 1.0000000 0.7825336\n",
       "cru   0.7971175 0.7825336 1.0000000\n",
       "\n",
       "[[15]]\n",
       "           ncep     refor       cru\n",
       "ncep  1.0000000 0.9772937 0.8006832\n",
       "refor 0.9772937 1.0000000 0.7893162\n",
       "cru   0.8006832 0.7893162 1.0000000\n",
       "\n",
       "[[16]]\n",
       "           ncep    refor       cru\n",
       "ncep  1.0000000 0.977647 0.7898436\n",
       "refor 0.9776470 1.000000 0.7760630\n",
       "cru   0.7898436 0.776063 1.0000000\n",
       "\n",
       "[[17]]\n",
       "           ncep     refor       cru\n",
       "ncep  1.0000000 0.9768831 0.7801348\n",
       "refor 0.9768831 1.0000000 0.7659345\n",
       "cru   0.7801348 0.7659345 1.0000000\n",
       "\n",
       "[[18]]\n",
       "          ncep    refor      cru\n",
       "ncep  1.000000 0.977111 0.786045\n",
       "refor 0.977111 1.000000 0.767800\n",
       "cru   0.786045 0.767800 1.000000\n",
       "\n",
       "[[19]]\n",
       "           ncep     refor       cru\n",
       "ncep  1.0000000 0.9781984 0.7819945\n",
       "refor 0.9781984 1.0000000 0.7722958\n",
       "cru   0.7819945 0.7722958 1.0000000\n",
       "\n",
       "[[20]]\n",
       "           ncep     refor       cru\n",
       "ncep  1.0000000 0.9781913 0.8034501\n",
       "refor 0.9781913 1.0000000 0.7862597\n",
       "cru   0.8034501 0.7862597 1.0000000\n",
       "\n",
       "[[21]]\n",
       "           ncep     refor       cru\n",
       "ncep  1.0000000 0.9783075 0.7899218\n",
       "refor 0.9783075 1.0000000 0.7758532\n",
       "cru   0.7899218 0.7758532 1.0000000\n",
       "\n",
       "[[22]]\n",
       "           ncep     refor       cru\n",
       "ncep  1.0000000 0.9786549 0.7735941\n",
       "refor 0.9786549 1.0000000 0.7675308\n",
       "cru   0.7735941 0.7675308 1.0000000\n",
       "\n",
       "[[23]]\n",
       "           ncep     refor       cru\n",
       "ncep  1.0000000 0.9791696 0.7597437\n",
       "refor 0.9791696 1.0000000 0.7508815\n",
       "cru   0.7597437 0.7508815 1.0000000\n",
       "\n",
       "[[24]]\n",
       "           ncep     refor       cru\n",
       "ncep  1.0000000 0.9796006 0.7914297\n",
       "refor 0.9796006 1.0000000 0.7831148\n",
       "cru   0.7914297 0.7831148 1.0000000\n",
       "\n",
       "[[25]]\n",
       "           ncep     refor       cru\n",
       "ncep  1.0000000 0.9788268 0.7941034\n",
       "refor 0.9788268 1.0000000 0.7853874\n",
       "cru   0.7941034 0.7853874 1.0000000\n",
       "\n",
       "[[26]]\n",
       "          ncep     refor       cru\n",
       "ncep  1.000000 0.9783720 0.7865530\n",
       "refor 0.978372 1.0000000 0.7750277\n",
       "cru   0.786553 0.7750277 1.0000000\n"
      ]
     },
     "metadata": {},
     "output_type": "display_data"
    }
   ],
   "source": [
    "lapply(pm_temp, function(x) cor(x[,.(ncep, refor, cru)]))"
   ]
  },
  {
   "cell_type": "code",
   "execution_count": 273,
   "metadata": {
    "collapsed": true
   },
   "outputs": [],
   "source": [
    "#combine all the temps\n",
    "pm_temp_all = rbindlist(pm_temp)"
   ]
  },
  {
   "cell_type": "code",
   "execution_count": 276,
   "metadata": {
    "collapsed": false
   },
   "outputs": [
    {
     "data": {
      "text/html": [
       "<table>\n",
       "<thead><tr><th></th><th scope=col>ncep</th><th scope=col>refor</th><th scope=col>cru</th></tr></thead>\n",
       "<tbody>\n",
       "\t<tr><th scope=row>ncep</th><td>1.0000000</td><td>0.9774444</td><td>0.7893380</td></tr>\n",
       "\t<tr><th scope=row>refor</th><td>0.9774444</td><td>1.0000000</td><td>0.7745351</td></tr>\n",
       "\t<tr><th scope=row>cru</th><td>0.7893380</td><td>0.7745351</td><td>1.0000000</td></tr>\n",
       "</tbody>\n",
       "</table>\n"
      ],
      "text/latex": [
       "\\begin{tabular}{r|lll}\n",
       "  & ncep & refor & cru\\\\\n",
       "\\hline\n",
       "\tncep & 1.0000000 & 0.9774444 & 0.7893380\\\\\n",
       "\trefor & 0.9774444 & 1.0000000 & 0.7745351\\\\\n",
       "\tcru & 0.7893380 & 0.7745351 & 1.0000000\\\\\n",
       "\\end{tabular}\n"
      ],
      "text/markdown": [
       "\n",
       "| <!--/--> | ncep | refor | cru | \n",
       "|---|---|---|\n",
       "| ncep | 1.0000000 | 0.9774444 | 0.7893380 | \n",
       "| refor | 0.9774444 | 1.0000000 | 0.7745351 | \n",
       "| cru | 0.7893380 | 0.7745351 | 1.0000000 | \n",
       "\n",
       "\n"
      ],
      "text/plain": [
       "      ncep      refor     cru      \n",
       "ncep  1.0000000 0.9774444 0.7893380\n",
       "refor 0.9774444 1.0000000 0.7745351\n",
       "cru   0.7893380 0.7745351 1.0000000"
      ]
     },
     "metadata": {},
     "output_type": "display_data"
    }
   ],
   "source": [
    "cor(pm_temp_all[,.(ncep, refor, cru)])"
   ]
  },
  {
   "cell_type": "code",
   "execution_count": 284,
   "metadata": {
    "collapsed": false
   },
   "outputs": [
    {
     "data": {
      "text/html": [
       "<table>\n",
       "<thead><tr><th scope=col>x</th><th scope=col>y</th><th scope=col>pop_mask</th><th scope=col>month</th><th scope=col>cru</th><th scope=col>ncep</th><th scope=col>refor</th><th scope=col>the_year</th></tr></thead>\n",
       "<tbody>\n",
       "\t<tr><td>18.25    </td><td>69.75    </td><td>TRUE     </td><td>1        </td><td>-6.4     </td><td>-26.37200</td><td>-28.80899</td><td>1990     </td></tr>\n",
       "\t<tr><td>18.75    </td><td>69.75    </td><td>TRUE     </td><td>1        </td><td>-5.6     </td><td>-26.55319</td><td>-29.54816</td><td>1990     </td></tr>\n",
       "\t<tr><td>19.25    </td><td>69.75    </td><td>TRUE     </td><td>1        </td><td>-7.3     </td><td>-26.73437</td><td>-30.08942</td><td>1990     </td></tr>\n",
       "</tbody>\n",
       "</table>\n"
      ],
      "text/latex": [
       "\\begin{tabular}{r|llllllll}\n",
       " x & y & pop\\_mask & month & cru & ncep & refor & the\\_year\\\\\n",
       "\\hline\n",
       "\t 18.25     & 69.75     & TRUE      & 1         & -6.4      & -26.37200 & -28.80899 & 1990     \\\\\n",
       "\t 18.75     & 69.75     & TRUE      & 1         & -5.6      & -26.55319 & -29.54816 & 1990     \\\\\n",
       "\t 19.25     & 69.75     & TRUE      & 1         & -7.3      & -26.73437 & -30.08942 & 1990     \\\\\n",
       "\\end{tabular}\n"
      ],
      "text/markdown": [
       "\n",
       "x | y | pop_mask | month | cru | ncep | refor | the_year | \n",
       "|---|---|---|\n",
       "| 18.25     | 69.75     | TRUE      | 1         | -6.4      | -26.37200 | -28.80899 | 1990      | \n",
       "| 18.75     | 69.75     | TRUE      | 1         | -5.6      | -26.55319 | -29.54816 | 1990      | \n",
       "| 19.25     | 69.75     | TRUE      | 1         | -7.3      | -26.73437 | -30.08942 | 1990      | \n",
       "\n",
       "\n"
      ],
      "text/plain": [
       "  x     y     pop_mask month cru  ncep      refor     the_year\n",
       "1 18.25 69.75 TRUE     1     -6.4 -26.37200 -28.80899 1990    \n",
       "2 18.75 69.75 TRUE     1     -5.6 -26.55319 -29.54816 1990    \n",
       "3 19.25 69.75 TRUE     1     -7.3 -26.73437 -30.08942 1990    "
      ]
     },
     "metadata": {},
     "output_type": "display_data"
    }
   ],
   "source": [
    "pm_temp_all[1:3,]"
   ]
  },
  {
   "cell_type": "code",
   "execution_count": 285,
   "metadata": {
    "collapsed": false
   },
   "outputs": [
    {
     "data": {
      "text/html": [
       "<ol class=list-inline>\n",
       "\t<li>'y1990m01'</li>\n",
       "\t<li>'y1991m01'</li>\n",
       "\t<li>'y1992m01'</li>\n",
       "\t<li>'y1993m01'</li>\n",
       "\t<li>'y1994m01'</li>\n",
       "\t<li>'y1995m01'</li>\n",
       "\t<li>'y1996m01'</li>\n",
       "\t<li>'y1997m01'</li>\n",
       "\t<li>'y1998m01'</li>\n",
       "\t<li>'y1999m01'</li>\n",
       "</ol>\n"
      ],
      "text/latex": [
       "\\begin{enumerate*}\n",
       "\\item 'y1990m01'\n",
       "\\item 'y1991m01'\n",
       "\\item 'y1992m01'\n",
       "\\item 'y1993m01'\n",
       "\\item 'y1994m01'\n",
       "\\item 'y1995m01'\n",
       "\\item 'y1996m01'\n",
       "\\item 'y1997m01'\n",
       "\\item 'y1998m01'\n",
       "\\item 'y1999m01'\n",
       "\\end{enumerate*}\n"
      ],
      "text/markdown": [
       "1. 'y1990m01'\n",
       "2. 'y1991m01'\n",
       "3. 'y1992m01'\n",
       "4. 'y1993m01'\n",
       "5. 'y1994m01'\n",
       "6. 'y1995m01'\n",
       "7. 'y1996m01'\n",
       "8. 'y1997m01'\n",
       "9. 'y1998m01'\n",
       "10. 'y1999m01'\n",
       "\n",
       "\n"
      ],
      "text/plain": [
       " [1] \"y1990m01\" \"y1991m01\" \"y1992m01\" \"y1993m01\" \"y1994m01\" \"y1995m01\"\n",
       " [7] \"y1996m01\" \"y1997m01\" \"y1998m01\" \"y1999m01\""
      ]
     },
     "metadata": {},
     "output_type": "display_data"
    }
   ],
   "source": [
    "names(refor_re)[1:10]"
   ]
  },
  {
   "cell_type": "code",
   "execution_count": 286,
   "metadata": {
    "collapsed": false
   },
   "outputs": [
    {
     "data": {
      "image/png": "[encoded data removed]",
      "text/plain": [
       "Plot with title “”"
      ]
     },
     "metadata": {},
     "output_type": "display_data"
    }
   ],
   "source": [
    "plot(refor_re[['y1990m01']])"
   ]
  },
  {
   "cell_type": "code",
   "execution_count": 288,
   "metadata": {
    "collapsed": false
   },
   "outputs": [
    {
     "data": {
      "text/html": [
       "<ol class=list-inline>\n",
       "\t<li>-28.8089901795506</li>\n",
       "\t<li>-29.5481561881533</li>\n",
       "\t<li>-30.0894242399994</li>\n",
       "</ol>\n"
      ],
      "text/latex": [
       "\\begin{enumerate*}\n",
       "\\item -28.8089901795506\n",
       "\\item -29.5481561881533\n",
       "\\item -30.0894242399994\n",
       "\\end{enumerate*}\n"
      ],
      "text/markdown": [
       "1. -28.8089901795506\n",
       "2. -29.5481561881533\n",
       "3. -30.0894242399994\n",
       "\n",
       "\n"
      ],
      "text/plain": [
       "[1] -28.80899 -29.54816 -30.08942"
      ]
     },
     "metadata": {},
     "output_type": "display_data"
    }
   ],
   "source": [
    "extract(refor_re[['y1990m01']],pm_temp_all[1:3,.(x,y)])"
   ]
  },
  {
   "cell_type": "code",
   "execution_count": 289,
   "metadata": {
    "collapsed": false
   },
   "outputs": [
    {
     "name": "stderr",
     "output_type": "stream",
     "text": [
      "Warning message in file(fn, \"rb\"):\n",
      "“cannot open file '/tmp/RtmpjCwANz/raster/r_tmp_2017-01-03_103529_44607_75736.gri': No such file or directory”"
     ]
    },
    {
     "ename": "ERROR",
     "evalue": "Error in file(fn, \"rb\"): cannot open the connection\n",
     "output_type": "error",
     "traceback": [
      "Error in file(fn, \"rb\"): cannot open the connection\nTraceback:\n",
      "1. extract(cru[[\"y1990m01\"]], pm_temp_all[1:3, .(x, y)])",
      "2. extract(cru[[\"y1990m01\"]], pm_temp_all[1:3, .(x, y)])",
      "3. .xyValues(x, as.matrix(y), ...)",
      "4. .cellValues(object, cells, layer = layer, nl = nl)",
      "5. .readCells(x, cells, 1)",
      "6. .readCellsRaster(x, uniquecells, layers)",
      "7. readStart(x)",
      "8. readStart(x)",
      "9. .openConnection(x, ...)",
      "10. file(fn, \"rb\")"
     ]
    }
   ],
   "source": [
    "extract(cru[['y1990m01']],pm_temp_all[1:3,.(x,y)])"
   ]
  },
  {
   "cell_type": "code",
   "execution_count": null,
   "metadata": {
    "collapsed": true
   },
   "outputs": [],
   "source": []
  }
 ],
 "metadata": {
  "anaconda-cloud": {},
  "kernelspec": {
   "display_name": "R",
   "language": "R",
   "name": "ir"
  },
  "language_info": {
   "codemirror_mode": "r",
   "file_extension": ".r",
   "mimetype": "text/x-r-source",
   "name": "R",
   "pygments_lexer": "r",
   "version": "3.3.1"
  }
 },
 "nbformat": 4,
 "nbformat_minor": 1
}
