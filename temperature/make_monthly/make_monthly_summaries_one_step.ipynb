{
 "cells": [
  {
   "cell_type": "code",
   "execution_count": 3,
   "metadata": {
    "collapsed": false
   },
   "outputs": [
    {
     "ename": "ERROR",
     "evalue": "Error in library(package, character.only = TRUE): there is no package called ‘raster’\n",
     "output_type": "error",
     "traceback": [
      "Error in library(package, character.only = TRUE): there is no package called ‘raster’\nTraceback:\n",
      "1. library(package, character.only = TRUE)   # at line 6 of file <text>",
      "2. stop(txt, domain = NA)"
     ]
    }
   ],
   "source": [
    "#load libraries\n",
    "#temper_lib = '/home/j/temp/dccasey/temperature/packages/'\n",
    "#.libpaths(temper_lib)\n",
    "package_list <- c('raster', 'data.table','ncdf4')\n",
    "for(package in package_list) {\n",
    "  library(package, character.only=TRUE)\n",
    "}"
   ]
  },
  {
   "cell_type": "code",
   "execution_count": null,
   "metadata": {
    "collapsed": true
   },
   "outputs": [],
   "source": []
  }
 ],
 "metadata": {
  "anaconda-cloud": {},
  "kernelspec": {
   "display_name": "R",
   "language": "R",
   "name": "ir"
  },
  "language_info": {
   "codemirror_mode": "r",
   "file_extension": ".r",
   "mimetype": "text/x-r-source",
   "name": "R",
   "pygments_lexer": "r",
   "version": "3.3.1"
  }
 },
 "nbformat": 4,
 "nbformat_minor": 1
}
