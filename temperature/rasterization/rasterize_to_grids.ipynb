{
 "cells": [
  {
   "cell_type": "code",
   "execution_count": 1,
   "metadata": {
    "collapsed": true
   },
   "outputs": [],
   "source": [
    "#set up smart sensing of os\n",
    "if(Sys.info()[1]=='Windows'){\n",
    "  j = \"J:/\"\n",
    "} else{\n",
    "  j = '/home/j/'\n",
    "}\n",
    "options(scipen=999)"
   ]
  },
  {
   "cell_type": "code",
   "execution_count": 2,
   "metadata": {
    "collapsed": false
   },
   "outputs": [
    {
     "name": "stderr",
     "output_type": "stream",
     "text": [
      "rgdal: version: 1.2-4, (SVN revision 643)\n",
      " Geospatial Data Abstraction Library extensions to R successfully loaded\n",
      " Loaded GDAL runtime: GDAL 1.7.3, released 2010/11/10\n",
      " Path to GDAL shared files: /usr/share/gdal\n",
      " GDAL does not use iconv for recoding strings.\n",
      " Loaded PROJ.4 runtime: Rel. 4.7.1, 23 September 2009, [PJ_VERSION: 470]\n",
      " Path to PROJ.4 shared files: (autodetected)\n",
      " Linking to sp version: 1.2-3 \n",
      "\n",
      "Attaching package: ‘data.table’\n",
      "\n",
      "The following object is masked from ‘package:raster’:\n",
      "\n",
      "    shift\n",
      "\n"
     ]
    }
   ],
   "source": [
    "#load libraries\n",
    "pack_lib = '/home/j/temp/dccasey/temperature/packages/'\n",
    ".libPaths(pack_lib)\n",
    "library('parallel')\n",
    "library('sp')\n",
    "library('rgdal', lib.loc = '/home/j/temp/geospatial/packages')\n",
    "for(ppp in c('raster','ncdf4','data.table')){\n",
    "  library(ppp, lib.loc = pack_lib, character.only =T)\n",
    "}"
   ]
  },
  {
   "cell_type": "code",
   "execution_count": 21,
   "metadata": {
    "collapsed": true
   },
   "outputs": [],
   "source": [
    "source(paste0(j,'/temp/central_comp/libraries/current/r/get_location_metadata.R'))"
   ]
  },
  {
   "cell_type": "code",
   "execution_count": 3,
   "metadata": {
    "collapsed": true
   },
   "outputs": [],
   "source": [
    "#grid options\n",
    "grids = c('cru_spline_interp', 'era_mean')\n"
   ]
  },
  {
   "cell_type": "code",
   "execution_count": 6,
   "metadata": {
    "collapsed": false
   },
   "outputs": [
    {
     "name": "stdout",
     "output_type": "stream",
     "text": [
      "OGR data source with driver: ESRI Shapefile \n",
      "Source: \"/home/j//DATA/SHAPE_FILES/GBD_geographies/master/GBD_2016/master/shapefiles\", layer: \"GBD2016_analysis_final\"\n",
      "with 747 features\n",
      "It has 10 fields\n"
     ]
    }
   ],
   "source": [
    "#load gbd shapefile\n",
    "gbd_shape = readOGR(paste0(j,'/DATA/SHAPE_FILES/GBD_geographies/master/GBD_2016/master/shapefiles'), 'GBD2016_analysis_final')"
   ]
  },
  {
   "cell_type": "code",
   "execution_count": 22,
   "metadata": {
    "collapsed": true
   },
   "outputs": [],
   "source": [
    "#load list of cod locations\n",
    "cod_locs = get_location_metadata(location_set_id = 35)"
   ]
  },
  {
   "cell_type": "code",
   "execution_count": 14,
   "metadata": {
    "collapsed": false
   },
   "outputs": [],
   "source": [
    "ll_locs = as.vector(cod_locs[is_estimate == 1,location_id])\n"
   ]
  },
  {
   "cell_type": "code",
   "execution_count": 18,
   "metadata": {
    "collapsed": true
   },
   "outputs": [],
   "source": [
    "output.dir = paste0(j,'/temp/dccasey/temperature/data/rasterized_shapefiles/')"
   ]
  },
  {
   "cell_type": "code",
   "execution_count": 20,
   "metadata": {
    "collapsed": false
   },
   "outputs": [
    {
     "name": "stdout",
     "output_type": "stream",
     "text": [
      "[1] \"cru_spline_interp\"\n",
      "[1] \"era_mean\"\n"
     ]
    }
   ],
   "source": [
    "for(ggg in grids){\n",
    "    print(ggg)\n",
    "    data.dir = paste0('/share/geospatial/temperature/estimates/',ggg,'/')\n",
    "    temp_grid = brick(paste0(data.dir,list.files(path = data.dir, pattern = as.character(2000))))[[1]]\n",
    "    \n",
    "    #check for rotation\n",
    "    rotate_me = ifelse(extent(temp_grid)[2] >183, T, F)\n",
    "    if(rotate_me) temp_grid = rotate(temp_grid)\n",
    "        \n",
    "    #begin rasterizing\n",
    "    prefix = substr(ggg, 1, 3)\n",
    "    rasterize(gbd_shape[gbd_shape$level == 3,], temp_grid, 'loc_id', filename = paste0(output.dir,prefix,'admin0.tif'))\n",
    "    rasterize(gbd_shape[gbd_shape$loc_id %in% ll_locs,], temp_grid, 'loc_id', filename = paste0(output.dir,prefix,'isestimate.tif'))\n",
    "}"
   ]
  },
  {
   "cell_type": "code",
   "execution_count": null,
   "metadata": {
    "collapsed": true
   },
   "outputs": [],
   "source": []
  }
 ],
 "metadata": {
  "anaconda-cloud": {},
  "kernelspec": {
   "display_name": "R",
   "language": "R",
   "name": "ir"
  },
  "language_info": {
   "codemirror_mode": "r",
   "file_extension": ".r",
   "mimetype": "text/x-r-source",
   "name": "R",
   "pygments_lexer": "r",
   "version": "3.3.1"
  }
 },
 "nbformat": 4,
 "nbformat_minor": 1
}
